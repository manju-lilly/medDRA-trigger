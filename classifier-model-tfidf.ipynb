{
 "cells": [
  {
   "cell_type": "markdown",
   "metadata": {},
   "source": [
    "## Classifier Model - Tfidf Vectorizer  "
   ]
  },
  {
   "cell_type": "code",
   "execution_count": 3,
   "metadata": {},
   "outputs": [],
   "source": [
    "import os\n",
    "import pandas as pd\n",
    "import matplotlib.pyplot as plt\n",
    "import warnings\n",
    "warnings.filterwarnings(\"ignore\")\n",
    "\n",
    "from distutils.version import LooseVersion as Version\n",
    "from sklearn import __version__ as sklearn_version\n",
    "\n",
    "if Version(sklearn_version) < '0.18':\n",
    "    from sklearn.cross_validation import train_test_split\n",
    "else:\n",
    "    from sklearn.model_selection import train_test_split\n",
    "\n",
    "%matplotlib inline"
   ]
  },
  {
   "cell_type": "code",
   "execution_count": 5,
   "metadata": {},
   "outputs": [],
   "source": [
    "data_file_path = os.path.join(\"data\",\"Master List of Preferred Term v21 2020_03_19 (1).xlsx\")\n",
    "excel_file_obj = pd.ExcelFile(data_file_path)\n",
    "df = excel_file_obj.parse(\"Compiled\")"
   ]
  },
  {
   "cell_type": "code",
   "execution_count": 6,
   "metadata": {
    "tags": []
   },
   "outputs": [
    {
     "output_type": "stream",
     "name": "stdout",
     "text": "No of rows in the dataset:(1168, 3)\n"
    }
   ],
   "source": [
    "print(f\"No of rows in the dataset:{df.shape}\")"
   ]
  },
  {
   "cell_type": "code",
   "execution_count": 7,
   "metadata": {
    "tags": []
   },
   "outputs": [
    {
     "output_type": "stream",
     "name": "stderr",
     "text": "[nltk_data] Downloading package stopwords to\n[nltk_data]     C:\\Users\\c299342\\AppData\\Roaming\\nltk_data...\n[nltk_data]   Unzipping corpora\\stopwords.zip.\n"
    }
   ],
   "source": [
    "## Preprocessing (not sure if this is required) - removing punctuation, removing stopwords, conversion to lowercase, stemming (reduce the number of inflectional form of words appearing in the text) \n",
    "\n",
    "import nltk\n",
    "nltk.download(\"stopwords\")\n",
    "\n",
    "from nltk.corpus import stopwords\n",
    "from nltk.stem import PorterStemmer\n",
    "\n",
    "import re\n",
    "\n",
    "stemmer = PorterStemmer()\n",
    "words = stopwords.words(\"english\")\n",
    "\n",
    "df['Processed-MedDRA Preferred Term (PT)'] = df['MedDRA Preferred Term (PT)'].apply(lambda x: \" \".join([stemmer.stem(i) for i in re.sub(\"[^a-zA-Z]\", \" \", x).split() if i not in words]).lower())"
   ]
  },
  {
   "cell_type": "code",
   "execution_count": 9,
   "metadata": {},
   "outputs": [],
   "source": [
    "## Split the data"
   ]
  },
  {
   "cell_type": "code",
   "execution_count": 13,
   "metadata": {
    "tags": []
   },
   "outputs": [
    {
     "output_type": "stream",
     "name": "stdout",
     "text": "(1109,) (59,)\n"
    }
   ],
   "source": [
    "label = df[\"Endpoint\"]\n",
    "split_percent = 0.05\n",
    "X_train, X_test, y_train, y_test = train_test_split(df['Processed-MedDRA Preferred Term (PT)'], label, test_size=split_percent, random_state = 100)\n",
    "\n",
    "print(X_train.shape, X_test.shape)"
   ]
  },
  {
   "cell_type": "code",
   "execution_count": 11,
   "metadata": {},
   "outputs": [
    {
     "output_type": "execute_result",
     "data": {
      "text/plain": "0                                Serious Arrhythmias\n1                                Serious Arrhythmias\n2                                Serious Arrhythmias\n3                                Serious Arrhythmias\n4                                Serious Arrhythmias\n                            ...                     \n1163    Venous/Pulmonary Artery Thromboembolic Event\n1164    Venous/Pulmonary Artery Thromboembolic Event\n1165    Venous/Pulmonary Artery Thromboembolic Event\n1166    Venous/Pulmonary Artery Thromboembolic Event\n1167    Venous/Pulmonary Artery Thromboembolic Event\nName: Endpoint, Length: 1168, dtype: object"
     },
     "metadata": {},
     "execution_count": 11
    }
   ],
   "source": []
  },
  {
   "cell_type": "code",
   "execution_count": null,
   "metadata": {},
   "outputs": [],
   "source": []
  }
 ],
 "metadata": {
  "language_info": {
   "codemirror_mode": {
    "name": "ipython",
    "version": 3
   },
   "file_extension": ".py",
   "mimetype": "text/x-python",
   "name": "python",
   "nbconvert_exporter": "python",
   "pygments_lexer": "ipython3",
   "version": "3.8.2-final"
  },
  "orig_nbformat": 2,
  "kernelspec": {
   "name": "python38264bitf82d1698d65d43f294526b53e55eb602",
   "display_name": "Python 3.8.2 64-bit"
  }
 },
 "nbformat": 4,
 "nbformat_minor": 2
}