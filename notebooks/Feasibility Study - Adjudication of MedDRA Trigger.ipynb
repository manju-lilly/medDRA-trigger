{
 "cells": [
  {
   "cell_type": "markdown",
   "metadata": {},
   "source": [
    "## Feasibility Study - Adjudication of MedDRA Trigger"
   ]
  },
  {
   "cell_type": "markdown",
   "metadata": {},
   "source": [
    "### Machine Learning Classifier - Results\n",
    "\n",
    "<table style=\"border:1px solid;\">\n",
    "    <thead style=\"border:1px solid;\">\n",
    "        <tr>\n",
    "            <th> Classifier </th> \n",
    "            <th> BoW feature extraction method </th>\n",
    "            <th> TF-IDF feature extraction method </th>\n",
    "            <th> l2-norm BoW feature extraction method </th>\n",
    "        </tr>\n",
    "    </thead>\n",
    "    <tbody>\n",
    "        <tr>\n",
    "            <td>Naive Bayes</td>\n",
    "            <td><b>Train: 69.41%, Test: 73.05%</b></td>\n",
    "            <td>Train: 64.08%, Test: 65.25% </td>\n",
    "            <td>Train: 67.42%, Test: 63.12% </td>\n",
    "        </tr>\n",
    "        <tr>\n",
    "            <td> Multinomial Naive Bayes </td>\n",
    "            <td>Train: 69.22%, Test: 51.06% </td>\n",
    "            <td>Train: 69.52%, Test: 57.45% </td>\n",
    "            <td>Train: 61.64%, Test: 47.52% </td>\n",
    "        </tr>\n",
    "        <tr>\n",
    "            <td>Knearest Neighbors </td>\n",
    "            <td>Train: 71.51%, Test: 51.06% </td>\n",
    "            <td>Train: 9.65%, Test: 46.81%</td>\n",
    "            <td>Train: 68.28%, Test: 46.1% </td>\n",
    "        </tr>\n",
    "        <tr>\n",
    "            <td>Decision Tree </td>\n",
    "            <td>Train: 71.51%, Test: 51.77% </td>\n",
    "            <td>Train: 17.15%, Test: 51.77%</td>\n",
    "            <td>Train: 71.51%, Test: 51.77 %</td>\n",
    "        </tr>\n",
    "        <tr>\n",
    "            <td>Logistic Regression</td>\n",
    "            <td>Train: 70.61%, Test: 47.52% </td>\n",
    "            <td>Train: 43.21%, Test: 53.9% </td>\n",
    "            <td>Train: 63.93%, Test: 47.52% </td>\n",
    "        </tr>\n",
    "    </tbody>\n",
    "    </table>"
   ]
  },
  {
   "cell_type": "code",
   "execution_count": 2,
   "metadata": {},
   "outputs": [],
   "source": [
    "# Imports\n",
    "\n",
    "import os\n",
    "import pandas as pd\n",
    "import matplotlib.pyplot as plt\n",
    "import warnings\n",
    "warnings.filterwarnings(\"ignore\")\n",
    "\n",
    "from distutils.version import LooseVersion as Version\n",
    "from sklearn import __version__ as sklearn_version\n",
    "\n",
    "from sklearn.pipeline import Pipeline\n",
    "\n",
    "if Version(sklearn_version) < '0.18':\n",
    "    from sklearn.cross_validation import train_test_split\n",
    "else:\n",
    "    from sklearn.model_selection import train_test_split\n",
    "\n",
    "%matplotlib inline\n",
    "\n"
   ]
  },
  {
   "cell_type": "markdown",
   "metadata": {},
   "source": [
    "### Settings"
   ]
  },
  {
   "cell_type": "code",
   "execution_count": 19,
   "metadata": {},
   "outputs": [],
   "source": [
    "split_percent = 0.05\n",
    "seed = 10"
   ]
  },
  {
   "cell_type": "markdown",
   "metadata": {},
   "source": [
    "### Import Data"
   ]
  },
  {
   "cell_type": "code",
   "execution_count": 3,
   "metadata": {},
   "outputs": [
    {
     "name": "stdout",
     "output_type": "stream",
     "text": [
      "No of rows in the dataset (Master List of Preferred Term v20 2019-10-23.xlsx):(1396, 2)\n",
      "No of rows in the dataset (Master List of Preferred Term v21 2020_03_19.xlsx):(1409, 2)\n"
     ]
    }
   ],
   "source": [
    "def get_data(data_file_path):\n",
    "    excel_file_obj = pd.ExcelFile(data_file_path)\n",
    "    # print(excel_file_obj.sheet_names)\n",
    "    # get all endpoints\n",
    "    endpoint_df = excel_file_obj.parse(\"EPs \")\n",
    "    endpoints = endpoint_df.loc[:, \"Short Name\"]\n",
    "    frames = []\n",
    "    for endpoint in endpoints:\n",
    "        df = excel_file_obj.parse(endpoint+\" PT\")\n",
    "        frames.append(df.loc[:,['Endpoint', 'MedDRA Preferred Term (PT)']])\n",
    "    return pd.concat(frames)\n",
    "\n",
    "def print_stats(df, year=\"2020\"):\n",
    "    print(f\"No of rows in the dataset ({year}):{df.shape}\")\n",
    "\n",
    "data_file_path_2020 = os.path.join(\"../data\",\"Master List of Preferred Term v21 2020_03_19.xlsx\")\n",
    "data_file_path_2019 = os.path.join(\"../data\",\"Master List of Preferred Term v20 2019-10-23.xlsx\")\n",
    "\n",
    "df1 = get_data(data_file_path_2019)\n",
    "df2 = get_data(data_file_path_2020)\n",
    "\n",
    "print_stats(df1, os.path.basename(data_file_path_2019))\n",
    "print_stats(df2,os.path.basename(data_file_path_2020))"
   ]
  },
  {
   "cell_type": "code",
   "execution_count": 4,
   "metadata": {},
   "outputs": [
    {
     "name": "stdout",
     "output_type": "stream",
     "text": [
      "Number of rows in the merged dataset: (2805, 2)\n"
     ]
    }
   ],
   "source": [
    "## merge dataframes\n",
    "frames = [df1, df2]\n",
    "df = pd.concat(frames)\n",
    "print(\"Number of rows in the merged dataset:\",df.shape)\n"
   ]
  },
  {
   "cell_type": "markdown",
   "metadata": {},
   "source": [
    "### Data Pre-processing"
   ]
  },
  {
   "cell_type": "code",
   "execution_count": 11,
   "metadata": {},
   "outputs": [
    {
     "name": "stderr",
     "output_type": "stream",
     "text": [
      "[nltk_data] Downloading package stopwords to\n",
      "[nltk_data]     C:\\Users\\c299342\\AppData\\Roaming\\nltk_data...\n",
      "[nltk_data]   Package stopwords is already up-to-date!\n"
     ]
    }
   ],
   "source": [
    "import nltk\n",
    "nltk.download(\"stopwords\")\n",
    "\n",
    "from nltk.corpus import stopwords\n",
    "from nltk.stem import PorterStemmer\n",
    "\n",
    "import re\n",
    "\n",
    "## Remove punctuation and lower casing\n",
    "words = stopwords.words(\"english\")\n",
    "df['Processed-MedDRA Preferred Term (PT)'] = df['MedDRA Preferred Term (PT)'].apply(lambda x: \" \".join([i for i in re.sub(\"[^a-zA-Z]\",\" \",x).split() if i not in words]).lower())"
   ]
  },
  {
   "cell_type": "markdown",
   "metadata": {},
   "source": []
  },
  {
   "cell_type": "markdown",
   "metadata": {},
   "source": [
    "### Feature Extraction\n",
    "\n",
    "Feature extraction for text data can be performed in following ways:\n",
    "- bag of words model\n",
    "- TF-IDF vector"
   ]
  },
  {
   "cell_type": "markdown",
   "metadata": {},
   "source": [
    "##### Bag of words\n",
    "\n",
    "Bag of words representation of text data involves following steps:\n",
    "- Tokenization - split the text into words\n",
    "- Vocabulary building - collect all the words and number the words\n",
    "- Encoding - count how often each word occurs in the vocabulary"
   ]
  },
  {
   "cell_type": "code",
   "execution_count": 117,
   "metadata": {},
   "outputs": [],
   "source": [
    "from sklearn.feature_extraction.text import CountVectorizer, TfidfTransformer\n",
    "\n",
    "import numpy as np\n",
    "\n",
    "\n",
    "## \n",
    "count_vectorizer = CountVectorizer(stop_words = \"english\")\n",
    "count_data = count_vectorizer.fit_transform(df['Processed-MedDRA Preferred Term (PT)'])"
   ]
  },
  {
   "cell_type": "code",
   "execution_count": 13,
   "metadata": {},
   "outputs": [
    {
     "name": "stdout",
     "output_type": "stream",
     "text": [
      "Vocabulary size:728\n",
      "Vocabulary content:{'accelerated': 8, 'idioventricular': 321, 'rhythm': 576, 'accessory': 11, 'cardiac': 111, 'pathway': 476, 'adams': 17, 'stokes': 617, 'syndrome': 639, 'agonal': 22, 'anomalous': 42, 'atrioventricular': 73, 'excitation': 254, 'arrhythmia': 51, 'neonatal': 427, 'supraventricular': 631, 'arrhythmogenic': 52, 'right': 577, 'ventricular': 708, 'dysplasia': 217, 'athletic': 71, 'heart': 291, 'atrial': 72, 'conduction': 162, 'time': 668, 'prolongation': 523, 'fibrillation': 262, 'flutter': 268, 'parasystole': 472, 'tachycardia': 644, 'block': 92, 'complete': 156, 'degree': 189, 'second': 587, 'shortened': 595, 'dissociation': 206, 'node': 437, 'dispersion': 202, 'baseline': 81, 'foetal': 269, 'rate': 545, 'variability': 698, 'disorder': 201, 'bifascicular': 87, 'bradyarrhythmia': 98, 'bradycardia': 99, 'brugada': 103, 'bundle': 104, 'branch': 101, 'bilateral': 88, 'left': 376, 'arrest': 50, 'death': 182, 'telemetry': 647, 'abnormal': 3, 'cardio': 112, 'respiratory': 567, 'central': 130, 'chronotropic': 141, 'incompetence': 331, 'defect': 187, 'intraventricular': 360, 'electrocardiogram': 228, 'ambulatory': 29, 'change': 136, 'delta': 191, 'waves': 723, 'pq': 509, 'interval': 350, 'prolonged': 524, 'pr': 510, 'qrs': 539, 'complex': 158, 'qt': 540, 'repolarisation': 566, 'abnormality': 5, 'rr': 579, 'wave': 722, 'alternans': 26, 'inversion': 361, 'present': 514, 'prominent': 525, 'extrasystoles': 257, 'acceleration': 9, 'deceleration': 184, 'indeterminate': 333, 'normal': 440, 'tachyarrhythmia': 642, 'alternation': 27, 'congenital': 163, 'decreased': 185, 'increased': 332, 'irregular': 362, 'bezold': 86, 'jarisch': 365, 'reflex': 554, 'junctional': 368, 'ectopic': 224, 'lenegre': 377, 'disease': 200, 'long': 383, 'lown': 387, 'ganong': 276, 'levine': 379, 'nodal': 436, 'orthostatic': 454, 'test': 650, 'pacemaker': 456, 'generated': 279, 'palpitations': 460, 'paroxysmal': 475, 'pulseless': 534, 'electrical': 227, 'activity': 14, 'rebound': 549, 'reperfusion': 564, 'sinus': 603, 'magnitude': 388, 'sinoatrial': 602, 'dysfunction': 216, 'sudden': 626, 'tachyarrhythmias': 643, 'syncope': 638, 'torsade': 671, 'pointes': 498, 'trifascicular': 681, 'asystole': 66, 'dyssynchrony': 219, 'pre': 511, 'wandering': 720, 'withdrawal': 726, 'wolff': 727, 'parkinson': 474, 'white': 725, 'acute': 16, 'aortic': 45, 'myocardial': 421, 'infarction': 337, 'administration': 18, 'site': 604, 'thrombosis': 663, 'adrenal': 19, 'amaurosis': 28, 'fugax': 272, 'angiogram': 38, 'cerebral': 132, 'peripheral': 488, 'angioplasty': 40, 'bypass': 105, 'embolus': 234, 'surgery': 632, 'aortogram': 46, 'application': 49, 'arterectomy': 53, 'graft': 281, 'replacement': 565, 'arterial': 54, 'occlusion': 444, 'operation': 449, 'occlusive': 445, 'stent': 616, 'insertion': 345, 'therapeutic': 654, 'procedure': 520, 'arteriogram': 55, 'carotid': 121, 'arteriotomy': 57, 'arteriovenous': 58, 'fistula': 264, 'artificial': 61, 'blood': 93, 'vessel': 712, 'atherectomy': 67, 'atherosclerotic': 70, 'plaque': 496, 'rupture': 580, 'basal': 80, 'ganglia': 275, 'stroke': 620, 'basilar': 82, 'artery': 60, 'blindness': 91, 'transient': 674, 'bone': 94, 'brachiocephalic': 97, 'brain': 100, 'stem': 614, 'embolism': 233, 'capsular': 108, 'warning': 721, 'endarterectomy': 238, 'catheter': 123, 'cerebellar': 131, 'congestion': 164, 'hypoperfusion': 315, 'ischaemia': 363, 'microembolism': 407, 'septic': 592, 'infarct': 336, 'vascular': 699, 'cerebrovascular': 134, 'accident': 12, 'insufficiency': 347, 'stenosis': 615, 'choroidal': 139, 'coeliac': 148, 'coronary': 173, 'reocclusion': 562, 'revascularisation': 574, 'device': 194, 'embolisation': 232, 'related': 557, 'diplegia': 197, 'disseminated': 205, 'intravascular': 359, 'coagulation': 147, 'newborn': 433, 'embolic': 231, 'pneumonia': 497, 'eye': 258, 'femoral': 261, 'hemiparesis': 300, 'hemiplegia': 301, 'heparin': 303, 'induced': 335, 'thrombocytopenia': 659, 'hepatic': 304, 'hypothenar': 317, 'hammer': 289, 'iliac': 324, 'implant': 327, 'incision': 330, 'infusion': 340, 'injection': 342, 'instillation': 346, 'intestinal': 352, 'intracardiac': 354, 'mass': 393, 'thrombus': 665, 'intraoperative': 357, 'ischaemic': 364, 'lacunar': 373, 'leriche': 378, 'medical': 398, 'mesenteric': 401, 'monoparesis': 416, 'monoplegia': 417, 'necrosis': 424, 'ophthalmic': 450, 'optic': 451, 'nerve': 429, 'pancreatic': 462, 'papillary': 465, 'muscle': 420, 'paradoxical': 466, 'paraneoplastic': 469, 'paraparesis': 470, 'paraplegia': 471, 'paresis': 473, 'penile': 480, 'percutaneous': 482, 'intervention': 351, 'pituitary': 493, 'placental': 495, 'popliteal': 500, 'entrapment': 242, 'portal': 501, 'shunt': 596, 'post': 505, 'procedural': 519, 'postinfarction': 506, 'angina': 36, 'postpartum': 508, 'precerebral': 512, 'profundaplasty': 521, 'prosthetic': 527, 'valve': 697, 'implantation': 328, 'pulmonary': 532, 'tumour': 686, 'thrombotic': 664, 'microangiopathy': 405, 'quadriparesis': 541, 'quadriplegia': 542, 'renal': 559, 'restenosis': 568, 'retinal': 572, 'silent': 601, 'spinal': 609, 'cord': 172, 'splenic': 610, 'stoma': 618, 'evolution': 253, 'subclavian': 623, 'superior': 629, 'surgical': 633, 'testicular': 651, 'thalamic': 652, 'thrombectomy': 657, 'thromboangiitis': 658, 'obliterans': 442, 'thromboembolectomy': 661, 'thrombolysis': 662, 'prophylaxis': 526, 'thrombocytopenic': 660, 'purpura': 536, 'thyroid': 666, 'attack': 74, 'truncus': 684, 'coeliacus': 149, 'ultrasonic': 690, 'ultrasound': 691, 'doppler': 210, 'umbilical': 692, 'access': 10, 'vertebral': 710, 'puncture': 535, 'visual': 716, 'acuity': 15, 'reduced': 553, 'transiently': 675, 'midline': 411, 'shift': 593, 'agnosia': 21, 'amyloid': 32, 'imaging': 325, 'abnormalities': 4, 'aphasia': 47, 'balint': 78, 'haematoma': 285, 'haemorrhage': 286, 'aneurysm': 34, 'perforation': 483, 'benign': 84, 'intracranial': 356, 'hypertension': 313, 'barrier': 79, 'arteriosclerosis': 56, 'hypoxia': 318, 'injury': 343, 'microhaemorrhage': 408, 'carasil': 110, 'calcification': 106, 'dissection': 204, 'dolichoectasia': 209, 'removal': 558, 'nervous': 430, 'vasculitis': 700, 'pain': 459, 'angiopathy': 39, 'ruptured': 581, 'syphilitic': 640, 'malformation': 389, 'haemorrhagic': 287, 'arteritis': 59, 'atherosclerosis': 69, 'capillary': 107, 'telangiectasia': 646, 'circulatory': 143, 'failure': 259, 'endovascular': 240, 'repair': 563, 'gas': 277, 'haemosiderin': 288, 'deposition': 192, 'small': 605, 'vasoconstriction': 701, 'venous': 707, 'charcot': 137, 'bouchard': 95, 'microaneurysms': 404, 'anomaly': 43, 'csf': 179, 'bilirubin': 90, 'positive': 504, 'red': 552, 'cell': 129, 'count': 175, 'delayed': 190, 'neurological': 432, 'deficit': 188, 'dural': 214, 'dysarthria': 215, 'extraischaemic': 256, 'transformation': 673, 'hemianaesthesia': 294, 'hemiasomatognosia': 295, 'hemiataxia': 296, 'hemidysaesthesia': 297, 'hemihyperaesthesia': 298, 'hemiparaesthesia': 299, 'hypertensive': 314, 'hypoxic': 319, 'encephalopathy': 236, 'idiopathic': 320, 'inner': 344, 'ear': 220, 'internal': 349, 'kinking': 370, 'intra': 353, 'intracerebral': 355, 'evacuation': 251, 'lateral': 374, 'medullary': 399, 'lateropulsion': 375, 'meningorrhagia': 400, 'migrainous': 412, 'millard': 413, 'gubler': 284, 'modified': 414, 'rankin': 544, 'score': 586, 'moyamoya': 419, 'nih': 434, 'scale': 583, 'paralysis': 467, 'flaccid': 265, 'perinatal': 486, 'periventricular': 490, 'seizure': 591, 'putamen': 537, 'raymond': 547, 'cestan': 135, 'reversible': 575, 'hemisphere': 302, 'sneddon': 606, 'spastic': 608, 'epidural': 245, 'subarachnoid': 622, 'subdural': 624, 'steal': 613, 'superficial': 628, 'siderosis': 598, 'susac': 634, 'thalamus': 653, 'transverse': 678, 'traumatic': 679, 'cognitive': 150, 'impairment': 326, 'pseudoaneurysm': 529, 'vein': 702, 'galen': 274, 'aneurysmal': 35, 'vertebrobasilar': 711, 'wallenberg': 719, 'event': 252, 'pectoris': 478, 'thickening': 656, 'cardiogenic': 113, 'shock': 594, 'collapse': 153, 'compression': 160, 'dilatation': 196, 'pericardial': 485, 'effusion': 225, 'diastolic': 195, 'unstable': 694, 'anginal': 37, 'equivalent': 248, 'bergman': 85, 'triad': 680, 'creatine': 176, 'phosphokinase': 492, 'mb': 396, 'enzymes': 244, 'cardiovascular': 119, 'symptom': 637, 'chest': 138, 'discomfort': 199, 'dissecting': 203, 'ecg': 221, 'signs': 600, 'st': 612, 'segment': 590, 'depression': 193, 'elevation': 230, 'pressure': 515, 'cardiomyopathy': 115, 'kounis': 371, 'microvascular': 410, 'marker': 392, 'periprocedural': 489, 'prinzmetal': 518, 'scan': 584, 'perfusion': 484, 'stress': 619, 'echocardiogram': 222, 'subendocardial': 625, 'troponin': 682, 'wellens': 724, 'cardiopulmonary': 116, 'catheterisation': 124, 'computerised': 161, 'tomogram': 670, 'placement': 494, 'transmyocardial': 676, 'accidental': 13, 'struggle': 621, 'apparent': 48, 'completed': 157, 'suicide': 627, 'decapitation': 183, 'drowning': 212, 'electrocution': 229, 'euthanasia': 250, 'hanging': 290, 'pulse': 533, 'absent': 7, 'unexplained': 693, 'epilepsy': 246, 'axillary': 76, 'cavernous': 128, 'cerebrospinal': 133, 'tamponade': 645, 'deep': 186, 'postoperative': 507, 'homans': 308, 'sign': 599, 'inferior': 339, 'vena': 703, 'caval': 126, 'occulsion': 446, 'cava': 125, 'intrapericardial': 358, 'jugular': 367, 'obstructive': 443, 'paget': 458, 'schroetter': 585, 'pelvic': 479, 'portosplenomesenteric': 503, 'microemboli': 406, 'veno': 704, 'si': 597, 'qiii': 538, 'tiii': 667, 'pattern': 477, 'sagittal': 582, 'corpora': 174, 'cavernosa': 127, 'trousseau': 683, 'filter': 263, 'venogram': 705, 'venoocclusive': 706, 'liver': 382, 'recanalisation': 550, 'limb': 380, 'visceral': 715, 'oedema': 447, 'natriuretic': 422, 'peptide': 481, 'bendopnoea': 83, 'asthma': 65, 'cirrhosis': 144, 'contractility': 168, 'modulation': 415, 'therapy': 655, 'chronic': 140, 'congestive': 165, 'high': 307, 'output': 455, 'index': 334, 'resynchronisation': 571, 'ventriculogram': 709, 'cardiomegaly': 114, 'cardiorenal': 117, 'distress': 208, 'cardiothoracic': 118, 'ratio': 546, 'cor': 171, 'pulmonale': 531, 'dyspnoea': 218, 'nocturnal': 435, 'ejection': 226, 'fraction': 271, 'transplant': 677, 'hepatojugular': 305, 'reflux': 555, 'distension': 207, 'enlargement': 241, 'low': 385, 'lower': 386, 'tract': 672, 'terminal': 649, 'prohormone': 522, 'orthopnoea': 453, 'swelling': 635, 'radiation': 543, 'associated': 64, 'volume': 717, 'restoration': 569, 'systolic': 641, 'assist': 63, 'wall': 718, 'motion': 418, 'aldosterone': 24, 'urine': 696, 'angiotensin': 41, 'converting': 170, 'enzyme': 243, 'ii': 322, 'receptor': 551, 'type': 688, 'antibody': 44, 'catecholamines': 122, 'fluctuation': 266, 'inadequately': 329, 'controlled': 169, 'management': 391, 'eclampsia': 223, 'secretion': 589, 'endocrine': 239, 'epinephrine': 247, 'essential': 249, 'gestational': 280, 'hellp': 292, 'hyperaldosteronism': 309, 'crisis': 178, 'emergency': 235, 'end': 237, 'organ': 452, 'damage': 181, 'nephropathy': 428, 'labile': 372, 'malignant': 390, 'maternal': 395, 'affecting': 20, 'foetus': 270, 'mean': 397, 'metabolic': 402, 'metanephrine': 403, 'neurogenic': 431, 'non': 438, 'dipping': 198, 'norepinephrine': 439, 'normetanephrine': 441, 'page': 457, 'kidney': 369, 'portopulmonary': 502, 'prehypertension': 513, 'primary': 517, 'pseudoaldosteronism': 528, 'sympathetic': 636, 'ablation': 2, 'renin': 560, 'inhibition': 341, 'renovascular': 561, 'retinopathy': 573, 'secondary': 588, 'aldosteronism': 25, 'supine': 630, 'tyramine': 689, 'reaction': 548, 'biliary': 89, 'colitis': 152, 'gastrointestinal': 278, 'great': 282, 'vessels': 713, 'intermittent': 348, 'claudication': 145, 'aneursym': 33, 'coldness': 151, 'poor': 499, 'circulation': 142, 'spontaneous': 611, 'amputation': 30, 'toe': 669, 'brachial': 96, 'abdominal': 1, 'compartment': 155, 'upper': 695, 'tenderness': 648, 'rigidity': 578, 'abdomen': 0, 'alcoholic': 23, 'pancreatitis': 463, 'amylase': 31, 'creatinine': 177, 'clearance': 146, 'ascites': 62, 'autoimmune': 75, 'conjugated': 166, 'trypsin': 685, 'cullen': 180, 'fat': 260, 'sounds': 607, 'grey': 283, 'turner': 687, 'necrotic': 425, 'hereditary': 306, 'hyperamylasaemia': 310, 'hyperbilirubinaemia': 311, 'hyperlipasaemia': 312, 'ileus': 323, 'paralytic': 468, 'jaundice': 366, 'lipase': 381, 'nausea': 423, 'oedematous': 448, 'pancreas': 461, 'infection': 338, 'abscess': 6, 'duct': 213, 'phlegmon': 491, 'pseudocyst': 530, 'drainage': 211, 'bacterial': 77, 'fungal': 273, 'helminthic': 293, 'necrotising': 426, 'relapsing': 556, 'viral': 714, 'pancreatorenal': 464, 'peripancreatic': 487, 'fluid': 267, 'collection': 154, 'massage': 394, 'complication': 159, 'hypotension': 316, 'loss': 384, 'consciousness': 167, 'presyncope': 516, 'atheroembolism': 68, 'bronchial': 102, 'extension': 255, 'cardioversion': 120, 'capsule': 109, 'microinfarction': 409, 'resuscitation': 570}\n"
     ]
    }
   ],
   "source": [
    "print(\"Vocabulary size:{}\".format(len(count_vectorizer.vocabulary_)))\n",
    "print(\"Vocabulary content:{}\".format(count_vectorizer.vocabulary_))"
   ]
  },
  {
   "cell_type": "code",
   "execution_count": 14,
   "metadata": {},
   "outputs": [],
   "source": [
    "## Plot most common words\n",
    "def plot_most_common_words(count_data, count_vectorizer):\n",
    "    words  = count_vectorizer.get_feature_names()\n",
    "    total_counts = np.zeros(len(words))\n",
    "    \n",
    "    for t in count_data:\n",
    "        total_counts+=t.toarray()[0]\n",
    "        \n",
    "    count_dict = zip(words, total_counts)\n",
    "    count_dict = sorted(count_dict, key = lambda x: x[1], reverse = True)[0:20]\n",
    "    \n",
    "    words = [w[0] for w in count_dict]\n",
    "    counts = [w[1] for w in count_dict]\n",
    "    \n",
    "    x_pos = np.arange(len(words))\n",
    "    \n",
    "    plt.figure(2, figsize = (10,5))\n",
    "    plt.title(\"Most common words\")\n",
    "    \n",
    "    plt.bar(x_pos, counts)\n",
    "    plt.xticks(x_pos, words, rotation = 90)\n",
    "    \n",
    "    plt.xlabel(\"words\")\n",
    "    plt.ylabel(\"count\")\n",
    "    \n",
    "    plt.show()\n"
   ]
  },
  {
   "cell_type": "code",
   "execution_count": 15,
   "metadata": {},
   "outputs": [
    {
     "data": {
      "image/png": "[encoded data removed]",
      "text/plain": [
       "<Figure size 720x360 with 1 Axes>"
      ]
     },
     "metadata": {
      "needs_background": "light"
     },
     "output_type": "display_data"
    }
   ],
   "source": [
    "plot_most_common_words(count_data=count_data, count_vectorizer=count_vectorizer)"
   ]
  },
  {
   "cell_type": "markdown",
   "metadata": {},
   "source": [
    "#### Machine Learning Classifier - BoW vector"
   ]
  },
  {
   "cell_type": "code",
   "execution_count": 36,
   "metadata": {},
   "outputs": [],
   "source": [
    "## Split dataset\n",
    "data = count_data.toarray()\n",
    "labels = df[\"Endpoint\"]"
   ]
  },
  {
   "cell_type": "code",
   "execution_count": 37,
   "metadata": {},
   "outputs": [
    {
     "data": {
      "text/plain": [
       "Index(['Endpoint', 'MedDRA Preferred Term (PT)',\n",
       "       'Processed-MedDRA Preferred Term (PT)'],\n",
       "      dtype='object')"
      ]
     },
     "execution_count": 37,
     "metadata": {},
     "output_type": "execute_result"
    }
   ],
   "source": [
    "df.columns"
   ]
  },
  {
   "cell_type": "code",
   "execution_count": 126,
   "metadata": {},
   "outputs": [],
   "source": [
    "X_train, X_test, y_train, y_test = train_test_split(data,labels, test_size=split_percent, random_state = seed)"
   ]
  },
  {
   "cell_type": "code",
   "execution_count": 127,
   "metadata": {},
   "outputs": [
    {
     "name": "stdout",
     "output_type": "stream",
     "text": [
      "No of training dataset:(2664, 728), No of test set: (141, 728)\n"
     ]
    }
   ],
   "source": [
    "print(f\"No of training dataset:{X_train.shape}, No of test set: {X_test.shape}\")"
   ]
  },
  {
   "cell_type": "markdown",
   "metadata": {},
   "source": [
    "##### Dataset distribution"
   ]
  },
  {
   "cell_type": "code",
   "execution_count": 40,
   "metadata": {},
   "outputs": [
    {
     "data": {
      "image/png": "[encoded data removed]",
      "text/plain": [
       "<Figure size 432x288 with 1 Axes>"
      ]
     },
     "metadata": {
      "needs_background": "light"
     },
     "output_type": "display_data"
    },
    {
     "data": {
      "image/png": "[encoded data removed]",
      "text/plain": [
       "<Figure size 432x288 with 1 Axes>"
      ]
     },
     "metadata": {
      "needs_background": "light"
     },
     "output_type": "display_data"
    }
   ],
   "source": [
    "# Train set distribution\n",
    "y_train.value_counts().sort_index().plot(kind=\"barh\")\n",
    "plt.title(\"Training set distribution\")\n",
    "plt.show()\n",
    "\n",
    "# Test set distribution\n",
    "y_test.value_counts().sort_index().plot(kind = \"barh\")\n",
    "plt.title(\"Test set distribution\")\n",
    "plt.show()"
   ]
  },
  {
   "cell_type": "markdown",
   "metadata": {},
   "source": [
    "##### ML Classifiers\n",
    "\n",
    "- Logistic Regression\n",
    "- Naive Bayes\n",
    "- Multinomial Naive Bayes\n",
    "- Knearest Neighbors\n",
    "- Decision Tree \n",
    "- Voting Classifier - Ensemble Classifier"
   ]
  },
  {
   "cell_type": "code",
   "execution_count": 104,
   "metadata": {},
   "outputs": [],
   "source": [
    "# Naive Bayes\n",
    "from sklearn.naive_bayes import GaussianNB\n",
    "\n",
    "## knearest neighbors\n",
    "from sklearn.neighbors import KNeighborsClassifier\n",
    "from sklearn.metrics import confusion_matrix\n",
    "\n",
    "## Decision Tree classifier\n",
    "from sklearn.tree import DecisionTreeClassifier\n",
    "\n",
    "# Logistic Regression \n",
    "from sklearn.linear_model import LogisticRegression\n",
    "\n",
    "## Multinomial Naive Bayes\n",
    "from sklearn.naive_bayes import MultinomialNB\n",
    "\n",
    "\n",
    "\"\"\"\n",
    "Common method to call various classifiers\n",
    "\"\"\"\n",
    "def classifier(x_tr, y_tr, x_test, y_test, classifier, descr=\"\"):\n",
    "    # function to call logistic regression\n",
    "    m = classifier.fit(x_tr, y_tr)\n",
    "    s = m.score(x_test, y_test)\n",
    "    \n",
    "    train_accuracy_score = m.score(X_train,y_train)\n",
    "    print(\"Training accuracy:{}%\".format(round(train_accuracy_score*100,2)))\n",
    "    print ('Test score with', descr, 'features:', round(s*100,2),'%')\n",
    "    return classifier\n",
    "    "
   ]
  },
  {
   "cell_type": "markdown",
   "metadata": {},
   "source": [
    "###### Naive Bayes"
   ]
  },
  {
   "cell_type": "code",
   "execution_count": 107,
   "metadata": {},
   "outputs": [
    {
     "name": "stdout",
     "output_type": "stream",
     "text": [
      "Training accuracy:69.41%\n",
      "Test score with bow features: 73.05 %\n"
     ]
    }
   ],
   "source": [
    "classifier_naive_bayes = GaussianNB()\n",
    "classifier_naive_bayes = classifier(X_train, y_train, X_test, y_test, classifier_naive_bayes, \"bow\")\n"
   ]
  },
  {
   "cell_type": "markdown",
   "metadata": {},
   "source": [
    "###### Multinomial Naive Bayes"
   ]
  },
  {
   "cell_type": "code",
   "execution_count": 109,
   "metadata": {},
   "outputs": [
    {
     "name": "stdout",
     "output_type": "stream",
     "text": [
      "Training accuracy:69.22%\n",
      "Test score with bow features: 51.06 %\n"
     ]
    }
   ],
   "source": [
    "# multinomial naive bayes- does it makes sense?\n",
    "classifier_mnb = MultinomialNB()\n",
    "classifier_mnb = classifier(X_train, y_train, X_test, y_test, classifier_mnb, \"bow\")\n"
   ]
  },
  {
   "cell_type": "markdown",
   "metadata": {},
   "source": [
    "##### Knearest Neighbors"
   ]
  },
  {
   "cell_type": "code",
   "execution_count": 110,
   "metadata": {},
   "outputs": [
    {
     "name": "stdout",
     "output_type": "stream",
     "text": [
      "Training accuracy:71.51%\n",
      "Test score with bow features: 51.06 %\n"
     ]
    }
   ],
   "source": [
    "## \n",
    "classifier_knn = KNeighborsClassifier(n_neighbors = 5, weights = \"distance\", algorithm = \"brute\")\n",
    "classifier_knn = classifier(X_train, y_train, X_test, y_test, classifier_knn, \"bow\")\n"
   ]
  },
  {
   "cell_type": "markdown",
   "metadata": {},
   "source": [
    "###### Decision Tree Classifier"
   ]
  },
  {
   "cell_type": "code",
   "execution_count": 112,
   "metadata": {},
   "outputs": [
    {
     "name": "stdout",
     "output_type": "stream",
     "text": [
      "Training accuracy:71.51%\n",
      "Test score with bow features: 51.77 %\n"
     ]
    }
   ],
   "source": [
    "classifier_dt = DecisionTreeClassifier(criterion=\"entropy\", max_depth=None, splitter = \"best\", random_state = 55)\n",
    "classifier_dt = classifier(X_train, y_train, X_test, y_test, classifier_dt, \"bow\")\n"
   ]
  },
  {
   "cell_type": "markdown",
   "metadata": {},
   "source": [
    "##### Logistic Regression"
   ]
  },
  {
   "cell_type": "code",
   "execution_count": 113,
   "metadata": {},
   "outputs": [
    {
     "name": "stdout",
     "output_type": "stream",
     "text": [
      "Training accuracy:70.61%\n",
      "Test score with bow features: 47.52 %\n"
     ]
    }
   ],
   "source": [
    "classifier_lr = LogisticRegression()\n",
    "classifier_lr = classifier(X_train, y_train, X_test, y_test, classifier_lr, \"bow\")\n"
   ]
  },
  {
   "cell_type": "markdown",
   "metadata": {},
   "source": [
    "##### Voting Classifier"
   ]
  },
  {
   "cell_type": "code",
   "execution_count": 115,
   "metadata": {},
   "outputs": [
    {
     "name": "stdout",
     "output_type": "stream",
     "text": [
      "Voting classifier  accuracy score on train set:71.43393393393393\n",
      "Voting classifier  accuracy score on test set:51.77304964539007\n"
     ]
    }
   ],
   "source": [
    "models = [('LogisticRegression', classifier_lr), \n",
    "          ('DecisionTree Classifier', classifier_dt),\n",
    "          ('K-Nearest Neighbor',classifier_knn),\n",
    "          ('Guassian Naive Bayes',classifier_naive_bayes),\n",
    "          ('MultinomialNB',classifier_mnb)]\n",
    "\n",
    "classifier_vc = VotingClassifier(voting='hard', estimators=models)\n",
    "classifier_vc.fit(X_train, y_train)\n",
    "\n",
    "# predicting the train data set results\n",
    "y_pred_vc = classifier_vc.predict(X_test)\n",
    "\n",
    "# confusion matrix\n",
    "cm_vc = confusion_matrix(y_test, y_pred_vc)\n",
    "print(\"Voting classifier  accuracy score on train set:{}\".format(classifier_vc.score(X_train,y_train)*100))\n",
    "print(\"Voting classifier  accuracy score on test set:{}\".format(classifier_vc.score(X_test,y_test)*100))"
   ]
  },
  {
   "cell_type": "markdown",
   "metadata": {},
   "source": [
    "#### Machine Learning Classifier - TF-IDF \n",
    "\n",
    "It stands for term frequency–inverse document frequency (TF-IDF). Instead of looking at the raw counts of each word in each document in a dataset, tf-idf looks at a normalized count where each word count is divided by the number of documents this word appear in. \n",
    "\n",
    "bow(W, d) = # number of times w appears in the document d;\n",
    "tf-idf(w,d) = bow(w, d) * N/ (# documents in which word w appears)\n",
    "\n",
    "N = total number of documents; N/ (# documents) - fraction also known as inverse document frequency.\n",
    "\n",
    "<b>Tf-idf makes rare words more prominent and ignoring common words. </b>\n"
   ]
  },
  {
   "cell_type": "code",
   "execution_count": 128,
   "metadata": {},
   "outputs": [],
   "source": [
    "tfidf_trfm = TfidfTransformer(norm=None)\n",
    "X_tr_tfidf = tfidf_trfm.fit_transform(X_train)\n",
    "X_te_tfidf = tfidf_trfm.fit_transform(X_test)\n",
    "\n",
    "\n",
    "X_tr_tfidf = X_tr_tfidf.toarray()\n",
    "X_te_tfidf = X_te_tfidf.toarray()\n",
    "\n"
   ]
  },
  {
   "cell_type": "markdown",
   "metadata": {},
   "source": [
    "###### Naive Bayes"
   ]
  },
  {
   "cell_type": "code",
   "execution_count": 132,
   "metadata": {},
   "outputs": [
    {
     "name": "stdout",
     "output_type": "stream",
     "text": [
      "Training accuracy:64.08%\n",
      "Test score with tf-idf features: 65.25 %\n"
     ]
    }
   ],
   "source": [
    "classifier_naive_bayes = classifier(X_tr_tfidf.toarray(), y_train, X_te_tfidf.toarray(), y_test, classifier_naive_bayes,'tf-idf')\n"
   ]
  },
  {
   "cell_type": "markdown",
   "metadata": {},
   "source": [
    "##### Multinomial Naive Bayes"
   ]
  },
  {
   "cell_type": "code",
   "execution_count": 133,
   "metadata": {},
   "outputs": [
    {
     "name": "stdout",
     "output_type": "stream",
     "text": [
      "Training accuracy:69.52%\n",
      "Test score with tf-idf features: 57.45 %\n"
     ]
    }
   ],
   "source": [
    "classifier_mnb = classifier(X_tr_tfidf, y_train, X_te_tfidf, y_test, classifier_mnb, \"tf-idf\")\n"
   ]
  },
  {
   "cell_type": "markdown",
   "metadata": {},
   "source": [
    "##### Knearest Neighbors"
   ]
  },
  {
   "cell_type": "code",
   "execution_count": 134,
   "metadata": {},
   "outputs": [
    {
     "name": "stdout",
     "output_type": "stream",
     "text": [
      "Training accuracy:9.65%\n",
      "Test score with tf-idf features: 46.81 %\n"
     ]
    }
   ],
   "source": [
    "classifier_knn = classifier(X_tr_tfidf, y_train, X_te_tfidf, y_test, classifier_knn, \"tf-idf\")"
   ]
  },
  {
   "cell_type": "markdown",
   "metadata": {},
   "source": [
    "###### Logistic Regression"
   ]
  },
  {
   "cell_type": "code",
   "execution_count": 137,
   "metadata": {},
   "outputs": [
    {
     "name": "stdout",
     "output_type": "stream",
     "text": [
      "Training accuracy:43.21%\n",
      "Test score with tf-idf features: 53.9 %\n"
     ]
    }
   ],
   "source": [
    "classifier_lr = classifier(X_tr_tfidf, y_train, X_te_tfidf, y_test, classifier_lr, \"tf-idf\")\n"
   ]
  },
  {
   "cell_type": "markdown",
   "metadata": {},
   "source": [
    "###### Decision Tree Classifier"
   ]
  },
  {
   "cell_type": "code",
   "execution_count": 136,
   "metadata": {},
   "outputs": [
    {
     "name": "stdout",
     "output_type": "stream",
     "text": [
      "Training accuracy:17.15%\n",
      "Test score with tf-idf features: 51.77 %\n"
     ]
    }
   ],
   "source": [
    "classifier_dt = classifier(X_tr_tfidf, y_train, X_te_tfidf, y_test, classifier_dt, \"tf-idf\")\n"
   ]
  },
  {
   "cell_type": "markdown",
   "metadata": {},
   "source": [
    "#### Machine Learning Classifier - L2 Normalized Bow\n",
    "\n",
    "Normalized vector "
   ]
  },
  {
   "cell_type": "code",
   "execution_count": 138,
   "metadata": {},
   "outputs": [],
   "source": [
    "##\n",
    "import sklearn.preprocessing as preproc\n",
    "\n",
    "X_train_l2 = preproc.normalize(X_train, axis=0)\n",
    "X_test_l2 = preproc.normalize(X_test, axis = 0)"
   ]
  },
  {
   "cell_type": "code",
   "execution_count": 145,
   "metadata": {},
   "outputs": [
    {
     "name": "stdout",
     "output_type": "stream",
     "text": [
      "Naive Bayes\n",
      "Training accuracy:67.42%\n",
      "Test score with l2 norm features: 63.12 %\n"
     ]
    }
   ],
   "source": [
    "## Naive Bayes\n",
    "print(\"Naive Bayes\")\n",
    "classifier_naive_bayes = classifier(X_train_l2, y_train, X_test_l2, y_test, classifier_naive_bayes,'l2 norm')"
   ]
  },
  {
   "cell_type": "code",
   "execution_count": 146,
   "metadata": {},
   "outputs": [
    {
     "name": "stdout",
     "output_type": "stream",
     "text": [
      "Multinomial Naive Bayes\n",
      "Training accuracy:61.64%\n",
      "Test score with l2 norm features: 47.52 %\n"
     ]
    }
   ],
   "source": [
    "# Multinomial Naive Bayes\n",
    "print(\"Multinomial Naive Bayes\")\n",
    "classifier_mnb = classifier(X_train_l2, y_train, X_test_l2, y_test, classifier_mnb, \"l2 norm\")\n"
   ]
  },
  {
   "cell_type": "code",
   "execution_count": 147,
   "metadata": {},
   "outputs": [
    {
     "name": "stdout",
     "output_type": "stream",
     "text": [
      "Knearest Neighbor\n",
      "Training accuracy:68.28%\n",
      "Test score with l2 norm features: 46.1 %\n"
     ]
    }
   ],
   "source": [
    "# knearest neighbor\n",
    "print(\"Knearest Neighbor\")\n",
    "classifier_knn = classifier(X_train_l2, y_train, X_test_l2, y_test, classifier_knn, \"l2 norm\")"
   ]
  },
  {
   "cell_type": "code",
   "execution_count": 148,
   "metadata": {},
   "outputs": [
    {
     "name": "stdout",
     "output_type": "stream",
     "text": [
      "Logistic Regression\n",
      "Training accuracy:63.93%\n",
      "Test score with l2 norm features: 47.52 %\n"
     ]
    }
   ],
   "source": [
    "# logistic regression\n",
    "print(\"Logistic Regression\")\n",
    "classifier_lr = classifier(X_train_l2, y_train, X_test_l2, y_test, classifier_lr, \"l2 norm\")"
   ]
  },
  {
   "cell_type": "code",
   "execution_count": 149,
   "metadata": {},
   "outputs": [
    {
     "name": "stdout",
     "output_type": "stream",
     "text": [
      "Decision Tree\n",
      "Training accuracy:71.51%\n",
      "Test score with l2 norm features: 51.77 %\n"
     ]
    }
   ],
   "source": [
    "# decision tree\n",
    "print(\"Decision Tree\")\n",
    "classifier_dt = classifier(X_train_l2, y_train, X_test_l2, y_test, classifier_dt, \"l2 norm\")"
   ]
  },
  {
   "cell_type": "markdown",
   "metadata": {},
   "source": [
    "### Clustering - LDA (Latent Dirichlet Allocation)\n",
    "\n",
    "Finds groups of words that appear together"
   ]
  },
  {
   "cell_type": "code",
   "execution_count": 168,
   "metadata": {},
   "outputs": [],
   "source": [
    "vectorizer = CountVectorizer(analyzer=\"word\", min_df=10, stop_words=\"english\", lowercase = True, token_pattern='[a-zA-Z0-9]{3,}')\n",
    "\n",
    "# number of character >3, remove stop words, convert words to lowercase\n",
    "\n",
    "vectorized_data = vectorizer.fit_transform(df['Processed-MedDRA Preferred Term (PT)'])\n"
   ]
  },
  {
   "cell_type": "code",
   "execution_count": 193,
   "metadata": {},
   "outputs": [
    {
     "name": "stdout",
     "output_type": "stream",
     "text": [
      "Topics found via LDA:\n",
      "\n",
      "Topic #0:\n",
      "administration | cestan | angina | amyloid | arterial | bilateral | bundle | atheroembolism | brachiocephalic | cardioversion | barrier | arteriosclerosis | cardiovascular | aortic | associated | abnormality | bifascicular | change | anginal | caval | assist | bacterial | cardiac | charcot | cirrhosis | alcoholic | brachial | atherosclerotic | angiotensin | amylase | calcification | capsule | bilirubin | accessory | application | brugada | cerebral | carasil | arrest | catheter | anomalous | cardiomegaly | aneurysmal | apparent | bendopnoea | brain | arteriogram | claudication | autoimmune | bronchial | ambulatory | accelerated | cardio | acute | alternation | circulation | atherectomy | alternans | cava | basilar | blindness | atrioventricular | attack | adams | aortogram | angioplasty | catheterisation | acuity | capillary | cardiothoracic | biliary | chronic | artery | block | abnormal | choroidal | cerebellar | central | absent | arteriotomy | catecholamines | accident | asthma | aneursym | bone | chronotropic | activity | abdominal | cavernous | amaurosis | circulatory | amputation | abnormalities | axillary | abdomen | acceleration | cerebrovascular | chest | ascites | arrhythmogenic | cardiopulmonary | access | bradycardia | cerebrospinal | abscess | cardiorenal | basal | bradyarrhythmia | atherosclerosis | cell | adrenal | antibody | aneurysm | aldosterone | arterectomy | balint | affecting | athletic | aldosteronism | agnosia | carotid | blood | ablation | accidental | anomaly | baseline | angiogram | arteritis | angiopathy | arrhythmia | aphasia | bezold | atrial | cardiomyopathy | benign | cardiogenic | asystole | clearance | capsular | arteriovenous | cavernosa | agonal | artificial | branch | bypass | bouchard | bergman\n",
      "\n",
      "Topic #1:\n",
      "abdominal | circulatory | anomalous | amputation | amaurosis | arrhythmogenic | asystole | bone | cardiogenic | associated | artery | bypass | catecholamines | apparent | affecting | absent | bergman | bouchard | cerebellar | arrhythmia | antibody | arteriovenous | acuity | asthma | adams | cava | application | arrest | aortogram | angiopathy | aphasia | bradycardia | arteritis | abdomen | baseline | ablation | athletic | bilirubin | adrenal | assist | cardiopulmonary | anginal | chest | angiogram | brachiocephalic | abnormalities | atrial | cardiomyopathy | atherosclerosis | amyloid | acceleration | angina | blindness | administration | arteriotomy | arteriosclerosis | clearance | cell | cestan | cardiothoracic | balint | arterial | aneurysm | cardio | accelerated | aldosterone | abnormal | bifascicular | aortic | barrier | bilateral | attack | atrioventricular | access | cirrhosis | blood | bacterial | aldosteronism | anomaly | cardiomegaly | aneurysmal | accident | agonal | artificial | atheroembolism | autoimmune | ascites | abnormality | central | atherectomy | choroidal | catheterisation | branch | chronic | axillary | bendopnoea | cerebrovascular | alternation | change | carasil | basal | cardiac | cerebrospinal | acute | abscess | cardiorenal | bradyarrhythmia | brugada | bundle | catheter | accessory | circulation | basilar | arterectomy | cerebral | capsule | caval | cardiovascular | block | agnosia | capillary | angioplasty | brain | calcification | accidental | arteriogram | cardioversion | brachial | charcot | claudication | ambulatory | angiotensin | activity | carotid | atherosclerotic | bronchial | alternans | bezold | chronotropic | biliary | benign | alcoholic | amylase | capsular | cavernous | aneursym | cavernosa\n",
      "\n",
      "Topic #2:\n",
      "central | choroidal | bilateral | circulation | amputation | arteriotomy | cava | abnormal | anomaly | aldosterone | atherosclerosis | autoimmune | ascites | basilar | cardiothoracic | cardio | agnosia | blindness | brain | accessory | block | cavernous | bradyarrhythmia | catheterisation | cavernosa | aneurysm | cardiopulmonary | baseline | anginal | aortic | angiogram | circulatory | abdomen | bacterial | abnormalities | anomalous | apparent | alternation | basal | cestan | cardiogenic | change | access | arteritis | bronchial | aneursym | barrier | chronotropic | bifascicular | brachiocephalic | angina | arterectomy | arrhythmogenic | brugada | cardiac | bilirubin | application | caval | asystole | branch | chronic | agonal | artificial | adams | bone | arrhythmia | cardioversion | cerebellar | abdominal | amyloid | cardiomyopathy | administration | associated | athletic | arterial | aneurysmal | attack | bundle | activity | abnormality | cardiovascular | capillary | amaurosis | aldosteronism | benign | atrioventricular | axillary | assist | acceleration | bendopnoea | cerebrovascular | atheroembolism | chest | carasil | bradycardia | acute | cerebrospinal | abscess | cardiorenal | arteriosclerosis | arrest | accelerated | cell | adrenal | catheter | antibody | capsule | artery | cerebral | accident | balint | affecting | cardiomegaly | atherectomy | accidental | ablation | calcification | angioplasty | blood | asthma | aortogram | arteriogram | brachial | charcot | claudication | atherosclerotic | ambulatory | angiotensin | carotid | alternans | angiopathy | aphasia | bezold | absent | amylase | cirrhosis | capsular | atrial | alcoholic | arteriovenous | clearance | biliary | acuity | catecholamines | bypass | bergman | bouchard\n",
      "\n",
      "Topic #3:\n",
      "cestan | chronic | activity | catheterisation | bilateral | administration | capillary | ambulatory | attack | choroidal | catheter | atherectomy | basilar | carotid | arterial | anomalous | claudication | ascites | brachiocephalic | alternans | access | apparent | acute | chest | biliary | carasil | axillary | cardiothoracic | cardiac | basal | cerebrovascular | arteriogram | bendopnoea | acceleration | adrenal | aldosteronism | brugada | cerebral | blindness | abnormalities | bradyarrhythmia | caval | amyloid | aphasia | circulation | atherosclerotic | adams | cardiovascular | bacterial | accelerated | bundle | anginal | affecting | athletic | bradycardia | angioplasty | capsular | autoimmune | cavernous | cardio | amaurosis | atheroembolism | angina | aortic | aneursym | alcoholic | barrier | chronotropic | cirrhosis | arrest | arteritis | amputation | abdominal | catecholamines | circulatory | abnormal | atrioventricular | central | branch | abdomen | bilirubin | assist | associated | cava | alternation | change | arrhythmogenic | application | cardiopulmonary | cerebrospinal | arteriosclerosis | abscess | cardiorenal | bone | atherosclerosis | cell | bifascicular | cerebellar | aneurysmal | accessory | antibody | aldosterone | aneurysm | artery | arterectomy | capsule | balint | accident | calcification | agnosia | block | cardiomegaly | charcot | ablation | blood | accidental | brain | aortogram | anomaly | angiotensin | baseline | asthma | brachial | angiogram | cardioversion | abnormality | arrhythmia | angiopathy | bronchial | absent | bezold | arteriotomy | atrial | cardiomyopathy | benign | asystole | cardiogenic | amylase | clearance | arteriovenous | acuity | cavernosa | agonal | artificial | bypass | bergman | bouchard\n",
      "\n",
      "Topic #4:\n",
      "atrioventricular | athletic | aldosteronism | branch | benign | abdominal | chronotropic | accident | aneursym | aneurysmal | accelerated | brachiocephalic | angina | blood | balint | clearance | arterectomy | arrhythmogenic | bronchial | accidental | cardiorenal | abscess | artificial | agonal | cardiomegaly | bezold | cerebrospinal | capsular | cell | angioplasty | atrial | cardiomyopathy | brain | capsule | cardiothoracic | artery | antibody | alternation | ascites | axillary | aortogram | ablation | assist | abnormal | bundle | bilirubin | abnormalities | basal | acceleration | chest | cava | cavernous | cardio | abdomen | asthma | associated | arterial | attack | bifascicular | bradycardia | absent | cardiac | angiotensin | aneurysm | atherectomy | access | circulation | change | barrier | central | abnormality | amaurosis | amyloid | activity | catecholamines | cerebellar | carotid | bilateral | application | circulatory | administration | anomalous | cestan | atheroembolism | cardioversion | bergman | bouchard | capillary | amputation | arteriotomy | bypass | affecting | asystole | choroidal | anginal | apparent | bendopnoea | cerebrovascular | aortic | carasil | cardiopulmonary | adrenal | acute | blindness | arteriosclerosis | bone | bacterial | arrest | atherosclerosis | bradyarrhythmia | brugada | accessory | catheter | catheterisation | basilar | aldosterone | cerebral | caval | cardiovascular | agnosia | block | autoimmune | claudication | calcification | arteriogram | anomaly | adams | baseline | brachial | angiogram | charcot | ambulatory | chronic | arteritis | atherosclerotic | arrhythmia | angiopathy | aphasia | alternans | amylase | cirrhosis | alcoholic | cardiogenic | arteriovenous | biliary | acuity | cavernosa\n"
     ]
    }
   ],
   "source": [
    "from sklearn.decomposition import LatentDirichletAllocation as LDA\n",
    "\n",
    "# Helper function\n",
    "def print_topics(model, count_vectorizer, n_top_words):\n",
    "    words = count_vectorizer.get_feature_names()\n",
    "    for topic_idx, topic in enumerate(model.components_):\n",
    "        print(\"\\nTopic #%d:\" % topic_idx)\n",
    "        print(\" | \".join([words[i]\n",
    "                        for i in topic.argsort()[:-n_top_words - 1:-1]]))\n",
    "        \n",
    "# two parameters, number of topics, and number of words per topic\n",
    "number_topics = 5\n",
    "number_words = 1100\n",
    "\n",
    "# Create and fit the LDA model\n",
    "lda = LDA(n_components=number_topics)\n",
    "lda_output = lda.fit_transform(vectorized_data)\n",
    "\n",
    "# Print the topics found by the LDA model\n",
    "print(\"Topics found via LDA:\")\n",
    "print_topics(lda, count_vectorizer, number_words)"
   ]
  },
  {
   "cell_type": "code",
   "execution_count": 191,
   "metadata": {},
   "outputs": [
    {
     "name": "stdout",
     "output_type": "stream",
     "text": [
      "Log Likelihood -25187.16188141793\n",
      "Perplexity:  100.53441129297161\n",
      "{'batch_size': 128,\n",
      " 'doc_topic_prior': None,\n",
      " 'evaluate_every': -1,\n",
      " 'learning_decay': 0.7,\n",
      " 'learning_method': 'batch',\n",
      " 'learning_offset': 10.0,\n",
      " 'max_doc_update_iter': 100,\n",
      " 'max_iter': 10,\n",
      " 'mean_change_tol': 0.001,\n",
      " 'n_components': 5,\n",
      " 'n_jobs': None,\n",
      " 'perp_tol': 0.1,\n",
      " 'random_state': None,\n",
      " 'topic_word_prior': None,\n",
      " 'total_samples': 1000000.0,\n",
      " 'verbose': 0}\n"
     ]
    }
   ],
   "source": [
    "import pprint\n",
    "\n",
    "print(\"Log Likelihood\",lda.score(vectorized_data)) # higher the better\n",
    "print(\"Perplexity: \", lda.perplexity(vectorized_data)) # lower the better\n",
    "pprint.pprint(lda.get_params())"
   ]
  },
  {
   "cell_type": "code",
   "execution_count": 161,
   "metadata": {},
   "outputs": [
    {
     "data": {
      "text/html": [
       "<div>\n",
       "<style scoped>\n",
       "    .dataframe tbody tr th:only-of-type {\n",
       "        vertical-align: middle;\n",
       "    }\n",
       "\n",
       "    .dataframe tbody tr th {\n",
       "        vertical-align: top;\n",
       "    }\n",
       "\n",
       "    .dataframe thead th {\n",
       "        text-align: right;\n",
       "    }\n",
       "</style>\n",
       "<table border=\"1\" class=\"dataframe\">\n",
       "  <thead>\n",
       "    <tr style=\"text-align: right;\">\n",
       "      <th></th>\n",
       "      <th>abdomen</th>\n",
       "      <th>abdominal</th>\n",
       "      <th>ablation</th>\n",
       "      <th>abnormal</th>\n",
       "      <th>abnormalities</th>\n",
       "      <th>abnormality</th>\n",
       "      <th>abscess</th>\n",
       "      <th>absent</th>\n",
       "      <th>accelerated</th>\n",
       "      <th>acceleration</th>\n",
       "      <th>...</th>\n",
       "      <th>wall</th>\n",
       "      <th>wallenberg</th>\n",
       "      <th>wandering</th>\n",
       "      <th>warning</th>\n",
       "      <th>wave</th>\n",
       "      <th>waves</th>\n",
       "      <th>wellens</th>\n",
       "      <th>white</th>\n",
       "      <th>withdrawal</th>\n",
       "      <th>wolff</th>\n",
       "    </tr>\n",
       "  </thead>\n",
       "  <tbody>\n",
       "    <tr>\n",
       "      <th>Topic: 0</th>\n",
       "      <td>2.199948</td>\n",
       "      <td>0.200030</td>\n",
       "      <td>0.200018</td>\n",
       "      <td>16.948950</td>\n",
       "      <td>2.199975</td>\n",
       "      <td>0.200012</td>\n",
       "      <td>2.194486</td>\n",
       "      <td>6.199953</td>\n",
       "      <td>4.197656</td>\n",
       "      <td>0.200008</td>\n",
       "      <td>...</td>\n",
       "      <td>0.200008</td>\n",
       "      <td>0.214806</td>\n",
       "      <td>0.200020</td>\n",
       "      <td>0.200015</td>\n",
       "      <td>0.200012</td>\n",
       "      <td>0.200010</td>\n",
       "      <td>0.200032</td>\n",
       "      <td>0.203081</td>\n",
       "      <td>0.200020</td>\n",
       "      <td>0.203081</td>\n",
       "    </tr>\n",
       "    <tr>\n",
       "      <th>Topic: 1</th>\n",
       "      <td>0.200014</td>\n",
       "      <td>8.194797</td>\n",
       "      <td>0.200014</td>\n",
       "      <td>40.781471</td>\n",
       "      <td>0.200006</td>\n",
       "      <td>0.200009</td>\n",
       "      <td>0.200031</td>\n",
       "      <td>0.200012</td>\n",
       "      <td>0.202291</td>\n",
       "      <td>0.200006</td>\n",
       "      <td>...</td>\n",
       "      <td>0.200006</td>\n",
       "      <td>0.200060</td>\n",
       "      <td>0.200016</td>\n",
       "      <td>0.200010</td>\n",
       "      <td>0.200010</td>\n",
       "      <td>0.200008</td>\n",
       "      <td>2.199918</td>\n",
       "      <td>0.200017</td>\n",
       "      <td>4.199935</td>\n",
       "      <td>0.200017</td>\n",
       "    </tr>\n",
       "    <tr>\n",
       "      <th>Topic: 2</th>\n",
       "      <td>0.200015</td>\n",
       "      <td>10.205135</td>\n",
       "      <td>0.204503</td>\n",
       "      <td>28.068345</td>\n",
       "      <td>0.200008</td>\n",
       "      <td>0.200718</td>\n",
       "      <td>0.200035</td>\n",
       "      <td>0.200014</td>\n",
       "      <td>0.200020</td>\n",
       "      <td>0.200007</td>\n",
       "      <td>...</td>\n",
       "      <td>0.200007</td>\n",
       "      <td>0.200063</td>\n",
       "      <td>2.199937</td>\n",
       "      <td>0.200011</td>\n",
       "      <td>0.200011</td>\n",
       "      <td>0.200009</td>\n",
       "      <td>0.200019</td>\n",
       "      <td>0.200017</td>\n",
       "      <td>0.200018</td>\n",
       "      <td>0.200017</td>\n",
       "    </tr>\n",
       "    <tr>\n",
       "      <th>Topic: 3</th>\n",
       "      <td>0.200014</td>\n",
       "      <td>0.200023</td>\n",
       "      <td>2.195453</td>\n",
       "      <td>65.000789</td>\n",
       "      <td>0.200007</td>\n",
       "      <td>10.199255</td>\n",
       "      <td>0.205426</td>\n",
       "      <td>0.200012</td>\n",
       "      <td>0.200019</td>\n",
       "      <td>2.199975</td>\n",
       "      <td>...</td>\n",
       "      <td>2.199974</td>\n",
       "      <td>0.200062</td>\n",
       "      <td>0.200016</td>\n",
       "      <td>4.199957</td>\n",
       "      <td>18.199961</td>\n",
       "      <td>2.199967</td>\n",
       "      <td>0.200019</td>\n",
       "      <td>0.200017</td>\n",
       "      <td>0.200016</td>\n",
       "      <td>0.200017</td>\n",
       "    </tr>\n",
       "    <tr>\n",
       "      <th>Topic: 4</th>\n",
       "      <td>0.200009</td>\n",
       "      <td>0.200015</td>\n",
       "      <td>0.200012</td>\n",
       "      <td>0.200446</td>\n",
       "      <td>0.200004</td>\n",
       "      <td>0.200007</td>\n",
       "      <td>0.200022</td>\n",
       "      <td>0.200009</td>\n",
       "      <td>0.200013</td>\n",
       "      <td>0.200004</td>\n",
       "      <td>...</td>\n",
       "      <td>0.200005</td>\n",
       "      <td>2.185008</td>\n",
       "      <td>0.200012</td>\n",
       "      <td>0.200007</td>\n",
       "      <td>0.200007</td>\n",
       "      <td>0.200005</td>\n",
       "      <td>0.200012</td>\n",
       "      <td>2.196868</td>\n",
       "      <td>0.200011</td>\n",
       "      <td>2.196868</td>\n",
       "    </tr>\n",
       "  </tbody>\n",
       "</table>\n",
       "<p>5 rows × 728 columns</p>\n",
       "</div>"
      ],
      "text/plain": [
       "           abdomen  abdominal  ablation   abnormal  abnormalities  \\\n",
       "Topic: 0  2.199948   0.200030  0.200018  16.948950       2.199975   \n",
       "Topic: 1  0.200014   8.194797  0.200014  40.781471       0.200006   \n",
       "Topic: 2  0.200015  10.205135  0.204503  28.068345       0.200008   \n",
       "Topic: 3  0.200014   0.200023  2.195453  65.000789       0.200007   \n",
       "Topic: 4  0.200009   0.200015  0.200012   0.200446       0.200004   \n",
       "\n",
       "          abnormality   abscess    absent  accelerated  acceleration  ...  \\\n",
       "Topic: 0     0.200012  2.194486  6.199953     4.197656      0.200008  ...   \n",
       "Topic: 1     0.200009  0.200031  0.200012     0.202291      0.200006  ...   \n",
       "Topic: 2     0.200718  0.200035  0.200014     0.200020      0.200007  ...   \n",
       "Topic: 3    10.199255  0.205426  0.200012     0.200019      2.199975  ...   \n",
       "Topic: 4     0.200007  0.200022  0.200009     0.200013      0.200004  ...   \n",
       "\n",
       "              wall  wallenberg  wandering   warning       wave     waves  \\\n",
       "Topic: 0  0.200008    0.214806   0.200020  0.200015   0.200012  0.200010   \n",
       "Topic: 1  0.200006    0.200060   0.200016  0.200010   0.200010  0.200008   \n",
       "Topic: 2  0.200007    0.200063   2.199937  0.200011   0.200011  0.200009   \n",
       "Topic: 3  2.199974    0.200062   0.200016  4.199957  18.199961  2.199967   \n",
       "Topic: 4  0.200005    2.185008   0.200012  0.200007   0.200007  0.200005   \n",
       "\n",
       "           wellens     white  withdrawal     wolff  \n",
       "Topic: 0  0.200032  0.203081    0.200020  0.203081  \n",
       "Topic: 1  2.199918  0.200017    4.199935  0.200017  \n",
       "Topic: 2  0.200019  0.200017    0.200018  0.200017  \n",
       "Topic: 3  0.200019  0.200017    0.200016  0.200017  \n",
       "Topic: 4  0.200012  2.196868    0.200011  2.196868  \n",
       "\n",
       "[5 rows x 728 columns]"
      ]
     },
     "execution_count": 161,
     "metadata": {},
     "output_type": "execute_result"
    }
   ],
   "source": [
    "### Topic's Keywords\n",
    "import pandas as pd\n",
    "df_topic_keywords = pd.DataFrame(lda.components_)\n",
    "# \n",
    "df_topic_keywords.columns = count_vectorizer.get_feature_names()\n",
    "df_topic_keywords.index = [\"Topic: \"+ str(i) for i in range(number_topics)]\n",
    "\n",
    "\n",
    "df_topic_keywords.head()"
   ]
  },
  {
   "cell_type": "markdown",
   "metadata": {},
   "source": [
    "#### Visualizing clusters - TSNE plot"
   ]
  },
  {
   "cell_type": "code",
   "execution_count": 189,
   "metadata": {},
   "outputs": [
    {
     "name": "stdout",
     "output_type": "stream",
     "text": [
      "[t-SNE] Computing 91 nearest neighbors...\n",
      "[t-SNE] Indexed 2805 samples in 0.003s...\n",
      "[t-SNE] Computed neighbors for 2805 samples in 0.071s...\n",
      "[t-SNE] Computed conditional probabilities for sample 1000 / 2805\n",
      "[t-SNE] Computed conditional probabilities for sample 2000 / 2805\n",
      "[t-SNE] Computed conditional probabilities for sample 2805 / 2805\n",
      "[t-SNE] Mean sigma: 0.000000\n",
      "[t-SNE] KL divergence after 250 iterations with early exaggeration: 46.575706\n",
      "[t-SNE] KL divergence after 1000 iterations: -0.086528\n"
     ]
    },
    {
     "data": {
      "text/html": [
       "\n",
       "    <div class=\"bk-root\">\n",
       "        <a href=\"https://bokeh.org\" target=\"_blank\" class=\"bk-logo bk-logo-small bk-logo-notebook\"></a>\n",
       "        <span id=\"1001\">Loading BokehJS ...</span>\n",
       "    </div>"
      ]
     },
     "metadata": {},
     "output_type": "display_data"
    },
    {
     "data": {
      "application/javascript": [
       "\n",
       "(function(root) {\n",
       "  function now() {\n",
       "    return new Date();\n",
       "  }\n",
       "\n",
       "  var force = true;\n",
       "\n",
       "  if (typeof root._bokeh_onload_callbacks === \"undefined\" || force === true) {\n",
       "    root._bokeh_onload_callbacks = [];\n",
       "    root._bokeh_is_loading = undefined;\n",
       "  }\n",
       "\n",
       "  var JS_MIME_TYPE = 'application/javascript';\n",
       "  var HTML_MIME_TYPE = 'text/html';\n",
       "  var EXEC_MIME_TYPE = 'application/vnd.bokehjs_exec.v0+json';\n",
       "  var CLASS_NAME = 'output_bokeh rendered_html';\n",
       "\n",
       "  /**\n",
       "   * Render data to the DOM node\n",
       "   */\n",
       "  function render(props, node) {\n",
       "    var script = document.createElement(\"script\");\n",
       "    node.appendChild(script);\n",
       "  }\n",
       "\n",
       "  /**\n",
       "   * Handle when an output is cleared or removed\n",
       "   */\n",
       "  function handleClearOutput(event, handle) {\n",
       "    var cell = handle.cell;\n",
       "\n",
       "    var id = cell.output_area._bokeh_element_id;\n",
       "    var server_id = cell.output_area._bokeh_server_id;\n",
       "    // Clean up Bokeh references\n",
       "    if (id != null && id in Bokeh.index) {\n",
       "      Bokeh.index[id].model.document.clear();\n",
       "      delete Bokeh.index[id];\n",
       "    }\n",
       "\n",
       "    if (server_id !== undefined) {\n",
       "      // Clean up Bokeh references\n",
       "      var cmd = \"from bokeh.io.state import curstate; print(curstate().uuid_to_server['\" + server_id + \"'].get_sessions()[0].document.roots[0]._id)\";\n",
       "      cell.notebook.kernel.execute(cmd, {\n",
       "        iopub: {\n",
       "          output: function(msg) {\n",
       "            var id = msg.content.text.trim();\n",
       "            if (id in Bokeh.index) {\n",
       "              Bokeh.index[id].model.document.clear();\n",
       "              delete Bokeh.index[id];\n",
       "            }\n",
       "          }\n",
       "        }\n",
       "      });\n",
       "      // Destroy server and session\n",
       "      var cmd = \"import bokeh.io.notebook as ion; ion.destroy_server('\" + server_id + \"')\";\n",
       "      cell.notebook.kernel.execute(cmd);\n",
       "    }\n",
       "  }\n",
       "\n",
       "  /**\n",
       "   * Handle when a new output is added\n",
       "   */\n",
       "  function handleAddOutput(event, handle) {\n",
       "    var output_area = handle.output_area;\n",
       "    var output = handle.output;\n",
       "\n",
       "    // limit handleAddOutput to display_data with EXEC_MIME_TYPE content only\n",
       "    if ((output.output_type != \"display_data\") || (!output.data.hasOwnProperty(EXEC_MIME_TYPE))) {\n",
       "      return\n",
       "    }\n",
       "\n",
       "    var toinsert = output_area.element.find(\".\" + CLASS_NAME.split(' ')[0]);\n",
       "\n",
       "    if (output.metadata[EXEC_MIME_TYPE][\"id\"] !== undefined) {\n",
       "      toinsert[toinsert.length - 1].firstChild.textContent = output.data[JS_MIME_TYPE];\n",
       "      // store reference to embed id on output_area\n",
       "      output_area._bokeh_element_id = output.metadata[EXEC_MIME_TYPE][\"id\"];\n",
       "    }\n",
       "    if (output.metadata[EXEC_MIME_TYPE][\"server_id\"] !== undefined) {\n",
       "      var bk_div = document.createElement(\"div\");\n",
       "      bk_div.innerHTML = output.data[HTML_MIME_TYPE];\n",
       "      var script_attrs = bk_div.children[0].attributes;\n",
       "      for (var i = 0; i < script_attrs.length; i++) {\n",
       "        toinsert[toinsert.length - 1].firstChild.setAttribute(script_attrs[i].name, script_attrs[i].value);\n",
       "        toinsert[toinsert.length - 1].firstChild.textContent = bk_div.children[0].textContent\n",
       "      }\n",
       "      // store reference to server id on output_area\n",
       "      output_area._bokeh_server_id = output.metadata[EXEC_MIME_TYPE][\"server_id\"];\n",
       "    }\n",
       "  }\n",
       "\n",
       "  function register_renderer(events, OutputArea) {\n",
       "\n",
       "    function append_mime(data, metadata, element) {\n",
       "      // create a DOM node to render to\n",
       "      var toinsert = this.create_output_subarea(\n",
       "        metadata,\n",
       "        CLASS_NAME,\n",
       "        EXEC_MIME_TYPE\n",
       "      );\n",
       "      this.keyboard_manager.register_events(toinsert);\n",
       "      // Render to node\n",
       "      var props = {data: data, metadata: metadata[EXEC_MIME_TYPE]};\n",
       "      render(props, toinsert[toinsert.length - 1]);\n",
       "      element.append(toinsert);\n",
       "      return toinsert\n",
       "    }\n",
       "\n",
       "    /* Handle when an output is cleared or removed */\n",
       "    events.on('clear_output.CodeCell', handleClearOutput);\n",
       "    events.on('delete.Cell', handleClearOutput);\n",
       "\n",
       "    /* Handle when a new output is added */\n",
       "    events.on('output_added.OutputArea', handleAddOutput);\n",
       "\n",
       "    /**\n",
       "     * Register the mime type and append_mime function with output_area\n",
       "     */\n",
       "    OutputArea.prototype.register_mime_type(EXEC_MIME_TYPE, append_mime, {\n",
       "      /* Is output safe? */\n",
       "      safe: true,\n",
       "      /* Index of renderer in `output_area.display_order` */\n",
       "      index: 0\n",
       "    });\n",
       "  }\n",
       "\n",
       "  // register the mime type if in Jupyter Notebook environment and previously unregistered\n",
       "  if (root.Jupyter !== undefined) {\n",
       "    var events = require('base/js/events');\n",
       "    var OutputArea = require('notebook/js/outputarea').OutputArea;\n",
       "\n",
       "    if (OutputArea.prototype.mime_types().indexOf(EXEC_MIME_TYPE) == -1) {\n",
       "      register_renderer(events, OutputArea);\n",
       "    }\n",
       "  }\n",
       "\n",
       "  \n",
       "  if (typeof (root._bokeh_timeout) === \"undefined\" || force === true) {\n",
       "    root._bokeh_timeout = Date.now() + 5000;\n",
       "    root._bokeh_failed_load = false;\n",
       "  }\n",
       "\n",
       "  var NB_LOAD_WARNING = {'data': {'text/html':\n",
       "     \"<div style='background-color: #fdd'>\\n\"+\n",
       "     \"<p>\\n\"+\n",
       "     \"BokehJS does not appear to have successfully loaded. If loading BokehJS from CDN, this \\n\"+\n",
       "     \"may be due to a slow or bad network connection. Possible fixes:\\n\"+\n",
       "     \"</p>\\n\"+\n",
       "     \"<ul>\\n\"+\n",
       "     \"<li>re-rerun `output_notebook()` to attempt to load from CDN again, or</li>\\n\"+\n",
       "     \"<li>use INLINE resources instead, as so:</li>\\n\"+\n",
       "     \"</ul>\\n\"+\n",
       "     \"<code>\\n\"+\n",
       "     \"from bokeh.resources import INLINE\\n\"+\n",
       "     \"output_notebook(resources=INLINE)\\n\"+\n",
       "     \"</code>\\n\"+\n",
       "     \"</div>\"}};\n",
       "\n",
       "  function display_loaded() {\n",
       "    var el = document.getElementById(\"1001\");\n",
       "    if (el != null) {\n",
       "      el.textContent = \"BokehJS is loading...\";\n",
       "    }\n",
       "    if (root.Bokeh !== undefined) {\n",
       "      if (el != null) {\n",
       "        el.textContent = \"BokehJS \" + root.Bokeh.version + \" successfully loaded.\";\n",
       "      }\n",
       "    } else if (Date.now() < root._bokeh_timeout) {\n",
       "      setTimeout(display_loaded, 100)\n",
       "    }\n",
       "  }\n",
       "\n",
       "\n",
       "  function run_callbacks() {\n",
       "    try {\n",
       "      root._bokeh_onload_callbacks.forEach(function(callback) {\n",
       "        if (callback != null)\n",
       "          callback();\n",
       "      });\n",
       "    } finally {\n",
       "      delete root._bokeh_onload_callbacks\n",
       "    }\n",
       "    console.debug(\"Bokeh: all callbacks have finished\");\n",
       "  }\n",
       "\n",
       "  function load_libs(css_urls, js_urls, callback) {\n",
       "    if (css_urls == null) css_urls = [];\n",
       "    if (js_urls == null) js_urls = [];\n",
       "\n",
       "    root._bokeh_onload_callbacks.push(callback);\n",
       "    if (root._bokeh_is_loading > 0) {\n",
       "      console.debug(\"Bokeh: BokehJS is being loaded, scheduling callback at\", now());\n",
       "      return null;\n",
       "    }\n",
       "    if (js_urls == null || js_urls.length === 0) {\n",
       "      run_callbacks();\n",
       "      return null;\n",
       "    }\n",
       "    console.debug(\"Bokeh: BokehJS not loaded, scheduling load and callback at\", now());\n",
       "    root._bokeh_is_loading = css_urls.length + js_urls.length;\n",
       "\n",
       "    function on_load() {\n",
       "      root._bokeh_is_loading--;\n",
       "      if (root._bokeh_is_loading === 0) {\n",
       "        console.debug(\"Bokeh: all BokehJS libraries/stylesheets loaded\");\n",
       "        run_callbacks()\n",
       "      }\n",
       "    }\n",
       "\n",
       "    function on_error() {\n",
       "      console.error(\"failed to load \" + url);\n",
       "    }\n",
       "\n",
       "    for (var i = 0; i < css_urls.length; i++) {\n",
       "      var url = css_urls[i];\n",
       "      const element = document.createElement(\"link\");\n",
       "      element.onload = on_load;\n",
       "      element.onerror = on_error;\n",
       "      element.rel = \"stylesheet\";\n",
       "      element.type = \"text/css\";\n",
       "      element.href = url;\n",
       "      console.debug(\"Bokeh: injecting link tag for BokehJS stylesheet: \", url);\n",
       "      document.body.appendChild(element);\n",
       "    }\n",
       "\n",
       "    const hashes = {\"https://cdn.bokeh.org/bokeh/release/bokeh-2.1.1.min.js\": \"kLr4fYcqcSpbuI95brIH3vnnYCquzzSxHPU6XGQCIkQRGJwhg0StNbj1eegrHs12\", \"https://cdn.bokeh.org/bokeh/release/bokeh-widgets-2.1.1.min.js\": \"xIGPmVtaOm+z0BqfSOMn4lOR6ciex448GIKG4eE61LsAvmGj48XcMQZtKcE/UXZe\", \"https://cdn.bokeh.org/bokeh/release/bokeh-tables-2.1.1.min.js\": \"Dc9u1wF/0zApGIWoBbH77iWEHtdmkuYWG839Uzmv8y8yBLXebjO9ZnERsde5Ln/P\", \"https://cdn.bokeh.org/bokeh/release/bokeh-gl-2.1.1.min.js\": \"cT9JaBz7GiRXdENrJLZNSC6eMNF3nh3fa5fTF51Svp+ukxPdwcU5kGXGPBgDCa2j\"};\n",
       "\n",
       "    for (var i = 0; i < js_urls.length; i++) {\n",
       "      var url = js_urls[i];\n",
       "      var element = document.createElement('script');\n",
       "      element.onload = on_load;\n",
       "      element.onerror = on_error;\n",
       "      element.async = false;\n",
       "      element.src = url;\n",
       "      if (url in hashes) {\n",
       "        element.crossOrigin = \"anonymous\";\n",
       "        element.integrity = \"sha384-\" + hashes[url];\n",
       "      }\n",
       "      console.debug(\"Bokeh: injecting script tag for BokehJS library: \", url);\n",
       "      document.head.appendChild(element);\n",
       "    }\n",
       "  };\n",
       "\n",
       "  function inject_raw_css(css) {\n",
       "    const element = document.createElement(\"style\");\n",
       "    element.appendChild(document.createTextNode(css));\n",
       "    document.body.appendChild(element);\n",
       "  }\n",
       "\n",
       "  \n",
       "  var js_urls = [\"https://cdn.bokeh.org/bokeh/release/bokeh-2.1.1.min.js\", \"https://cdn.bokeh.org/bokeh/release/bokeh-widgets-2.1.1.min.js\", \"https://cdn.bokeh.org/bokeh/release/bokeh-tables-2.1.1.min.js\", \"https://cdn.bokeh.org/bokeh/release/bokeh-gl-2.1.1.min.js\"];\n",
       "  var css_urls = [];\n",
       "  \n",
       "\n",
       "  var inline_js = [\n",
       "    function(Bokeh) {\n",
       "      Bokeh.set_log_level(\"info\");\n",
       "    },\n",
       "    function(Bokeh) {\n",
       "    \n",
       "    \n",
       "    }\n",
       "  ];\n",
       "\n",
       "  function run_inline_js() {\n",
       "    \n",
       "    if (root.Bokeh !== undefined || force === true) {\n",
       "      \n",
       "    for (var i = 0; i < inline_js.length; i++) {\n",
       "      inline_js[i].call(root, root.Bokeh);\n",
       "    }\n",
       "    if (force === true) {\n",
       "        display_loaded();\n",
       "      }} else if (Date.now() < root._bokeh_timeout) {\n",
       "      setTimeout(run_inline_js, 100);\n",
       "    } else if (!root._bokeh_failed_load) {\n",
       "      console.log(\"Bokeh: BokehJS failed to load within specified timeout.\");\n",
       "      root._bokeh_failed_load = true;\n",
       "    } else if (force !== true) {\n",
       "      var cell = $(document.getElementById(\"1001\")).parents('.cell').data().cell;\n",
       "      cell.output_area.append_execute_result(NB_LOAD_WARNING)\n",
       "    }\n",
       "\n",
       "  }\n",
       "\n",
       "  if (root._bokeh_is_loading === 0) {\n",
       "    console.debug(\"Bokeh: BokehJS loaded, going straight to plotting\");\n",
       "    run_inline_js();\n",
       "  } else {\n",
       "    load_libs(css_urls, js_urls, function() {\n",
       "      console.debug(\"Bokeh: BokehJS plotting callback run at\", now());\n",
       "      run_inline_js();\n",
       "    });\n",
       "  }\n",
       "}(window));"
      ],
      "application/vnd.bokehjs_load.v0+json": "\n(function(root) {\n  function now() {\n    return new Date();\n  }\n\n  var force = true;\n\n  if (typeof root._bokeh_onload_callbacks === \"undefined\" || force === true) {\n    root._bokeh_onload_callbacks = [];\n    root._bokeh_is_loading = undefined;\n  }\n\n  \n\n  \n  if (typeof (root._bokeh_timeout) === \"undefined\" || force === true) {\n    root._bokeh_timeout = Date.now() + 5000;\n    root._bokeh_failed_load = false;\n  }\n\n  var NB_LOAD_WARNING = {'data': {'text/html':\n     \"<div style='background-color: #fdd'>\\n\"+\n     \"<p>\\n\"+\n     \"BokehJS does not appear to have successfully loaded. If loading BokehJS from CDN, this \\n\"+\n     \"may be due to a slow or bad network connection. Possible fixes:\\n\"+\n     \"</p>\\n\"+\n     \"<ul>\\n\"+\n     \"<li>re-rerun `output_notebook()` to attempt to load from CDN again, or</li>\\n\"+\n     \"<li>use INLINE resources instead, as so:</li>\\n\"+\n     \"</ul>\\n\"+\n     \"<code>\\n\"+\n     \"from bokeh.resources import INLINE\\n\"+\n     \"output_notebook(resources=INLINE)\\n\"+\n     \"</code>\\n\"+\n     \"</div>\"}};\n\n  function display_loaded() {\n    var el = document.getElementById(\"1001\");\n    if (el != null) {\n      el.textContent = \"BokehJS is loading...\";\n    }\n    if (root.Bokeh !== undefined) {\n      if (el != null) {\n        el.textContent = \"BokehJS \" + root.Bokeh.version + \" successfully loaded.\";\n      }\n    } else if (Date.now() < root._bokeh_timeout) {\n      setTimeout(display_loaded, 100)\n    }\n  }\n\n\n  function run_callbacks() {\n    try {\n      root._bokeh_onload_callbacks.forEach(function(callback) {\n        if (callback != null)\n          callback();\n      });\n    } finally {\n      delete root._bokeh_onload_callbacks\n    }\n    console.debug(\"Bokeh: all callbacks have finished\");\n  }\n\n  function load_libs(css_urls, js_urls, callback) {\n    if (css_urls == null) css_urls = [];\n    if (js_urls == null) js_urls = [];\n\n    root._bokeh_onload_callbacks.push(callback);\n    if (root._bokeh_is_loading > 0) {\n      console.debug(\"Bokeh: BokehJS is being loaded, scheduling callback at\", now());\n      return null;\n    }\n    if (js_urls == null || js_urls.length === 0) {\n      run_callbacks();\n      return null;\n    }\n    console.debug(\"Bokeh: BokehJS not loaded, scheduling load and callback at\", now());\n    root._bokeh_is_loading = css_urls.length + js_urls.length;\n\n    function on_load() {\n      root._bokeh_is_loading--;\n      if (root._bokeh_is_loading === 0) {\n        console.debug(\"Bokeh: all BokehJS libraries/stylesheets loaded\");\n        run_callbacks()\n      }\n    }\n\n    function on_error() {\n      console.error(\"failed to load \" + url);\n    }\n\n    for (var i = 0; i < css_urls.length; i++) {\n      var url = css_urls[i];\n      const element = document.createElement(\"link\");\n      element.onload = on_load;\n      element.onerror = on_error;\n      element.rel = \"stylesheet\";\n      element.type = \"text/css\";\n      element.href = url;\n      console.debug(\"Bokeh: injecting link tag for BokehJS stylesheet: \", url);\n      document.body.appendChild(element);\n    }\n\n    const hashes = {\"https://cdn.bokeh.org/bokeh/release/bokeh-2.1.1.min.js\": \"kLr4fYcqcSpbuI95brIH3vnnYCquzzSxHPU6XGQCIkQRGJwhg0StNbj1eegrHs12\", \"https://cdn.bokeh.org/bokeh/release/bokeh-widgets-2.1.1.min.js\": \"xIGPmVtaOm+z0BqfSOMn4lOR6ciex448GIKG4eE61LsAvmGj48XcMQZtKcE/UXZe\", \"https://cdn.bokeh.org/bokeh/release/bokeh-tables-2.1.1.min.js\": \"Dc9u1wF/0zApGIWoBbH77iWEHtdmkuYWG839Uzmv8y8yBLXebjO9ZnERsde5Ln/P\", \"https://cdn.bokeh.org/bokeh/release/bokeh-gl-2.1.1.min.js\": \"cT9JaBz7GiRXdENrJLZNSC6eMNF3nh3fa5fTF51Svp+ukxPdwcU5kGXGPBgDCa2j\"};\n\n    for (var i = 0; i < js_urls.length; i++) {\n      var url = js_urls[i];\n      var element = document.createElement('script');\n      element.onload = on_load;\n      element.onerror = on_error;\n      element.async = false;\n      element.src = url;\n      if (url in hashes) {\n        element.crossOrigin = \"anonymous\";\n        element.integrity = \"sha384-\" + hashes[url];\n      }\n      console.debug(\"Bokeh: injecting script tag for BokehJS library: \", url);\n      document.head.appendChild(element);\n    }\n  };\n\n  function inject_raw_css(css) {\n    const element = document.createElement(\"style\");\n    element.appendChild(document.createTextNode(css));\n    document.body.appendChild(element);\n  }\n\n  \n  var js_urls = [\"https://cdn.bokeh.org/bokeh/release/bokeh-2.1.1.min.js\", \"https://cdn.bokeh.org/bokeh/release/bokeh-widgets-2.1.1.min.js\", \"https://cdn.bokeh.org/bokeh/release/bokeh-tables-2.1.1.min.js\", \"https://cdn.bokeh.org/bokeh/release/bokeh-gl-2.1.1.min.js\"];\n  var css_urls = [];\n  \n\n  var inline_js = [\n    function(Bokeh) {\n      Bokeh.set_log_level(\"info\");\n    },\n    function(Bokeh) {\n    \n    \n    }\n  ];\n\n  function run_inline_js() {\n    \n    if (root.Bokeh !== undefined || force === true) {\n      \n    for (var i = 0; i < inline_js.length; i++) {\n      inline_js[i].call(root, root.Bokeh);\n    }\n    if (force === true) {\n        display_loaded();\n      }} else if (Date.now() < root._bokeh_timeout) {\n      setTimeout(run_inline_js, 100);\n    } else if (!root._bokeh_failed_load) {\n      console.log(\"Bokeh: BokehJS failed to load within specified timeout.\");\n      root._bokeh_failed_load = true;\n    } else if (force !== true) {\n      var cell = $(document.getElementById(\"1001\")).parents('.cell').data().cell;\n      cell.output_area.append_execute_result(NB_LOAD_WARNING)\n    }\n\n  }\n\n  if (root._bokeh_is_loading === 0) {\n    console.debug(\"Bokeh: BokehJS loaded, going straight to plotting\");\n    run_inline_js();\n  } else {\n    load_libs(css_urls, js_urls, function() {\n      console.debug(\"Bokeh: BokehJS plotting callback run at\", now());\n      run_inline_js();\n    });\n  }\n}(window));"
     },
     "metadata": {},
     "output_type": "display_data"
    },
    {
     "data": {
      "text/html": [
       "\n",
       "\n",
       "\n",
       "\n",
       "\n",
       "\n",
       "  <div class=\"bk-root\" id=\"ac8e5c80-e69d-4fb4-9570-45eae4e82392\" data-root-id=\"1002\"></div>\n"
      ]
     },
     "metadata": {},
     "output_type": "display_data"
    },
    {
     "data": {
      "application/javascript": [
       "(function(root) {\n",
       "  function embed_document(root) {\n",
       "    \n",
       "  var docs_json = {\"5a6320d0-3f70-4cf4-9443-c6570c4a169f\":{\"roots\":{\"references\":[{\"attributes\":{\"below\":[{\"id\":\"1013\"}],\"center\":[{\"id\":\"1016\"},{\"id\":\"1020\"}],\"left\":[{\"id\":\"1017\"}],\"plot_height\":700,\"plot_width\":900,\"renderers\":[{\"id\":\"1038\"}],\"title\":{\"id\":\"1003\"},\"toolbar\":{\"id\":\"1028\"},\"x_range\":{\"id\":\"1005\"},\"x_scale\":{\"id\":\"1009\"},\"y_range\":{\"id\":\"1007\"},\"y_scale\":{\"id\":\"1011\"}},\"id\":\"1002\",\"subtype\":\"Figure\",\"type\":\"Plot\"},{\"attributes\":{},\"id\":\"1025\",\"type\":\"ResetTool\"},{\"attributes\":{\"bottom_units\":\"screen\",\"fill_alpha\":0.5,\"fill_color\":\"lightgrey\",\"left_units\":\"screen\",\"level\":\"overlay\",\"line_alpha\":1.0,\"line_color\":\"black\",\"line_dash\":[4,4],\"line_width\":2,\"right_units\":\"screen\",\"top_units\":\"screen\"},\"id\":\"1027\",\"type\":\"BoxAnnotation\"},{\"attributes\":{\"axis\":{\"id\":\"1013\"},\"ticker\":null},\"id\":\"1016\",\"type\":\"Grid\"},{\"attributes\":{},\"id\":\"1043\",\"type\":\"BasicTickFormatter\"},{\"attributes\":{},\"id\":\"1009\",\"type\":\"LinearScale\"},{\"attributes\":{\"data_source\":{\"id\":\"1035\"},\"glyph\":{\"id\":\"1036\"},\"hover_glyph\":null,\"muted_glyph\":null,\"nonselection_glyph\":{\"id\":\"1037\"},\"selection_glyph\":null,\"view\":{\"id\":\"1039\"}},\"id\":\"1038\",\"type\":\"GlyphRenderer\"},{\"attributes\":{},\"id\":\"1041\",\"type\":\"BasicTickFormatter\"},{\"attributes\":{\"formatter\":{\"id\":\"1043\"},\"ticker\":{\"id\":\"1014\"}},\"id\":\"1013\",\"type\":\"LinearAxis\"},{\"attributes\":{\"active_drag\":\"auto\",\"active_inspect\":\"auto\",\"active_multi\":null,\"active_scroll\":\"auto\",\"active_tap\":\"auto\",\"tools\":[{\"id\":\"1021\"},{\"id\":\"1022\"},{\"id\":\"1023\"},{\"id\":\"1024\"},{\"id\":\"1025\"},{\"id\":\"1026\"}]},\"id\":\"1028\",\"type\":\"Toolbar\"},{\"attributes\":{},\"id\":\"1011\",\"type\":\"LinearScale\"},{\"attributes\":{},\"id\":\"1005\",\"type\":\"DataRange1d\"},{\"attributes\":{\"formatter\":{\"id\":\"1041\"},\"ticker\":{\"id\":\"1018\"}},\"id\":\"1017\",\"type\":\"LinearAxis\"},{\"attributes\":{},\"id\":\"1014\",\"type\":\"BasicTicker\"},{\"attributes\":{},\"id\":\"1018\",\"type\":\"BasicTicker\"},{\"attributes\":{\"overlay\":{\"id\":\"1027\"}},\"id\":\"1023\",\"type\":\"BoxZoomTool\"},{\"attributes\":{\"fill_alpha\":{\"value\":0.1},\"fill_color\":{\"field\":\"fill_color\"},\"line_alpha\":{\"value\":0.1},\"line_color\":{\"field\":\"line_color\"},\"x\":{\"field\":\"x\"},\"y\":{\"field\":\"y\"}},\"id\":\"1037\",\"type\":\"Scatter\"},{\"attributes\":{},\"id\":\"1026\",\"type\":\"HelpTool\"},{\"attributes\":{\"text\":\"t-SNE clustering for 5 LDA topics\"},\"id\":\"1003\",\"type\":\"Title\"},{\"attributes\":{\"axis\":{\"id\":\"1017\"},\"dimension\":1,\"ticker\":null},\"id\":\"1020\",\"type\":\"Grid\"},{\"attributes\":{},\"id\":\"1007\",\"type\":\"DataRange1d\"},{\"attributes\":{\"source\":{\"id\":\"1035\"}},\"id\":\"1039\",\"type\":\"CDSView\"},{\"attributes\":{},\"id\":\"1046\",\"type\":\"UnionRenderers\"},{\"attributes\":{\"data\":{\"fill_color\":[\"#1f77b4\",\"#2ca02c\",\"#ff7f0e\",\"#1f77b4\",\"#d62728\",\"#9467bd\",\"#2ca02c\",\"#9467bd\",\"#9467bd\",\"#ff7f0e\",\"#9467bd\",\"#d62728\",\"#9467bd\",\"#9467bd\",\"#1f77b4\",\"#d62728\",\"#d62728\",\"#d62728\",\"#d62728\",\"#d62728\",\"#d62728\",\"#d62728\",\"#ff7f0e\",\"#d62728\",\"#1f77b4\",\"#2ca02c\",\"#ff7f0e\",\"#2ca02c\",\"#ff7f0e\",\"#d62728\",\"#d62728\",\"#d62728\",\"#d62728\",\"#2ca02c\",\"#2ca02c\",\"#d62728\",\"#2ca02c\",\"#1f77b4\",\"#2ca02c\",\"#2ca02c\",\"#2ca02c\",\"#1f77b4\",\"#2ca02c\",\"#1f77b4\",\"#d62728\",\"#d62728\",\"#d62728\",\"#d62728\",\"#d62728\",\"#d62728\",\"#d62728\",\"#d62728\",\"#d62728\",\"#d62728\",\"#d62728\",\"#d62728\",\"#d62728\",\"#d62728\",\"#d62728\",\"#d62728\",\"#d62728\",\"#1f77b4\",\"#9467bd\",\"#ff7f0e\",\"#ff7f0e\",\"#ff7f0e\",\"#ff7f0e\",\"#ff7f0e\",\"#ff7f0e\",\"#ff7f0e\",\"#ff7f0e\",\"#d62728\",\"#ff7f0e\",\"#ff7f0e\",\"#ff7f0e\",\"#ff7f0e\",\"#1f77b4\",\"#1f77b4\",\"#2ca02c\",\"#ff7f0e\",\"#ff7f0e\",\"#ff7f0e\",\"#2ca02c\",\"#9467bd\",\"#1f77b4\",\"#1f77b4\",\"#ff7f0e\",\"#9467bd\",\"#ff7f0e\",\"#1f77b4\",\"#1f77b4\",\"#9467bd\",\"#d62728\",\"#1f77b4\",\"#1f77b4\",\"#9467bd\",\"#2ca02c\",\"#2ca02c\",\"#2ca02c\",\"#1f77b4\",\"#d62728\",\"#2ca02c\",\"#2ca02c\",\"#2ca02c\",\"#2ca02c\",\"#2ca02c\",\"#2ca02c\",\"#9467bd\",\"#9467bd\",\"#9467bd\",\"#1f77b4\",\"#1f77b4\",\"#1f77b4\",\"#1f77b4\",\"#1f77b4\",\"#1f77b4\",\"#1f77b4\",\"#d62728\",\"#9467bd\",\"#d62728\",\"#d62728\",\"#d62728\",\"#d62728\",\"#d62728\",\"#d62728\",\"#d62728\",\"#d62728\",\"#d62728\",\"#1f77b4\",\"#9467bd\",\"#ff7f0e\",\"#2ca02c\",\"#2ca02c\",\"#2ca02c\",\"#9467bd\",\"#1f77b4\",\"#1f77b4\",\"#1f77b4\",\"#ff7f0e\",\"#ff7f0e\",\"#ff7f0e\",\"#9467bd\",\"#ff7f0e\",\"#9467bd\",\"#9467bd\",\"#1f77b4\",\"#2ca02c\",\"#d62728\",\"#d62728\",\"#ff7f0e\",\"#9467bd\",\"#9467bd\",\"#9467bd\",\"#1f77b4\",\"#ff7f0e\",\"#9467bd\",\"#d62728\",\"#9467bd\",\"#1f77b4\",\"#1f77b4\",\"#1f77b4\",\"#d62728\",\"#d62728\",\"#d62728\",\"#1f77b4\",\"#1f77b4\",\"#d62728\",\"#9467bd\",\"#1f77b4\",\"#1f77b4\",\"#ff7f0e\",\"#ff7f0e\",\"#1f77b4\",\"#2ca02c\",\"#ff7f0e\",\"#9467bd\",\"#9467bd\",\"#9467bd\",\"#9467bd\",\"#ff7f0e\",\"#d62728\",\"#ff7f0e\",\"#ff7f0e\",\"#ff7f0e\",\"#ff7f0e\",\"#ff7f0e\",\"#ff7f0e\",\"#d62728\",\"#2ca02c\",\"#ff7f0e\",\"#ff7f0e\",\"#ff7f0e\",\"#2ca02c\",\"#ff7f0e\",\"#ff7f0e\",\"#ff7f0e\",\"#d62728\",\"#ff7f0e\",\"#2ca02c\",\"#ff7f0e\",\"#ff7f0e\",\"#ff7f0e\",\"#ff7f0e\",\"#9467bd\",\"#1f77b4\",\"#2ca02c\",\"#2ca02c\",\"#2ca02c\",\"#2ca02c\",\"#2ca02c\",\"#2ca02c\",\"#ff7f0e\",\"#ff7f0e\",\"#9467bd\",\"#ff7f0e\",\"#ff7f0e\",\"#ff7f0e\",\"#ff7f0e\",\"#ff7f0e\",\"#ff7f0e\",\"#9467bd\",\"#d62728\",\"#ff7f0e\",\"#1f77b4\",\"#9467bd\",\"#9467bd\",\"#9467bd\",\"#1f77b4\",\"#1f77b4\",\"#1f77b4\",\"#2ca02c\",\"#2ca02c\",\"#ff7f0e\",\"#ff7f0e\",\"#ff7f0e\",\"#d62728\",\"#2ca02c\",\"#ff7f0e\",\"#2ca02c\",\"#9467bd\",\"#1f77b4\",\"#1f77b4\",\"#1f77b4\",\"#ff7f0e\",\"#ff7f0e\",\"#9467bd\",\"#2ca02c\",\"#9467bd\",\"#ff7f0e\",\"#ff7f0e\",\"#ff7f0e\",\"#2ca02c\",\"#1f77b4\",\"#2ca02c\",\"#2ca02c\",\"#2ca02c\",\"#2ca02c\",\"#2ca02c\",\"#9467bd\",\"#9467bd\",\"#ff7f0e\",\"#ff7f0e\",\"#ff7f0e\",\"#2ca02c\",\"#ff7f0e\",\"#9467bd\",\"#9467bd\",\"#ff7f0e\",\"#9467bd\",\"#9467bd\",\"#1f77b4\",\"#1f77b4\",\"#9467bd\",\"#1f77b4\",\"#1f77b4\",\"#2ca02c\",\"#2ca02c\",\"#ff7f0e\",\"#2ca02c\",\"#2ca02c\",\"#2ca02c\",\"#ff7f0e\",\"#9467bd\",\"#1f77b4\",\"#1f77b4\",\"#1f77b4\",\"#ff7f0e\",\"#ff7f0e\",\"#ff7f0e\",\"#ff7f0e\",\"#ff7f0e\",\"#ff7f0e\",\"#ff7f0e\",\"#ff7f0e\",\"#ff7f0e\",\"#ff7f0e\",\"#d62728\",\"#ff7f0e\",\"#2ca02c\",\"#2ca02c\",\"#ff7f0e\",\"#9467bd\",\"#2ca02c\",\"#2ca02c\",\"#d62728\",\"#9467bd\",\"#ff7f0e\",\"#ff7f0e\",\"#ff7f0e\",\"#1f77b4\",\"#2ca02c\",\"#1f77b4\",\"#ff7f0e\",\"#d62728\",\"#d62728\",\"#d62728\",\"#d62728\",\"#1f77b4\",\"#1f77b4\",\"#ff7f0e\",\"#1f77b4\",\"#ff7f0e\",\"#1f77b4\",\"#1f77b4\",\"#1f77b4\",\"#ff7f0e\",\"#ff7f0e\",\"#ff7f0e\",\"#9467bd\",\"#2ca02c\",\"#9467bd\",\"#1f77b4\",\"#9467bd\",\"#2ca02c\",\"#ff7f0e\",\"#ff7f0e\",\"#2ca02c\",\"#9467bd\",\"#ff7f0e\",\"#2ca02c\",\"#9467bd\",\"#2ca02c\",\"#ff7f0e\",\"#ff7f0e\",\"#ff7f0e\",\"#ff7f0e\",\"#ff7f0e\",\"#1f77b4\",\"#2ca02c\",\"#2ca02c\",\"#2ca02c\",\"#1f77b4\",\"#ff7f0e\",\"#1f77b4\",\"#9467bd\",\"#9467bd\",\"#1f77b4\",\"#9467bd\",\"#2ca02c\",\"#2ca02c\",\"#ff7f0e\",\"#2ca02c\",\"#2ca02c\",\"#9467bd\",\"#9467bd\",\"#ff7f0e\",\"#d62728\",\"#1f77b4\",\"#1f77b4\",\"#2ca02c\",\"#2ca02c\",\"#1f77b4\",\"#1f77b4\",\"#1f77b4\",\"#1f77b4\",\"#1f77b4\",\"#1f77b4\",\"#9467bd\",\"#1f77b4\",\"#9467bd\",\"#ff7f0e\",\"#ff7f0e\",\"#1f77b4\",\"#1f77b4\",\"#1f77b4\",\"#ff7f0e\",\"#1f77b4\",\"#1f77b4\",\"#9467bd\",\"#ff7f0e\",\"#1f77b4\",\"#ff7f0e\",\"#1f77b4\",\"#1f77b4\",\"#1f77b4\",\"#1f77b4\",\"#ff7f0e\",\"#ff7f0e\",\"#ff7f0e\",\"#ff7f0e\",\"#ff7f0e\",\"#2ca02c\",\"#1f77b4\",\"#1f77b4\",\"#ff7f0e\",\"#ff7f0e\",\"#9467bd\",\"#9467bd\",\"#9467bd\",\"#9467bd\",\"#9467bd\",\"#9467bd\",\"#9467bd\",\"#9467bd\",\"#9467bd\",\"#9467bd\",\"#9467bd\",\"#ff7f0e\",\"#ff7f0e\",\"#d62728\",\"#ff7f0e\",\"#ff7f0e\",\"#ff7f0e\",\"#ff7f0e\",\"#ff7f0e\",\"#ff7f0e\",\"#ff7f0e\",\"#ff7f0e\",\"#ff7f0e\",\"#ff7f0e\",\"#ff7f0e\",\"#ff7f0e\",\"#ff7f0e\",\"#ff7f0e\",\"#ff7f0e\",\"#ff7f0e\",\"#ff7f0e\",\"#d62728\",\"#ff7f0e\",\"#2ca02c\",\"#2ca02c\",\"#ff7f0e\",\"#ff7f0e\",\"#ff7f0e\",\"#ff7f0e\",\"#d62728\",\"#2ca02c\",\"#2ca02c\",\"#ff7f0e\",\"#ff7f0e\",\"#ff7f0e\",\"#ff7f0e\",\"#ff7f0e\",\"#d62728\",\"#1f77b4\",\"#d62728\",\"#ff7f0e\",\"#ff7f0e\",\"#ff7f0e\",\"#ff7f0e\",\"#ff7f0e\",\"#ff7f0e\",\"#ff7f0e\",\"#ff7f0e\",\"#d62728\",\"#d62728\",\"#d62728\",\"#ff7f0e\",\"#d62728\",\"#2ca02c\",\"#ff7f0e\",\"#2ca02c\",\"#ff7f0e\",\"#ff7f0e\",\"#2ca02c\",\"#ff7f0e\",\"#ff7f0e\",\"#ff7f0e\",\"#ff7f0e\",\"#ff7f0e\",\"#ff7f0e\",\"#ff7f0e\",\"#ff7f0e\",\"#ff7f0e\",\"#9467bd\",\"#1f77b4\",\"#ff7f0e\",\"#2ca02c\",\"#2ca02c\",\"#d62728\",\"#2ca02c\",\"#2ca02c\",\"#d62728\",\"#2ca02c\",\"#2ca02c\",\"#2ca02c\",\"#1f77b4\",\"#2ca02c\",\"#1f77b4\",\"#d62728\",\"#1f77b4\",\"#9467bd\",\"#1f77b4\",\"#d62728\",\"#1f77b4\",\"#2ca02c\",\"#ff7f0e\",\"#d62728\",\"#2ca02c\",\"#2ca02c\",\"#2ca02c\",\"#2ca02c\",\"#ff7f0e\",\"#ff7f0e\",\"#1f77b4\",\"#1f77b4\",\"#1f77b4\",\"#1f77b4\",\"#1f77b4\",\"#1f77b4\",\"#1f77b4\",\"#1f77b4\",\"#2ca02c\",\"#9467bd\",\"#2ca02c\",\"#2ca02c\",\"#ff7f0e\",\"#d62728\",\"#d62728\",\"#d62728\",\"#ff7f0e\",\"#d62728\",\"#2ca02c\",\"#2ca02c\",\"#2ca02c\",\"#2ca02c\",\"#ff7f0e\",\"#ff7f0e\",\"#ff7f0e\",\"#2ca02c\",\"#ff7f0e\",\"#ff7f0e\",\"#1f77b4\",\"#1f77b4\",\"#2ca02c\",\"#ff7f0e\",\"#ff7f0e\",\"#1f77b4\",\"#1f77b4\",\"#1f77b4\",\"#2ca02c\",\"#1f77b4\",\"#1f77b4\",\"#ff7f0e\",\"#1f77b4\",\"#1f77b4\",\"#1f77b4\",\"#1f77b4\",\"#1f77b4\",\"#1f77b4\",\"#ff7f0e\",\"#2ca02c\",\"#2ca02c\",\"#2ca02c\",\"#2ca02c\",\"#ff7f0e\",\"#ff7f0e\",\"#2ca02c\",\"#ff7f0e\",\"#ff7f0e\",\"#9467bd\",\"#9467bd\",\"#d62728\",\"#ff7f0e\",\"#1f77b4\",\"#1f77b4\",\"#ff7f0e\",\"#ff7f0e\",\"#2ca02c\",\"#2ca02c\",\"#2ca02c\",\"#ff7f0e\",\"#2ca02c\",\"#d62728\",\"#2ca02c\",\"#ff7f0e\",\"#d62728\",\"#2ca02c\",\"#2ca02c\",\"#ff7f0e\",\"#2ca02c\",\"#2ca02c\",\"#2ca02c\",\"#ff7f0e\",\"#2ca02c\",\"#2ca02c\",\"#2ca02c\",\"#ff7f0e\",\"#9467bd\",\"#2ca02c\",\"#d62728\",\"#1f77b4\",\"#1f77b4\",\"#1f77b4\",\"#1f77b4\",\"#1f77b4\",\"#1f77b4\",\"#1f77b4\",\"#ff7f0e\",\"#9467bd\",\"#ff7f0e\",\"#ff7f0e\",\"#ff7f0e\",\"#ff7f0e\",\"#ff7f0e\",\"#ff7f0e\",\"#1f77b4\",\"#ff7f0e\",\"#1f77b4\",\"#ff7f0e\",\"#ff7f0e\",\"#2ca02c\",\"#d62728\",\"#d62728\",\"#d62728\",\"#2ca02c\",\"#d62728\",\"#2ca02c\",\"#9467bd\",\"#9467bd\",\"#ff7f0e\",\"#d62728\",\"#1f77b4\",\"#9467bd\",\"#9467bd\",\"#2ca02c\",\"#2ca02c\",\"#ff7f0e\",\"#d62728\",\"#2ca02c\",\"#d62728\",\"#d62728\",\"#1f77b4\",\"#9467bd\",\"#9467bd\",\"#ff7f0e\",\"#9467bd\",\"#1f77b4\",\"#1f77b4\",\"#1f77b4\",\"#1f77b4\",\"#1f77b4\",\"#1f77b4\",\"#1f77b4\",\"#2ca02c\",\"#2ca02c\",\"#1f77b4\",\"#d62728\",\"#d62728\",\"#1f77b4\",\"#1f77b4\",\"#ff7f0e\",\"#ff7f0e\",\"#ff7f0e\",\"#ff7f0e\",\"#ff7f0e\",\"#ff7f0e\",\"#ff7f0e\",\"#ff7f0e\",\"#ff7f0e\",\"#ff7f0e\",\"#ff7f0e\",\"#9467bd\",\"#1f77b4\",\"#1f77b4\",\"#d62728\",\"#ff7f0e\",\"#2ca02c\",\"#2ca02c\",\"#d62728\",\"#d62728\",\"#d62728\",\"#d62728\",\"#d62728\",\"#d62728\",\"#d62728\",\"#d62728\",\"#d62728\",\"#d62728\",\"#d62728\",\"#d62728\",\"#ff7f0e\",\"#2ca02c\",\"#1f77b4\",\"#ff7f0e\",\"#9467bd\",\"#ff7f0e\",\"#ff7f0e\",\"#2ca02c\",\"#2ca02c\",\"#2ca02c\",\"#2ca02c\",\"#1f77b4\",\"#2ca02c\",\"#2ca02c\",\"#1f77b4\",\"#2ca02c\",\"#2ca02c\",\"#d62728\",\"#d62728\",\"#9467bd\",\"#1f77b4\",\"#2ca02c\",\"#1f77b4\",\"#1f77b4\",\"#ff7f0e\",\"#1f77b4\",\"#1f77b4\",\"#1f77b4\",\"#1f77b4\",\"#1f77b4\",\"#1f77b4\",\"#ff7f0e\",\"#ff7f0e\",\"#d62728\",\"#d62728\",\"#9467bd\",\"#1f77b4\",\"#9467bd\",\"#d62728\",\"#1f77b4\",\"#1f77b4\",\"#d62728\",\"#9467bd\",\"#1f77b4\",\"#ff7f0e\",\"#ff7f0e\",\"#9467bd\",\"#9467bd\",\"#ff7f0e\",\"#ff7f0e\",\"#d62728\",\"#ff7f0e\",\"#d62728\",\"#ff7f0e\",\"#ff7f0e\",\"#9467bd\",\"#2ca02c\",\"#ff7f0e\",\"#ff7f0e\",\"#1f77b4\",\"#1f77b4\",\"#9467bd\",\"#2ca02c\",\"#2ca02c\",\"#2ca02c\",\"#2ca02c\",\"#2ca02c\",\"#2ca02c\",\"#d62728\",\"#2ca02c\",\"#1f77b4\",\"#2ca02c\",\"#1f77b4\",\"#1f77b4\",\"#1f77b4\",\"#1f77b4\",\"#1f77b4\",\"#1f77b4\",\"#2ca02c\",\"#2ca02c\",\"#2ca02c\",\"#d62728\",\"#9467bd\",\"#9467bd\",\"#9467bd\",\"#9467bd\",\"#9467bd\",\"#2ca02c\",\"#2ca02c\",\"#9467bd\",\"#9467bd\",\"#9467bd\",\"#2ca02c\",\"#ff7f0e\",\"#2ca02c\",\"#9467bd\",\"#1f77b4\",\"#9467bd\",\"#9467bd\",\"#9467bd\",\"#d62728\",\"#9467bd\",\"#9467bd\",\"#9467bd\",\"#9467bd\",\"#9467bd\",\"#2ca02c\",\"#9467bd\",\"#9467bd\",\"#9467bd\",\"#1f77b4\",\"#1f77b4\",\"#9467bd\",\"#1f77b4\",\"#9467bd\",\"#9467bd\",\"#9467bd\",\"#ff7f0e\",\"#ff7f0e\",\"#2ca02c\",\"#9467bd\",\"#9467bd\",\"#9467bd\",\"#9467bd\",\"#2ca02c\",\"#2ca02c\",\"#2ca02c\",\"#9467bd\",\"#d62728\",\"#ff7f0e\",\"#2ca02c\",\"#d62728\",\"#d62728\",\"#9467bd\",\"#2ca02c\",\"#2ca02c\",\"#1f77b4\",\"#1f77b4\",\"#9467bd\",\"#1f77b4\",\"#9467bd\",\"#9467bd\",\"#9467bd\",\"#1f77b4\",\"#ff7f0e\",\"#9467bd\",\"#9467bd\",\"#9467bd\",\"#9467bd\",\"#9467bd\",\"#9467bd\",\"#9467bd\",\"#2ca02c\",\"#ff7f0e\",\"#1f77b4\",\"#9467bd\",\"#9467bd\",\"#9467bd\",\"#1f77b4\",\"#2ca02c\",\"#ff7f0e\",\"#ff7f0e\",\"#d62728\",\"#1f77b4\",\"#1f77b4\",\"#1f77b4\",\"#1f77b4\",\"#1f77b4\",\"#1f77b4\",\"#1f77b4\",\"#1f77b4\",\"#9467bd\",\"#9467bd\",\"#9467bd\",\"#9467bd\",\"#9467bd\",\"#1f77b4\",\"#2ca02c\",\"#2ca02c\",\"#2ca02c\",\"#2ca02c\",\"#9467bd\",\"#2ca02c\",\"#2ca02c\",\"#2ca02c\",\"#d62728\",\"#2ca02c\",\"#d62728\",\"#d62728\",\"#ff7f0e\",\"#ff7f0e\",\"#1f77b4\",\"#1f77b4\",\"#1f77b4\",\"#1f77b4\",\"#1f77b4\",\"#1f77b4\",\"#1f77b4\",\"#2ca02c\",\"#2ca02c\",\"#2ca02c\",\"#2ca02c\",\"#d62728\",\"#d62728\",\"#d62728\",\"#d62728\",\"#d62728\",\"#2ca02c\",\"#2ca02c\",\"#2ca02c\",\"#1f77b4\",\"#1f77b4\",\"#d62728\",\"#9467bd\",\"#1f77b4\",\"#d62728\",\"#ff7f0e\",\"#2ca02c\",\"#1f77b4\",\"#1f77b4\",\"#d62728\",\"#d62728\",\"#9467bd\",\"#1f77b4\",\"#d62728\",\"#d62728\",\"#9467bd\",\"#d62728\",\"#1f77b4\",\"#ff7f0e\",\"#ff7f0e\",\"#ff7f0e\",\"#d62728\",\"#9467bd\",\"#1f77b4\",\"#1f77b4\",\"#9467bd\",\"#d62728\",\"#d62728\",\"#d62728\",\"#2ca02c\",\"#d62728\",\"#2ca02c\",\"#2ca02c\",\"#1f77b4\",\"#1f77b4\",\"#1f77b4\",\"#9467bd\",\"#2ca02c\",\"#2ca02c\",\"#ff7f0e\",\"#1f77b4\",\"#ff7f0e\",\"#2ca02c\",\"#1f77b4\",\"#1f77b4\",\"#d62728\",\"#2ca02c\",\"#2ca02c\",\"#d62728\",\"#9467bd\",\"#d62728\",\"#d62728\",\"#d62728\",\"#9467bd\",\"#d62728\",\"#1f77b4\",\"#ff7f0e\",\"#d62728\",\"#2ca02c\",\"#1f77b4\",\"#1f77b4\",\"#1f77b4\",\"#9467bd\",\"#d62728\",\"#d62728\",\"#d62728\",\"#1f77b4\",\"#2ca02c\",\"#1f77b4\",\"#1f77b4\",\"#1f77b4\",\"#1f77b4\",\"#1f77b4\",\"#d62728\",\"#1f77b4\",\"#1f77b4\",\"#1f77b4\",\"#1f77b4\",\"#1f77b4\",\"#1f77b4\",\"#1f77b4\",\"#1f77b4\",\"#1f77b4\",\"#1f77b4\",\"#1f77b4\",\"#1f77b4\",\"#1f77b4\",\"#1f77b4\",\"#1f77b4\",\"#1f77b4\",\"#1f77b4\",\"#1f77b4\",\"#1f77b4\",\"#2ca02c\",\"#1f77b4\",\"#1f77b4\",\"#2ca02c\",\"#1f77b4\",\"#1f77b4\",\"#2ca02c\",\"#2ca02c\",\"#ff7f0e\",\"#1f77b4\",\"#2ca02c\",\"#2ca02c\",\"#2ca02c\",\"#2ca02c\",\"#2ca02c\",\"#2ca02c\",\"#2ca02c\",\"#2ca02c\",\"#2ca02c\",\"#2ca02c\",\"#2ca02c\",\"#2ca02c\",\"#2ca02c\",\"#1f77b4\",\"#2ca02c\",\"#2ca02c\",\"#2ca02c\",\"#1f77b4\",\"#2ca02c\",\"#1f77b4\",\"#ff7f0e\",\"#1f77b4\",\"#1f77b4\",\"#2ca02c\",\"#1f77b4\",\"#1f77b4\",\"#1f77b4\",\"#1f77b4\",\"#2ca02c\",\"#1f77b4\",\"#2ca02c\",\"#1f77b4\",\"#1f77b4\",\"#1f77b4\",\"#2ca02c\",\"#1f77b4\",\"#1f77b4\",\"#1f77b4\",\"#1f77b4\",\"#1f77b4\",\"#9467bd\",\"#2ca02c\",\"#2ca02c\",\"#1f77b4\",\"#2ca02c\",\"#2ca02c\",\"#2ca02c\",\"#1f77b4\",\"#2ca02c\",\"#1f77b4\",\"#9467bd\",\"#9467bd\",\"#9467bd\",\"#1f77b4\",\"#ff7f0e\",\"#1f77b4\",\"#1f77b4\",\"#1f77b4\",\"#1f77b4\",\"#1f77b4\",\"#ff7f0e\",\"#ff7f0e\",\"#ff7f0e\",\"#ff7f0e\",\"#9467bd\",\"#ff7f0e\",\"#ff7f0e\",\"#ff7f0e\",\"#ff7f0e\",\"#ff7f0e\",\"#9467bd\",\"#ff7f0e\",\"#9467bd\",\"#1f77b4\",\"#ff7f0e\",\"#ff7f0e\",\"#9467bd\",\"#1f77b4\",\"#1f77b4\",\"#ff7f0e\",\"#ff7f0e\",\"#d62728\",\"#1f77b4\",\"#1f77b4\",\"#1f77b4\",\"#ff7f0e\",\"#ff7f0e\",\"#ff7f0e\",\"#1f77b4\",\"#ff7f0e\",\"#ff7f0e\",\"#ff7f0e\",\"#9467bd\",\"#1f77b4\",\"#ff7f0e\",\"#ff7f0e\",\"#9467bd\",\"#ff7f0e\",\"#9467bd\",\"#9467bd\",\"#1f77b4\",\"#ff7f0e\",\"#ff7f0e\",\"#9467bd\",\"#9467bd\",\"#9467bd\",\"#1f77b4\",\"#ff7f0e\",\"#9467bd\",\"#1f77b4\",\"#1f77b4\",\"#1f77b4\",\"#1f77b4\",\"#ff7f0e\",\"#ff7f0e\",\"#ff7f0e\",\"#ff7f0e\",\"#ff7f0e\",\"#ff7f0e\",\"#ff7f0e\",\"#ff7f0e\",\"#2ca02c\",\"#ff7f0e\",\"#ff7f0e\",\"#1f77b4\",\"#ff7f0e\",\"#ff7f0e\",\"#ff7f0e\",\"#ff7f0e\",\"#ff7f0e\",\"#ff7f0e\",\"#ff7f0e\",\"#ff7f0e\",\"#ff7f0e\",\"#ff7f0e\",\"#d62728\",\"#ff7f0e\",\"#ff7f0e\",\"#ff7f0e\",\"#ff7f0e\",\"#ff7f0e\",\"#ff7f0e\",\"#1f77b4\",\"#1f77b4\",\"#ff7f0e\",\"#ff7f0e\",\"#ff7f0e\",\"#ff7f0e\",\"#9467bd\",\"#1f77b4\",\"#1f77b4\",\"#1f77b4\",\"#1f77b4\",\"#ff7f0e\",\"#ff7f0e\",\"#ff7f0e\",\"#ff7f0e\",\"#ff7f0e\",\"#ff7f0e\",\"#ff7f0e\",\"#ff7f0e\",\"#d62728\",\"#2ca02c\",\"#1f77b4\",\"#1f77b4\",\"#1f77b4\",\"#1f77b4\",\"#2ca02c\",\"#1f77b4\",\"#1f77b4\",\"#1f77b4\",\"#1f77b4\",\"#1f77b4\",\"#ff7f0e\",\"#1f77b4\",\"#1f77b4\",\"#2ca02c\",\"#2ca02c\",\"#2ca02c\",\"#1f77b4\",\"#1f77b4\",\"#1f77b4\",\"#1f77b4\",\"#1f77b4\",\"#2ca02c\",\"#1f77b4\",\"#1f77b4\",\"#1f77b4\",\"#1f77b4\",\"#1f77b4\",\"#2ca02c\",\"#2ca02c\",\"#1f77b4\",\"#1f77b4\",\"#d62728\",\"#1f77b4\",\"#1f77b4\",\"#1f77b4\",\"#1f77b4\",\"#2ca02c\",\"#1f77b4\",\"#1f77b4\",\"#1f77b4\",\"#1f77b4\",\"#2ca02c\",\"#2ca02c\",\"#2ca02c\",\"#2ca02c\",\"#2ca02c\",\"#2ca02c\",\"#2ca02c\",\"#2ca02c\",\"#2ca02c\",\"#2ca02c\",\"#ff7f0e\",\"#1f77b4\",\"#2ca02c\",\"#1f77b4\",\"#ff7f0e\",\"#d62728\",\"#d62728\",\"#9467bd\",\"#1f77b4\",\"#9467bd\",\"#d62728\",\"#1f77b4\",\"#d62728\",\"#1f77b4\",\"#ff7f0e\",\"#ff7f0e\",\"#ff7f0e\",\"#ff7f0e\",\"#ff7f0e\",\"#ff7f0e\",\"#ff7f0e\",\"#ff7f0e\",\"#d62728\",\"#ff7f0e\",\"#ff7f0e\",\"#d62728\",\"#9467bd\",\"#ff7f0e\",\"#ff7f0e\",\"#ff7f0e\",\"#d62728\",\"#ff7f0e\",\"#d62728\",\"#d62728\",\"#ff7f0e\",\"#1f77b4\",\"#1f77b4\",\"#9467bd\",\"#2ca02c\",\"#ff7f0e\",\"#1f77b4\",\"#1f77b4\",\"#9467bd\",\"#2ca02c\",\"#2ca02c\",\"#d62728\",\"#2ca02c\",\"#2ca02c\",\"#2ca02c\",\"#1f77b4\",\"#2ca02c\",\"#2ca02c\",\"#d62728\",\"#9467bd\",\"#9467bd\",\"#9467bd\",\"#9467bd\",\"#9467bd\",\"#1f77b4\",\"#1f77b4\",\"#1f77b4\",\"#1f77b4\",\"#9467bd\",\"#1f77b4\",\"#1f77b4\",\"#1f77b4\",\"#1f77b4\",\"#1f77b4\",\"#9467bd\",\"#1f77b4\",\"#9467bd\",\"#9467bd\",\"#9467bd\",\"#9467bd\",\"#ff7f0e\",\"#2ca02c\",\"#2ca02c\",\"#2ca02c\",\"#9467bd\",\"#9467bd\",\"#9467bd\",\"#2ca02c\",\"#ff7f0e\",\"#2ca02c\",\"#9467bd\",\"#1f77b4\",\"#9467bd\",\"#9467bd\",\"#9467bd\",\"#d62728\",\"#9467bd\",\"#9467bd\",\"#9467bd\",\"#9467bd\",\"#9467bd\",\"#2ca02c\",\"#9467bd\",\"#9467bd\",\"#9467bd\",\"#1f77b4\",\"#1f77b4\",\"#9467bd\",\"#1f77b4\",\"#9467bd\",\"#9467bd\",\"#9467bd\",\"#ff7f0e\",\"#ff7f0e\",\"#2ca02c\",\"#9467bd\",\"#ff7f0e\",\"#9467bd\",\"#9467bd\",\"#9467bd\",\"#9467bd\",\"#2ca02c\",\"#2ca02c\",\"#2ca02c\",\"#9467bd\",\"#d62728\",\"#ff7f0e\",\"#2ca02c\",\"#d62728\",\"#d62728\",\"#9467bd\",\"#2ca02c\",\"#2ca02c\",\"#1f77b4\",\"#1f77b4\",\"#9467bd\",\"#1f77b4\",\"#9467bd\",\"#9467bd\",\"#9467bd\",\"#1f77b4\",\"#ff7f0e\",\"#ff7f0e\",\"#9467bd\",\"#9467bd\",\"#9467bd\",\"#9467bd\",\"#9467bd\",\"#9467bd\",\"#9467bd\",\"#2ca02c\",\"#ff7f0e\",\"#1f77b4\",\"#9467bd\",\"#9467bd\",\"#9467bd\",\"#1f77b4\",\"#2ca02c\",\"#ff7f0e\",\"#ff7f0e\",\"#d62728\",\"#1f77b4\",\"#1f77b4\",\"#1f77b4\",\"#1f77b4\",\"#1f77b4\",\"#1f77b4\",\"#1f77b4\",\"#1f77b4\",\"#9467bd\",\"#9467bd\",\"#9467bd\",\"#9467bd\",\"#9467bd\",\"#1f77b4\",\"#2ca02c\",\"#2ca02c\",\"#2ca02c\",\"#2ca02c\",\"#9467bd\",\"#2ca02c\",\"#2ca02c\",\"#2ca02c\",\"#1f77b4\",\"#2ca02c\",\"#ff7f0e\",\"#1f77b4\",\"#d62728\",\"#9467bd\",\"#2ca02c\",\"#9467bd\",\"#9467bd\",\"#ff7f0e\",\"#9467bd\",\"#d62728\",\"#9467bd\",\"#9467bd\",\"#1f77b4\",\"#d62728\",\"#d62728\",\"#d62728\",\"#d62728\",\"#d62728\",\"#d62728\",\"#d62728\",\"#ff7f0e\",\"#d62728\",\"#1f77b4\",\"#2ca02c\",\"#ff7f0e\",\"#2ca02c\",\"#ff7f0e\",\"#d62728\",\"#d62728\",\"#d62728\",\"#d62728\",\"#2ca02c\",\"#2ca02c\",\"#d62728\",\"#2ca02c\",\"#1f77b4\",\"#2ca02c\",\"#2ca02c\",\"#1f77b4\",\"#2ca02c\",\"#1f77b4\",\"#2ca02c\",\"#1f77b4\",\"#d62728\",\"#d62728\",\"#d62728\",\"#d62728\",\"#d62728\",\"#d62728\",\"#d62728\",\"#d62728\",\"#d62728\",\"#d62728\",\"#d62728\",\"#d62728\",\"#d62728\",\"#d62728\",\"#d62728\",\"#d62728\",\"#d62728\",\"#1f77b4\",\"#9467bd\",\"#ff7f0e\",\"#ff7f0e\",\"#ff7f0e\",\"#ff7f0e\",\"#ff7f0e\",\"#ff7f0e\",\"#ff7f0e\",\"#ff7f0e\",\"#d62728\",\"#ff7f0e\",\"#ff7f0e\",\"#ff7f0e\",\"#ff7f0e\",\"#1f77b4\",\"#1f77b4\",\"#2ca02c\",\"#ff7f0e\",\"#ff7f0e\",\"#ff7f0e\",\"#2ca02c\",\"#9467bd\",\"#1f77b4\",\"#ff7f0e\",\"#9467bd\",\"#ff7f0e\",\"#1f77b4\",\"#1f77b4\",\"#9467bd\",\"#d62728\",\"#1f77b4\",\"#1f77b4\",\"#9467bd\",\"#2ca02c\",\"#2ca02c\",\"#2ca02c\",\"#1f77b4\",\"#d62728\",\"#2ca02c\",\"#2ca02c\",\"#2ca02c\",\"#2ca02c\",\"#2ca02c\",\"#2ca02c\",\"#9467bd\",\"#9467bd\",\"#9467bd\",\"#1f77b4\",\"#1f77b4\",\"#1f77b4\",\"#1f77b4\",\"#1f77b4\",\"#1f77b4\",\"#1f77b4\",\"#d62728\",\"#9467bd\",\"#d62728\",\"#d62728\",\"#d62728\",\"#d62728\",\"#d62728\",\"#d62728\",\"#d62728\",\"#d62728\",\"#d62728\",\"#1f77b4\",\"#9467bd\",\"#ff7f0e\",\"#2ca02c\",\"#2ca02c\",\"#2ca02c\",\"#9467bd\",\"#1f77b4\",\"#1f77b4\",\"#1f77b4\",\"#ff7f0e\",\"#ff7f0e\",\"#ff7f0e\",\"#9467bd\",\"#ff7f0e\",\"#9467bd\",\"#9467bd\",\"#1f77b4\",\"#2ca02c\",\"#d62728\",\"#d62728\",\"#ff7f0e\",\"#9467bd\",\"#9467bd\",\"#9467bd\",\"#1f77b4\",\"#ff7f0e\",\"#9467bd\",\"#d62728\",\"#9467bd\",\"#1f77b4\",\"#1f77b4\",\"#1f77b4\",\"#d62728\",\"#d62728\",\"#d62728\",\"#1f77b4\",\"#1f77b4\",\"#d62728\",\"#9467bd\",\"#1f77b4\",\"#1f77b4\",\"#ff7f0e\",\"#ff7f0e\",\"#1f77b4\",\"#2ca02c\",\"#ff7f0e\",\"#9467bd\",\"#9467bd\",\"#9467bd\",\"#9467bd\",\"#ff7f0e\",\"#d62728\",\"#ff7f0e\",\"#ff7f0e\",\"#ff7f0e\",\"#ff7f0e\",\"#ff7f0e\",\"#ff7f0e\",\"#d62728\",\"#2ca02c\",\"#ff7f0e\",\"#ff7f0e\",\"#ff7f0e\",\"#2ca02c\",\"#ff7f0e\",\"#ff7f0e\",\"#ff7f0e\",\"#d62728\",\"#ff7f0e\",\"#2ca02c\",\"#ff7f0e\",\"#ff7f0e\",\"#ff7f0e\",\"#ff7f0e\",\"#9467bd\",\"#1f77b4\",\"#2ca02c\",\"#2ca02c\",\"#2ca02c\",\"#2ca02c\",\"#2ca02c\",\"#2ca02c\",\"#ff7f0e\",\"#ff7f0e\",\"#9467bd\",\"#ff7f0e\",\"#ff7f0e\",\"#ff7f0e\",\"#ff7f0e\",\"#ff7f0e\",\"#ff7f0e\",\"#9467bd\",\"#d62728\",\"#ff7f0e\",\"#1f77b4\",\"#9467bd\",\"#9467bd\",\"#9467bd\",\"#1f77b4\",\"#1f77b4\",\"#1f77b4\",\"#2ca02c\",\"#2ca02c\",\"#2ca02c\",\"#ff7f0e\",\"#ff7f0e\",\"#ff7f0e\",\"#d62728\",\"#2ca02c\",\"#ff7f0e\",\"#2ca02c\",\"#9467bd\",\"#1f77b4\",\"#1f77b4\",\"#1f77b4\",\"#ff7f0e\",\"#ff7f0e\",\"#9467bd\",\"#2ca02c\",\"#9467bd\",\"#ff7f0e\",\"#ff7f0e\",\"#ff7f0e\",\"#2ca02c\",\"#1f77b4\",\"#2ca02c\",\"#2ca02c\",\"#2ca02c\",\"#2ca02c\",\"#2ca02c\",\"#2ca02c\",\"#9467bd\",\"#9467bd\",\"#ff7f0e\",\"#ff7f0e\",\"#ff7f0e\",\"#2ca02c\",\"#ff7f0e\",\"#9467bd\",\"#9467bd\",\"#ff7f0e\",\"#9467bd\",\"#9467bd\",\"#1f77b4\",\"#1f77b4\",\"#9467bd\",\"#1f77b4\",\"#1f77b4\",\"#2ca02c\",\"#2ca02c\",\"#ff7f0e\",\"#2ca02c\",\"#2ca02c\",\"#2ca02c\",\"#ff7f0e\",\"#9467bd\",\"#1f77b4\",\"#1f77b4\",\"#1f77b4\",\"#ff7f0e\",\"#ff7f0e\",\"#ff7f0e\",\"#ff7f0e\",\"#ff7f0e\",\"#ff7f0e\",\"#ff7f0e\",\"#ff7f0e\",\"#ff7f0e\",\"#ff7f0e\",\"#d62728\",\"#ff7f0e\",\"#2ca02c\",\"#2ca02c\",\"#ff7f0e\",\"#9467bd\",\"#2ca02c\",\"#2ca02c\",\"#d62728\",\"#9467bd\",\"#ff7f0e\",\"#ff7f0e\",\"#ff7f0e\",\"#1f77b4\",\"#2ca02c\",\"#1f77b4\",\"#ff7f0e\",\"#d62728\",\"#d62728\",\"#d62728\",\"#d62728\",\"#1f77b4\",\"#1f77b4\",\"#ff7f0e\",\"#1f77b4\",\"#ff7f0e\",\"#1f77b4\",\"#1f77b4\",\"#1f77b4\",\"#ff7f0e\",\"#ff7f0e\",\"#ff7f0e\",\"#9467bd\",\"#2ca02c\",\"#9467bd\",\"#1f77b4\",\"#9467bd\",\"#2ca02c\",\"#ff7f0e\",\"#ff7f0e\",\"#2ca02c\",\"#9467bd\",\"#ff7f0e\",\"#2ca02c\",\"#9467bd\",\"#2ca02c\",\"#ff7f0e\",\"#ff7f0e\",\"#ff7f0e\",\"#ff7f0e\",\"#ff7f0e\",\"#1f77b4\",\"#2ca02c\",\"#2ca02c\",\"#2ca02c\",\"#1f77b4\",\"#ff7f0e\",\"#1f77b4\",\"#9467bd\",\"#9467bd\",\"#1f77b4\",\"#9467bd\",\"#2ca02c\",\"#2ca02c\",\"#ff7f0e\",\"#2ca02c\",\"#2ca02c\",\"#9467bd\",\"#9467bd\",\"#ff7f0e\",\"#d62728\",\"#1f77b4\",\"#1f77b4\",\"#2ca02c\",\"#2ca02c\",\"#1f77b4\",\"#1f77b4\",\"#1f77b4\",\"#1f77b4\",\"#1f77b4\",\"#1f77b4\",\"#1f77b4\",\"#9467bd\",\"#1f77b4\",\"#9467bd\",\"#ff7f0e\",\"#ff7f0e\",\"#1f77b4\",\"#1f77b4\",\"#1f77b4\",\"#ff7f0e\",\"#1f77b4\",\"#1f77b4\",\"#9467bd\",\"#ff7f0e\",\"#1f77b4\",\"#ff7f0e\",\"#1f77b4\",\"#1f77b4\",\"#1f77b4\",\"#1f77b4\",\"#ff7f0e\",\"#ff7f0e\",\"#ff7f0e\",\"#ff7f0e\",\"#ff7f0e\",\"#2ca02c\",\"#1f77b4\",\"#1f77b4\",\"#ff7f0e\",\"#ff7f0e\",\"#9467bd\",\"#9467bd\",\"#9467bd\",\"#9467bd\",\"#9467bd\",\"#9467bd\",\"#9467bd\",\"#9467bd\",\"#9467bd\",\"#9467bd\",\"#9467bd\",\"#ff7f0e\",\"#ff7f0e\",\"#d62728\",\"#ff7f0e\",\"#ff7f0e\",\"#ff7f0e\",\"#ff7f0e\",\"#ff7f0e\",\"#ff7f0e\",\"#ff7f0e\",\"#ff7f0e\",\"#ff7f0e\",\"#ff7f0e\",\"#ff7f0e\",\"#ff7f0e\",\"#ff7f0e\",\"#ff7f0e\",\"#ff7f0e\",\"#ff7f0e\",\"#ff7f0e\",\"#d62728\",\"#ff7f0e\",\"#2ca02c\",\"#2ca02c\",\"#ff7f0e\",\"#ff7f0e\",\"#ff7f0e\",\"#ff7f0e\",\"#d62728\",\"#2ca02c\",\"#2ca02c\",\"#ff7f0e\",\"#ff7f0e\",\"#ff7f0e\",\"#ff7f0e\",\"#ff7f0e\",\"#d62728\",\"#1f77b4\",\"#d62728\",\"#ff7f0e\",\"#ff7f0e\",\"#ff7f0e\",\"#ff7f0e\",\"#ff7f0e\",\"#ff7f0e\",\"#ff7f0e\",\"#ff7f0e\",\"#d62728\",\"#d62728\",\"#d62728\",\"#ff7f0e\",\"#d62728\",\"#2ca02c\",\"#ff7f0e\",\"#2ca02c\",\"#ff7f0e\",\"#ff7f0e\",\"#2ca02c\",\"#ff7f0e\",\"#ff7f0e\",\"#ff7f0e\",\"#ff7f0e\",\"#ff7f0e\",\"#ff7f0e\",\"#ff7f0e\",\"#ff7f0e\",\"#ff7f0e\",\"#ff7f0e\",\"#9467bd\",\"#1f77b4\",\"#ff7f0e\",\"#2ca02c\",\"#2ca02c\",\"#d62728\",\"#2ca02c\",\"#2ca02c\",\"#d62728\",\"#2ca02c\",\"#2ca02c\",\"#2ca02c\",\"#1f77b4\",\"#2ca02c\",\"#1f77b4\",\"#d62728\",\"#1f77b4\",\"#9467bd\",\"#1f77b4\",\"#d62728\",\"#1f77b4\",\"#2ca02c\",\"#2ca02c\",\"#ff7f0e\",\"#d62728\",\"#2ca02c\",\"#2ca02c\",\"#2ca02c\",\"#2ca02c\",\"#ff7f0e\",\"#ff7f0e\",\"#1f77b4\",\"#1f77b4\",\"#1f77b4\",\"#1f77b4\",\"#1f77b4\",\"#1f77b4\",\"#1f77b4\",\"#1f77b4\",\"#2ca02c\",\"#9467bd\",\"#2ca02c\",\"#2ca02c\",\"#2ca02c\",\"#ff7f0e\",\"#d62728\",\"#d62728\",\"#d62728\",\"#ff7f0e\",\"#d62728\",\"#2ca02c\",\"#2ca02c\",\"#2ca02c\",\"#ff7f0e\",\"#2ca02c\",\"#2ca02c\",\"#ff7f0e\",\"#ff7f0e\",\"#ff7f0e\",\"#2ca02c\",\"#ff7f0e\",\"#ff7f0e\",\"#1f77b4\",\"#1f77b4\",\"#2ca02c\",\"#ff7f0e\",\"#ff7f0e\",\"#1f77b4\",\"#1f77b4\",\"#1f77b4\",\"#2ca02c\",\"#1f77b4\",\"#1f77b4\",\"#ff7f0e\",\"#1f77b4\",\"#1f77b4\",\"#1f77b4\",\"#1f77b4\",\"#1f77b4\",\"#1f77b4\",\"#ff7f0e\",\"#2ca02c\",\"#2ca02c\",\"#2ca02c\",\"#2ca02c\",\"#ff7f0e\",\"#ff7f0e\",\"#2ca02c\",\"#ff7f0e\",\"#ff7f0e\",\"#9467bd\",\"#9467bd\",\"#d62728\",\"#ff7f0e\",\"#1f77b4\",\"#1f77b4\",\"#ff7f0e\",\"#ff7f0e\",\"#2ca02c\",\"#2ca02c\",\"#2ca02c\",\"#2ca02c\",\"#ff7f0e\",\"#2ca02c\",\"#d62728\",\"#2ca02c\",\"#ff7f0e\",\"#d62728\",\"#2ca02c\",\"#2ca02c\",\"#ff7f0e\",\"#2ca02c\",\"#2ca02c\",\"#2ca02c\",\"#ff7f0e\",\"#2ca02c\",\"#2ca02c\",\"#2ca02c\",\"#ff7f0e\",\"#9467bd\",\"#2ca02c\",\"#d62728\",\"#1f77b4\",\"#1f77b4\",\"#1f77b4\",\"#1f77b4\",\"#1f77b4\",\"#1f77b4\",\"#1f77b4\",\"#ff7f0e\",\"#9467bd\",\"#ff7f0e\",\"#ff7f0e\",\"#ff7f0e\",\"#ff7f0e\",\"#ff7f0e\",\"#ff7f0e\",\"#1f77b4\",\"#ff7f0e\",\"#1f77b4\",\"#ff7f0e\",\"#ff7f0e\",\"#2ca02c\",\"#d62728\",\"#d62728\",\"#d62728\",\"#2ca02c\",\"#d62728\",\"#2ca02c\",\"#9467bd\",\"#9467bd\",\"#ff7f0e\",\"#d62728\",\"#1f77b4\",\"#9467bd\",\"#9467bd\",\"#2ca02c\",\"#2ca02c\",\"#ff7f0e\",\"#d62728\",\"#2ca02c\",\"#d62728\",\"#d62728\",\"#1f77b4\",\"#9467bd\",\"#9467bd\",\"#ff7f0e\",\"#9467bd\",\"#1f77b4\",\"#1f77b4\",\"#1f77b4\",\"#1f77b4\",\"#1f77b4\",\"#1f77b4\",\"#1f77b4\",\"#2ca02c\",\"#2ca02c\",\"#1f77b4\",\"#d62728\",\"#1f77b4\",\"#1f77b4\",\"#ff7f0e\",\"#ff7f0e\",\"#ff7f0e\",\"#ff7f0e\",\"#ff7f0e\",\"#ff7f0e\",\"#ff7f0e\",\"#ff7f0e\",\"#ff7f0e\",\"#ff7f0e\",\"#ff7f0e\",\"#ff7f0e\",\"#9467bd\",\"#ff7f0e\",\"#1f77b4\",\"#1f77b4\",\"#d62728\",\"#ff7f0e\",\"#2ca02c\",\"#2ca02c\",\"#d62728\",\"#d62728\",\"#d62728\",\"#d62728\",\"#d62728\",\"#d62728\",\"#d62728\",\"#d62728\",\"#d62728\",\"#d62728\",\"#d62728\",\"#d62728\",\"#ff7f0e\",\"#2ca02c\",\"#1f77b4\",\"#ff7f0e\",\"#9467bd\",\"#ff7f0e\",\"#ff7f0e\",\"#2ca02c\",\"#2ca02c\",\"#2ca02c\",\"#2ca02c\",\"#1f77b4\",\"#2ca02c\",\"#2ca02c\",\"#1f77b4\",\"#2ca02c\",\"#2ca02c\",\"#d62728\",\"#d62728\",\"#9467bd\",\"#1f77b4\",\"#2ca02c\",\"#1f77b4\",\"#1f77b4\",\"#ff7f0e\",\"#1f77b4\",\"#1f77b4\",\"#1f77b4\",\"#1f77b4\",\"#1f77b4\",\"#1f77b4\",\"#ff7f0e\",\"#ff7f0e\",\"#d62728\",\"#d62728\",\"#9467bd\",\"#1f77b4\",\"#9467bd\",\"#d62728\",\"#1f77b4\",\"#1f77b4\",\"#d62728\",\"#9467bd\",\"#1f77b4\",\"#ff7f0e\",\"#ff7f0e\",\"#9467bd\",\"#9467bd\",\"#ff7f0e\",\"#ff7f0e\",\"#d62728\",\"#ff7f0e\",\"#d62728\",\"#ff7f0e\",\"#ff7f0e\",\"#d62728\",\"#9467bd\",\"#2ca02c\",\"#ff7f0e\",\"#ff7f0e\",\"#1f77b4\",\"#1f77b4\",\"#9467bd\",\"#2ca02c\",\"#2ca02c\",\"#2ca02c\",\"#2ca02c\",\"#2ca02c\",\"#2ca02c\",\"#d62728\",\"#2ca02c\",\"#1f77b4\",\"#2ca02c\",\"#1f77b4\",\"#1f77b4\",\"#1f77b4\",\"#1f77b4\",\"#1f77b4\",\"#1f77b4\",\"#2ca02c\",\"#2ca02c\",\"#2ca02c\",\"#d62728\",\"#9467bd\",\"#9467bd\",\"#9467bd\",\"#9467bd\",\"#9467bd\",\"#2ca02c\",\"#2ca02c\",\"#9467bd\",\"#9467bd\",\"#9467bd\",\"#2ca02c\",\"#ff7f0e\",\"#2ca02c\",\"#9467bd\",\"#1f77b4\",\"#9467bd\",\"#9467bd\",\"#9467bd\",\"#d62728\",\"#9467bd\",\"#9467bd\",\"#9467bd\",\"#9467bd\",\"#9467bd\",\"#2ca02c\",\"#9467bd\",\"#9467bd\",\"#9467bd\",\"#1f77b4\",\"#1f77b4\",\"#9467bd\",\"#1f77b4\",\"#9467bd\",\"#9467bd\",\"#9467bd\",\"#ff7f0e\",\"#ff7f0e\",\"#2ca02c\",\"#9467bd\",\"#9467bd\",\"#9467bd\",\"#9467bd\",\"#2ca02c\",\"#2ca02c\",\"#2ca02c\",\"#9467bd\",\"#d62728\",\"#ff7f0e\",\"#2ca02c\",\"#d62728\",\"#d62728\",\"#9467bd\",\"#2ca02c\",\"#2ca02c\",\"#1f77b4\",\"#1f77b4\",\"#9467bd\",\"#1f77b4\",\"#9467bd\",\"#9467bd\",\"#9467bd\",\"#1f77b4\",\"#ff7f0e\",\"#9467bd\",\"#9467bd\",\"#9467bd\",\"#9467bd\",\"#9467bd\",\"#9467bd\",\"#9467bd\",\"#2ca02c\",\"#ff7f0e\",\"#1f77b4\",\"#9467bd\",\"#9467bd\",\"#9467bd\",\"#1f77b4\",\"#2ca02c\",\"#ff7f0e\",\"#ff7f0e\",\"#d62728\",\"#1f77b4\",\"#1f77b4\",\"#1f77b4\",\"#1f77b4\",\"#1f77b4\",\"#1f77b4\",\"#1f77b4\",\"#1f77b4\",\"#9467bd\",\"#9467bd\",\"#9467bd\",\"#9467bd\",\"#9467bd\",\"#1f77b4\",\"#2ca02c\",\"#2ca02c\",\"#2ca02c\",\"#2ca02c\",\"#9467bd\",\"#2ca02c\",\"#2ca02c\",\"#2ca02c\",\"#d62728\",\"#2ca02c\",\"#d62728\",\"#d62728\",\"#ff7f0e\",\"#1f77b4\",\"#1f77b4\",\"#1f77b4\",\"#1f77b4\",\"#1f77b4\",\"#1f77b4\",\"#1f77b4\",\"#2ca02c\",\"#2ca02c\",\"#2ca02c\",\"#2ca02c\",\"#d62728\",\"#d62728\",\"#d62728\",\"#d62728\",\"#d62728\",\"#2ca02c\",\"#2ca02c\",\"#2ca02c\",\"#1f77b4\",\"#1f77b4\",\"#d62728\",\"#9467bd\",\"#1f77b4\",\"#d62728\",\"#ff7f0e\",\"#2ca02c\",\"#1f77b4\",\"#1f77b4\",\"#d62728\",\"#d62728\",\"#9467bd\",\"#1f77b4\",\"#d62728\",\"#d62728\",\"#9467bd\",\"#d62728\",\"#1f77b4\",\"#ff7f0e\",\"#ff7f0e\",\"#ff7f0e\",\"#d62728\",\"#9467bd\",\"#1f77b4\",\"#1f77b4\",\"#9467bd\",\"#d62728\",\"#d62728\",\"#d62728\",\"#2ca02c\",\"#d62728\",\"#2ca02c\",\"#2ca02c\",\"#1f77b4\",\"#1f77b4\",\"#1f77b4\",\"#9467bd\",\"#2ca02c\",\"#2ca02c\",\"#ff7f0e\",\"#1f77b4\",\"#ff7f0e\",\"#2ca02c\",\"#1f77b4\",\"#1f77b4\",\"#d62728\",\"#2ca02c\",\"#2ca02c\",\"#d62728\",\"#9467bd\",\"#d62728\",\"#d62728\",\"#d62728\",\"#9467bd\",\"#d62728\",\"#1f77b4\",\"#ff7f0e\",\"#d62728\",\"#2ca02c\",\"#1f77b4\",\"#1f77b4\",\"#1f77b4\",\"#9467bd\",\"#d62728\",\"#d62728\",\"#d62728\",\"#1f77b4\",\"#2ca02c\",\"#1f77b4\",\"#1f77b4\",\"#1f77b4\",\"#1f77b4\",\"#1f77b4\",\"#d62728\",\"#1f77b4\",\"#1f77b4\",\"#1f77b4\",\"#1f77b4\",\"#1f77b4\",\"#1f77b4\",\"#1f77b4\",\"#1f77b4\",\"#1f77b4\",\"#1f77b4\",\"#1f77b4\",\"#1f77b4\",\"#1f77b4\",\"#1f77b4\",\"#1f77b4\",\"#1f77b4\",\"#1f77b4\",\"#1f77b4\",\"#1f77b4\",\"#2ca02c\",\"#1f77b4\",\"#1f77b4\",\"#2ca02c\",\"#1f77b4\",\"#1f77b4\",\"#2ca02c\",\"#2ca02c\",\"#ff7f0e\",\"#1f77b4\",\"#2ca02c\",\"#2ca02c\",\"#2ca02c\",\"#2ca02c\",\"#2ca02c\",\"#2ca02c\",\"#2ca02c\",\"#2ca02c\",\"#2ca02c\",\"#2ca02c\",\"#2ca02c\",\"#2ca02c\",\"#2ca02c\",\"#1f77b4\",\"#2ca02c\",\"#2ca02c\",\"#2ca02c\",\"#1f77b4\",\"#2ca02c\",\"#1f77b4\",\"#ff7f0e\",\"#1f77b4\",\"#1f77b4\",\"#2ca02c\",\"#1f77b4\",\"#1f77b4\",\"#1f77b4\",\"#1f77b4\",\"#2ca02c\",\"#1f77b4\",\"#2ca02c\",\"#1f77b4\",\"#1f77b4\",\"#1f77b4\",\"#2ca02c\",\"#1f77b4\",\"#1f77b4\",\"#1f77b4\",\"#1f77b4\",\"#1f77b4\",\"#9467bd\",\"#2ca02c\",\"#2ca02c\",\"#1f77b4\",\"#2ca02c\",\"#2ca02c\",\"#2ca02c\",\"#1f77b4\",\"#2ca02c\",\"#1f77b4\",\"#9467bd\",\"#9467bd\",\"#9467bd\",\"#1f77b4\",\"#ff7f0e\",\"#1f77b4\",\"#1f77b4\",\"#1f77b4\",\"#1f77b4\",\"#1f77b4\",\"#ff7f0e\",\"#ff7f0e\",\"#ff7f0e\",\"#ff7f0e\",\"#9467bd\",\"#ff7f0e\",\"#ff7f0e\",\"#ff7f0e\",\"#ff7f0e\",\"#ff7f0e\",\"#9467bd\",\"#ff7f0e\",\"#9467bd\",\"#1f77b4\",\"#ff7f0e\",\"#ff7f0e\",\"#9467bd\",\"#1f77b4\",\"#1f77b4\",\"#ff7f0e\",\"#ff7f0e\",\"#d62728\",\"#1f77b4\",\"#1f77b4\",\"#1f77b4\",\"#ff7f0e\",\"#ff7f0e\",\"#ff7f0e\",\"#1f77b4\",\"#ff7f0e\",\"#ff7f0e\",\"#ff7f0e\",\"#9467bd\",\"#1f77b4\",\"#ff7f0e\",\"#ff7f0e\",\"#9467bd\",\"#ff7f0e\",\"#9467bd\",\"#9467bd\",\"#1f77b4\",\"#ff7f0e\",\"#ff7f0e\",\"#9467bd\",\"#9467bd\",\"#9467bd\",\"#1f77b4\",\"#ff7f0e\",\"#9467bd\",\"#1f77b4\",\"#1f77b4\",\"#1f77b4\",\"#1f77b4\",\"#ff7f0e\",\"#ff7f0e\",\"#ff7f0e\",\"#ff7f0e\",\"#ff7f0e\",\"#ff7f0e\",\"#ff7f0e\",\"#ff7f0e\",\"#2ca02c\",\"#ff7f0e\",\"#ff7f0e\",\"#1f77b4\",\"#ff7f0e\",\"#ff7f0e\",\"#ff7f0e\",\"#ff7f0e\",\"#ff7f0e\",\"#ff7f0e\",\"#ff7f0e\",\"#ff7f0e\",\"#ff7f0e\",\"#ff7f0e\",\"#d62728\",\"#ff7f0e\",\"#ff7f0e\",\"#ff7f0e\",\"#ff7f0e\",\"#ff7f0e\",\"#ff7f0e\",\"#1f77b4\",\"#1f77b4\",\"#ff7f0e\",\"#ff7f0e\",\"#ff7f0e\",\"#ff7f0e\",\"#9467bd\",\"#1f77b4\",\"#1f77b4\",\"#1f77b4\",\"#1f77b4\",\"#ff7f0e\",\"#ff7f0e\",\"#ff7f0e\",\"#ff7f0e\",\"#ff7f0e\",\"#ff7f0e\",\"#ff7f0e\",\"#ff7f0e\",\"#d62728\",\"#2ca02c\",\"#1f77b4\",\"#1f77b4\",\"#1f77b4\",\"#1f77b4\",\"#2ca02c\",\"#1f77b4\",\"#1f77b4\",\"#1f77b4\",\"#1f77b4\",\"#1f77b4\",\"#ff7f0e\",\"#1f77b4\",\"#1f77b4\",\"#2ca02c\",\"#2ca02c\",\"#2ca02c\",\"#1f77b4\",\"#1f77b4\",\"#1f77b4\",\"#1f77b4\",\"#1f77b4\",\"#2ca02c\",\"#1f77b4\",\"#1f77b4\",\"#1f77b4\",\"#1f77b4\",\"#1f77b4\",\"#2ca02c\",\"#2ca02c\",\"#1f77b4\",\"#1f77b4\",\"#d62728\",\"#1f77b4\",\"#1f77b4\",\"#1f77b4\",\"#1f77b4\",\"#2ca02c\",\"#1f77b4\",\"#1f77b4\",\"#1f77b4\",\"#1f77b4\",\"#2ca02c\",\"#2ca02c\",\"#2ca02c\",\"#2ca02c\",\"#2ca02c\",\"#2ca02c\",\"#2ca02c\",\"#2ca02c\",\"#2ca02c\",\"#2ca02c\",\"#ff7f0e\",\"#1f77b4\",\"#2ca02c\",\"#1f77b4\",\"#ff7f0e\",\"#d62728\",\"#d62728\",\"#9467bd\",\"#ff7f0e\",\"#1f77b4\",\"#9467bd\",\"#d62728\",\"#1f77b4\",\"#d62728\",\"#1f77b4\",\"#ff7f0e\",\"#ff7f0e\",\"#ff7f0e\",\"#ff7f0e\",\"#ff7f0e\",\"#ff7f0e\",\"#ff7f0e\",\"#ff7f0e\",\"#d62728\",\"#ff7f0e\",\"#ff7f0e\",\"#d62728\",\"#9467bd\",\"#ff7f0e\",\"#ff7f0e\",\"#ff7f0e\",\"#d62728\",\"#ff7f0e\",\"#d62728\",\"#d62728\",\"#ff7f0e\",\"#1f77b4\",\"#1f77b4\",\"#9467bd\",\"#2ca02c\",\"#ff7f0e\",\"#1f77b4\",\"#1f77b4\",\"#9467bd\",\"#2ca02c\",\"#2ca02c\",\"#d62728\",\"#2ca02c\",\"#2ca02c\",\"#2ca02c\",\"#1f77b4\",\"#1f77b4\",\"#2ca02c\",\"#2ca02c\",\"#d62728\",\"#9467bd\",\"#9467bd\",\"#9467bd\",\"#9467bd\",\"#9467bd\",\"#1f77b4\",\"#1f77b4\",\"#1f77b4\",\"#1f77b4\",\"#9467bd\",\"#1f77b4\",\"#1f77b4\",\"#1f77b4\",\"#1f77b4\",\"#1f77b4\",\"#9467bd\",\"#1f77b4\",\"#9467bd\",\"#9467bd\",\"#9467bd\",\"#9467bd\",\"#ff7f0e\",\"#2ca02c\",\"#2ca02c\",\"#2ca02c\",\"#9467bd\",\"#9467bd\",\"#9467bd\",\"#2ca02c\",\"#ff7f0e\",\"#2ca02c\",\"#9467bd\",\"#1f77b4\",\"#9467bd\",\"#9467bd\",\"#9467bd\",\"#d62728\",\"#9467bd\",\"#9467bd\",\"#9467bd\",\"#9467bd\",\"#9467bd\",\"#2ca02c\",\"#9467bd\",\"#9467bd\",\"#9467bd\",\"#1f77b4\",\"#1f77b4\",\"#9467bd\",\"#1f77b4\",\"#9467bd\",\"#9467bd\",\"#9467bd\",\"#ff7f0e\",\"#ff7f0e\",\"#2ca02c\",\"#9467bd\",\"#ff7f0e\",\"#ff7f0e\",\"#9467bd\",\"#9467bd\",\"#9467bd\",\"#9467bd\",\"#2ca02c\",\"#2ca02c\",\"#2ca02c\",\"#9467bd\",\"#d62728\",\"#ff7f0e\",\"#2ca02c\",\"#d62728\",\"#d62728\",\"#9467bd\",\"#2ca02c\",\"#2ca02c\",\"#1f77b4\",\"#1f77b4\",\"#9467bd\",\"#1f77b4\",\"#9467bd\",\"#9467bd\",\"#9467bd\",\"#1f77b4\",\"#ff7f0e\",\"#ff7f0e\",\"#9467bd\",\"#9467bd\",\"#9467bd\",\"#9467bd\",\"#9467bd\",\"#9467bd\",\"#9467bd\",\"#2ca02c\",\"#ff7f0e\",\"#1f77b4\",\"#9467bd\",\"#9467bd\",\"#9467bd\",\"#1f77b4\",\"#2ca02c\",\"#ff7f0e\",\"#ff7f0e\",\"#d62728\",\"#1f77b4\",\"#1f77b4\",\"#1f77b4\",\"#1f77b4\",\"#1f77b4\",\"#1f77b4\",\"#1f77b4\",\"#1f77b4\",\"#9467bd\",\"#9467bd\",\"#9467bd\",\"#9467bd\",\"#9467bd\",\"#1f77b4\",\"#2ca02c\",\"#2ca02c\",\"#2ca02c\",\"#2ca02c\",\"#9467bd\",\"#2ca02c\",\"#2ca02c\",\"#2ca02c\"],\"line_color\":[\"#1f77b4\",\"#2ca02c\",\"#ff7f0e\",\"#1f77b4\",\"#d62728\",\"#9467bd\",\"#2ca02c\",\"#9467bd\",\"#9467bd\",\"#ff7f0e\",\"#9467bd\",\"#d62728\",\"#9467bd\",\"#9467bd\",\"#1f77b4\",\"#d62728\",\"#d62728\",\"#d62728\",\"#d62728\",\"#d62728\",\"#d62728\",\"#d62728\",\"#ff7f0e\",\"#d62728\",\"#1f77b4\",\"#2ca02c\",\"#ff7f0e\",\"#2ca02c\",\"#ff7f0e\",\"#d62728\",\"#d62728\",\"#d62728\",\"#d62728\",\"#2ca02c\",\"#2ca02c\",\"#d62728\",\"#2ca02c\",\"#1f77b4\",\"#2ca02c\",\"#2ca02c\",\"#2ca02c\",\"#1f77b4\",\"#2ca02c\",\"#1f77b4\",\"#d62728\",\"#d62728\",\"#d62728\",\"#d62728\",\"#d62728\",\"#d62728\",\"#d62728\",\"#d62728\",\"#d62728\",\"#d62728\",\"#d62728\",\"#d62728\",\"#d62728\",\"#d62728\",\"#d62728\",\"#d62728\",\"#d62728\",\"#1f77b4\",\"#9467bd\",\"#ff7f0e\",\"#ff7f0e\",\"#ff7f0e\",\"#ff7f0e\",\"#ff7f0e\",\"#ff7f0e\",\"#ff7f0e\",\"#ff7f0e\",\"#d62728\",\"#ff7f0e\",\"#ff7f0e\",\"#ff7f0e\",\"#ff7f0e\",\"#1f77b4\",\"#1f77b4\",\"#2ca02c\",\"#ff7f0e\",\"#ff7f0e\",\"#ff7f0e\",\"#2ca02c\",\"#9467bd\",\"#1f77b4\",\"#1f77b4\",\"#ff7f0e\",\"#9467bd\",\"#ff7f0e\",\"#1f77b4\",\"#1f77b4\",\"#9467bd\",\"#d62728\",\"#1f77b4\",\"#1f77b4\",\"#9467bd\",\"#2ca02c\",\"#2ca02c\",\"#2ca02c\",\"#1f77b4\",\"#d62728\",\"#2ca02c\",\"#2ca02c\",\"#2ca02c\",\"#2ca02c\",\"#2ca02c\",\"#2ca02c\",\"#9467bd\",\"#9467bd\",\"#9467bd\",\"#1f77b4\",\"#1f77b4\",\"#1f77b4\",\"#1f77b4\",\"#1f77b4\",\"#1f77b4\",\"#1f77b4\",\"#d62728\",\"#9467bd\",\"#d62728\",\"#d62728\",\"#d62728\",\"#d62728\",\"#d62728\",\"#d62728\",\"#d62728\",\"#d62728\",\"#d62728\",\"#1f77b4\",\"#9467bd\",\"#ff7f0e\",\"#2ca02c\",\"#2ca02c\",\"#2ca02c\",\"#9467bd\",\"#1f77b4\",\"#1f77b4\",\"#1f77b4\",\"#ff7f0e\",\"#ff7f0e\",\"#ff7f0e\",\"#9467bd\",\"#ff7f0e\",\"#9467bd\",\"#9467bd\",\"#1f77b4\",\"#2ca02c\",\"#d62728\",\"#d62728\",\"#ff7f0e\",\"#9467bd\",\"#9467bd\",\"#9467bd\",\"#1f77b4\",\"#ff7f0e\",\"#9467bd\",\"#d62728\",\"#9467bd\",\"#1f77b4\",\"#1f77b4\",\"#1f77b4\",\"#d62728\",\"#d62728\",\"#d62728\",\"#1f77b4\",\"#1f77b4\",\"#d62728\",\"#9467bd\",\"#1f77b4\",\"#1f77b4\",\"#ff7f0e\",\"#ff7f0e\",\"#1f77b4\",\"#2ca02c\",\"#ff7f0e\",\"#9467bd\",\"#9467bd\",\"#9467bd\",\"#9467bd\",\"#ff7f0e\",\"#d62728\",\"#ff7f0e\",\"#ff7f0e\",\"#ff7f0e\",\"#ff7f0e\",\"#ff7f0e\",\"#ff7f0e\",\"#d62728\",\"#2ca02c\",\"#ff7f0e\",\"#ff7f0e\",\"#ff7f0e\",\"#2ca02c\",\"#ff7f0e\",\"#ff7f0e\",\"#ff7f0e\",\"#d62728\",\"#ff7f0e\",\"#2ca02c\",\"#ff7f0e\",\"#ff7f0e\",\"#ff7f0e\",\"#ff7f0e\",\"#9467bd\",\"#1f77b4\",\"#2ca02c\",\"#2ca02c\",\"#2ca02c\",\"#2ca02c\",\"#2ca02c\",\"#2ca02c\",\"#ff7f0e\",\"#ff7f0e\",\"#9467bd\",\"#ff7f0e\",\"#ff7f0e\",\"#ff7f0e\",\"#ff7f0e\",\"#ff7f0e\",\"#ff7f0e\",\"#9467bd\",\"#d62728\",\"#ff7f0e\",\"#1f77b4\",\"#9467bd\",\"#9467bd\",\"#9467bd\",\"#1f77b4\",\"#1f77b4\",\"#1f77b4\",\"#2ca02c\",\"#2ca02c\",\"#ff7f0e\",\"#ff7f0e\",\"#ff7f0e\",\"#d62728\",\"#2ca02c\",\"#ff7f0e\",\"#2ca02c\",\"#9467bd\",\"#1f77b4\",\"#1f77b4\",\"#1f77b4\",\"#ff7f0e\",\"#ff7f0e\",\"#9467bd\",\"#2ca02c\",\"#9467bd\",\"#ff7f0e\",\"#ff7f0e\",\"#ff7f0e\",\"#2ca02c\",\"#1f77b4\",\"#2ca02c\",\"#2ca02c\",\"#2ca02c\",\"#2ca02c\",\"#2ca02c\",\"#9467bd\",\"#9467bd\",\"#ff7f0e\",\"#ff7f0e\",\"#ff7f0e\",\"#2ca02c\",\"#ff7f0e\",\"#9467bd\",\"#9467bd\",\"#ff7f0e\",\"#9467bd\",\"#9467bd\",\"#1f77b4\",\"#1f77b4\",\"#9467bd\",\"#1f77b4\",\"#1f77b4\",\"#2ca02c\",\"#2ca02c\",\"#ff7f0e\",\"#2ca02c\",\"#2ca02c\",\"#2ca02c\",\"#ff7f0e\",\"#9467bd\",\"#1f77b4\",\"#1f77b4\",\"#1f77b4\",\"#ff7f0e\",\"#ff7f0e\",\"#ff7f0e\",\"#ff7f0e\",\"#ff7f0e\",\"#ff7f0e\",\"#ff7f0e\",\"#ff7f0e\",\"#ff7f0e\",\"#ff7f0e\",\"#d62728\",\"#ff7f0e\",\"#2ca02c\",\"#2ca02c\",\"#ff7f0e\",\"#9467bd\",\"#2ca02c\",\"#2ca02c\",\"#d62728\",\"#9467bd\",\"#ff7f0e\",\"#ff7f0e\",\"#ff7f0e\",\"#1f77b4\",\"#2ca02c\",\"#1f77b4\",\"#ff7f0e\",\"#d62728\",\"#d62728\",\"#d62728\",\"#d62728\",\"#1f77b4\",\"#1f77b4\",\"#ff7f0e\",\"#1f77b4\",\"#ff7f0e\",\"#1f77b4\",\"#1f77b4\",\"#1f77b4\",\"#ff7f0e\",\"#ff7f0e\",\"#ff7f0e\",\"#9467bd\",\"#2ca02c\",\"#9467bd\",\"#1f77b4\",\"#9467bd\",\"#2ca02c\",\"#ff7f0e\",\"#ff7f0e\",\"#2ca02c\",\"#9467bd\",\"#ff7f0e\",\"#2ca02c\",\"#9467bd\",\"#2ca02c\",\"#ff7f0e\",\"#ff7f0e\",\"#ff7f0e\",\"#ff7f0e\",\"#ff7f0e\",\"#1f77b4\",\"#2ca02c\",\"#2ca02c\",\"#2ca02c\",\"#1f77b4\",\"#ff7f0e\",\"#1f77b4\",\"#9467bd\",\"#9467bd\",\"#1f77b4\",\"#9467bd\",\"#2ca02c\",\"#2ca02c\",\"#ff7f0e\",\"#2ca02c\",\"#2ca02c\",\"#9467bd\",\"#9467bd\",\"#ff7f0e\",\"#d62728\",\"#1f77b4\",\"#1f77b4\",\"#2ca02c\",\"#2ca02c\",\"#1f77b4\",\"#1f77b4\",\"#1f77b4\",\"#1f77b4\",\"#1f77b4\",\"#1f77b4\",\"#9467bd\",\"#1f77b4\",\"#9467bd\",\"#ff7f0e\",\"#ff7f0e\",\"#1f77b4\",\"#1f77b4\",\"#1f77b4\",\"#ff7f0e\",\"#1f77b4\",\"#1f77b4\",\"#9467bd\",\"#ff7f0e\",\"#1f77b4\",\"#ff7f0e\",\"#1f77b4\",\"#1f77b4\",\"#1f77b4\",\"#1f77b4\",\"#ff7f0e\",\"#ff7f0e\",\"#ff7f0e\",\"#ff7f0e\",\"#ff7f0e\",\"#2ca02c\",\"#1f77b4\",\"#1f77b4\",\"#ff7f0e\",\"#ff7f0e\",\"#9467bd\",\"#9467bd\",\"#9467bd\",\"#9467bd\",\"#9467bd\",\"#9467bd\",\"#9467bd\",\"#9467bd\",\"#9467bd\",\"#9467bd\",\"#9467bd\",\"#ff7f0e\",\"#ff7f0e\",\"#d62728\",\"#ff7f0e\",\"#ff7f0e\",\"#ff7f0e\",\"#ff7f0e\",\"#ff7f0e\",\"#ff7f0e\",\"#ff7f0e\",\"#ff7f0e\",\"#ff7f0e\",\"#ff7f0e\",\"#ff7f0e\",\"#ff7f0e\",\"#ff7f0e\",\"#ff7f0e\",\"#ff7f0e\",\"#ff7f0e\",\"#ff7f0e\",\"#d62728\",\"#ff7f0e\",\"#2ca02c\",\"#2ca02c\",\"#ff7f0e\",\"#ff7f0e\",\"#ff7f0e\",\"#ff7f0e\",\"#d62728\",\"#2ca02c\",\"#2ca02c\",\"#ff7f0e\",\"#ff7f0e\",\"#ff7f0e\",\"#ff7f0e\",\"#ff7f0e\",\"#d62728\",\"#1f77b4\",\"#d62728\",\"#ff7f0e\",\"#ff7f0e\",\"#ff7f0e\",\"#ff7f0e\",\"#ff7f0e\",\"#ff7f0e\",\"#ff7f0e\",\"#ff7f0e\",\"#d62728\",\"#d62728\",\"#d62728\",\"#ff7f0e\",\"#d62728\",\"#2ca02c\",\"#ff7f0e\",\"#2ca02c\",\"#ff7f0e\",\"#ff7f0e\",\"#2ca02c\",\"#ff7f0e\",\"#ff7f0e\",\"#ff7f0e\",\"#ff7f0e\",\"#ff7f0e\",\"#ff7f0e\",\"#ff7f0e\",\"#ff7f0e\",\"#ff7f0e\",\"#9467bd\",\"#1f77b4\",\"#ff7f0e\",\"#2ca02c\",\"#2ca02c\",\"#d62728\",\"#2ca02c\",\"#2ca02c\",\"#d62728\",\"#2ca02c\",\"#2ca02c\",\"#2ca02c\",\"#1f77b4\",\"#2ca02c\",\"#1f77b4\",\"#d62728\",\"#1f77b4\",\"#9467bd\",\"#1f77b4\",\"#d62728\",\"#1f77b4\",\"#2ca02c\",\"#ff7f0e\",\"#d62728\",\"#2ca02c\",\"#2ca02c\",\"#2ca02c\",\"#2ca02c\",\"#ff7f0e\",\"#ff7f0e\",\"#1f77b4\",\"#1f77b4\",\"#1f77b4\",\"#1f77b4\",\"#1f77b4\",\"#1f77b4\",\"#1f77b4\",\"#1f77b4\",\"#2ca02c\",\"#9467bd\",\"#2ca02c\",\"#2ca02c\",\"#ff7f0e\",\"#d62728\",\"#d62728\",\"#d62728\",\"#ff7f0e\",\"#d62728\",\"#2ca02c\",\"#2ca02c\",\"#2ca02c\",\"#2ca02c\",\"#ff7f0e\",\"#ff7f0e\",\"#ff7f0e\",\"#2ca02c\",\"#ff7f0e\",\"#ff7f0e\",\"#1f77b4\",\"#1f77b4\",\"#2ca02c\",\"#ff7f0e\",\"#ff7f0e\",\"#1f77b4\",\"#1f77b4\",\"#1f77b4\",\"#2ca02c\",\"#1f77b4\",\"#1f77b4\",\"#ff7f0e\",\"#1f77b4\",\"#1f77b4\",\"#1f77b4\",\"#1f77b4\",\"#1f77b4\",\"#1f77b4\",\"#ff7f0e\",\"#2ca02c\",\"#2ca02c\",\"#2ca02c\",\"#2ca02c\",\"#ff7f0e\",\"#ff7f0e\",\"#2ca02c\",\"#ff7f0e\",\"#ff7f0e\",\"#9467bd\",\"#9467bd\",\"#d62728\",\"#ff7f0e\",\"#1f77b4\",\"#1f77b4\",\"#ff7f0e\",\"#ff7f0e\",\"#2ca02c\",\"#2ca02c\",\"#2ca02c\",\"#ff7f0e\",\"#2ca02c\",\"#d62728\",\"#2ca02c\",\"#ff7f0e\",\"#d62728\",\"#2ca02c\",\"#2ca02c\",\"#ff7f0e\",\"#2ca02c\",\"#2ca02c\",\"#2ca02c\",\"#ff7f0e\",\"#2ca02c\",\"#2ca02c\",\"#2ca02c\",\"#ff7f0e\",\"#9467bd\",\"#2ca02c\",\"#d62728\",\"#1f77b4\",\"#1f77b4\",\"#1f77b4\",\"#1f77b4\",\"#1f77b4\",\"#1f77b4\",\"#1f77b4\",\"#ff7f0e\",\"#9467bd\",\"#ff7f0e\",\"#ff7f0e\",\"#ff7f0e\",\"#ff7f0e\",\"#ff7f0e\",\"#ff7f0e\",\"#1f77b4\",\"#ff7f0e\",\"#1f77b4\",\"#ff7f0e\",\"#ff7f0e\",\"#2ca02c\",\"#d62728\",\"#d62728\",\"#d62728\",\"#2ca02c\",\"#d62728\",\"#2ca02c\",\"#9467bd\",\"#9467bd\",\"#ff7f0e\",\"#d62728\",\"#1f77b4\",\"#9467bd\",\"#9467bd\",\"#2ca02c\",\"#2ca02c\",\"#ff7f0e\",\"#d62728\",\"#2ca02c\",\"#d62728\",\"#d62728\",\"#1f77b4\",\"#9467bd\",\"#9467bd\",\"#ff7f0e\",\"#9467bd\",\"#1f77b4\",\"#1f77b4\",\"#1f77b4\",\"#1f77b4\",\"#1f77b4\",\"#1f77b4\",\"#1f77b4\",\"#2ca02c\",\"#2ca02c\",\"#1f77b4\",\"#d62728\",\"#d62728\",\"#1f77b4\",\"#1f77b4\",\"#ff7f0e\",\"#ff7f0e\",\"#ff7f0e\",\"#ff7f0e\",\"#ff7f0e\",\"#ff7f0e\",\"#ff7f0e\",\"#ff7f0e\",\"#ff7f0e\",\"#ff7f0e\",\"#ff7f0e\",\"#9467bd\",\"#1f77b4\",\"#1f77b4\",\"#d62728\",\"#ff7f0e\",\"#2ca02c\",\"#2ca02c\",\"#d62728\",\"#d62728\",\"#d62728\",\"#d62728\",\"#d62728\",\"#d62728\",\"#d62728\",\"#d62728\",\"#d62728\",\"#d62728\",\"#d62728\",\"#d62728\",\"#ff7f0e\",\"#2ca02c\",\"#1f77b4\",\"#ff7f0e\",\"#9467bd\",\"#ff7f0e\",\"#ff7f0e\",\"#2ca02c\",\"#2ca02c\",\"#2ca02c\",\"#2ca02c\",\"#1f77b4\",\"#2ca02c\",\"#2ca02c\",\"#1f77b4\",\"#2ca02c\",\"#2ca02c\",\"#d62728\",\"#d62728\",\"#9467bd\",\"#1f77b4\",\"#2ca02c\",\"#1f77b4\",\"#1f77b4\",\"#ff7f0e\",\"#1f77b4\",\"#1f77b4\",\"#1f77b4\",\"#1f77b4\",\"#1f77b4\",\"#1f77b4\",\"#ff7f0e\",\"#ff7f0e\",\"#d62728\",\"#d62728\",\"#9467bd\",\"#1f77b4\",\"#9467bd\",\"#d62728\",\"#1f77b4\",\"#1f77b4\",\"#d62728\",\"#9467bd\",\"#1f77b4\",\"#ff7f0e\",\"#ff7f0e\",\"#9467bd\",\"#9467bd\",\"#ff7f0e\",\"#ff7f0e\",\"#d62728\",\"#ff7f0e\",\"#d62728\",\"#ff7f0e\",\"#ff7f0e\",\"#9467bd\",\"#2ca02c\",\"#ff7f0e\",\"#ff7f0e\",\"#1f77b4\",\"#1f77b4\",\"#9467bd\",\"#2ca02c\",\"#2ca02c\",\"#2ca02c\",\"#2ca02c\",\"#2ca02c\",\"#2ca02c\",\"#d62728\",\"#2ca02c\",\"#1f77b4\",\"#2ca02c\",\"#1f77b4\",\"#1f77b4\",\"#1f77b4\",\"#1f77b4\",\"#1f77b4\",\"#1f77b4\",\"#2ca02c\",\"#2ca02c\",\"#2ca02c\",\"#d62728\",\"#9467bd\",\"#9467bd\",\"#9467bd\",\"#9467bd\",\"#9467bd\",\"#2ca02c\",\"#2ca02c\",\"#9467bd\",\"#9467bd\",\"#9467bd\",\"#2ca02c\",\"#ff7f0e\",\"#2ca02c\",\"#9467bd\",\"#1f77b4\",\"#9467bd\",\"#9467bd\",\"#9467bd\",\"#d62728\",\"#9467bd\",\"#9467bd\",\"#9467bd\",\"#9467bd\",\"#9467bd\",\"#2ca02c\",\"#9467bd\",\"#9467bd\",\"#9467bd\",\"#1f77b4\",\"#1f77b4\",\"#9467bd\",\"#1f77b4\",\"#9467bd\",\"#9467bd\",\"#9467bd\",\"#ff7f0e\",\"#ff7f0e\",\"#2ca02c\",\"#9467bd\",\"#9467bd\",\"#9467bd\",\"#9467bd\",\"#2ca02c\",\"#2ca02c\",\"#2ca02c\",\"#9467bd\",\"#d62728\",\"#ff7f0e\",\"#2ca02c\",\"#d62728\",\"#d62728\",\"#9467bd\",\"#2ca02c\",\"#2ca02c\",\"#1f77b4\",\"#1f77b4\",\"#9467bd\",\"#1f77b4\",\"#9467bd\",\"#9467bd\",\"#9467bd\",\"#1f77b4\",\"#ff7f0e\",\"#9467bd\",\"#9467bd\",\"#9467bd\",\"#9467bd\",\"#9467bd\",\"#9467bd\",\"#9467bd\",\"#2ca02c\",\"#ff7f0e\",\"#1f77b4\",\"#9467bd\",\"#9467bd\",\"#9467bd\",\"#1f77b4\",\"#2ca02c\",\"#ff7f0e\",\"#ff7f0e\",\"#d62728\",\"#1f77b4\",\"#1f77b4\",\"#1f77b4\",\"#1f77b4\",\"#1f77b4\",\"#1f77b4\",\"#1f77b4\",\"#1f77b4\",\"#9467bd\",\"#9467bd\",\"#9467bd\",\"#9467bd\",\"#9467bd\",\"#1f77b4\",\"#2ca02c\",\"#2ca02c\",\"#2ca02c\",\"#2ca02c\",\"#9467bd\",\"#2ca02c\",\"#2ca02c\",\"#2ca02c\",\"#d62728\",\"#2ca02c\",\"#d62728\",\"#d62728\",\"#ff7f0e\",\"#ff7f0e\",\"#1f77b4\",\"#1f77b4\",\"#1f77b4\",\"#1f77b4\",\"#1f77b4\",\"#1f77b4\",\"#1f77b4\",\"#2ca02c\",\"#2ca02c\",\"#2ca02c\",\"#2ca02c\",\"#d62728\",\"#d62728\",\"#d62728\",\"#d62728\",\"#d62728\",\"#2ca02c\",\"#2ca02c\",\"#2ca02c\",\"#1f77b4\",\"#1f77b4\",\"#d62728\",\"#9467bd\",\"#1f77b4\",\"#d62728\",\"#ff7f0e\",\"#2ca02c\",\"#1f77b4\",\"#1f77b4\",\"#d62728\",\"#d62728\",\"#9467bd\",\"#1f77b4\",\"#d62728\",\"#d62728\",\"#9467bd\",\"#d62728\",\"#1f77b4\",\"#ff7f0e\",\"#ff7f0e\",\"#ff7f0e\",\"#d62728\",\"#9467bd\",\"#1f77b4\",\"#1f77b4\",\"#9467bd\",\"#d62728\",\"#d62728\",\"#d62728\",\"#2ca02c\",\"#d62728\",\"#2ca02c\",\"#2ca02c\",\"#1f77b4\",\"#1f77b4\",\"#1f77b4\",\"#9467bd\",\"#2ca02c\",\"#2ca02c\",\"#ff7f0e\",\"#1f77b4\",\"#ff7f0e\",\"#2ca02c\",\"#1f77b4\",\"#1f77b4\",\"#d62728\",\"#2ca02c\",\"#2ca02c\",\"#d62728\",\"#9467bd\",\"#d62728\",\"#d62728\",\"#d62728\",\"#9467bd\",\"#d62728\",\"#1f77b4\",\"#ff7f0e\",\"#d62728\",\"#2ca02c\",\"#1f77b4\",\"#1f77b4\",\"#1f77b4\",\"#9467bd\",\"#d62728\",\"#d62728\",\"#d62728\",\"#1f77b4\",\"#2ca02c\",\"#1f77b4\",\"#1f77b4\",\"#1f77b4\",\"#1f77b4\",\"#1f77b4\",\"#d62728\",\"#1f77b4\",\"#1f77b4\",\"#1f77b4\",\"#1f77b4\",\"#1f77b4\",\"#1f77b4\",\"#1f77b4\",\"#1f77b4\",\"#1f77b4\",\"#1f77b4\",\"#1f77b4\",\"#1f77b4\",\"#1f77b4\",\"#1f77b4\",\"#1f77b4\",\"#1f77b4\",\"#1f77b4\",\"#1f77b4\",\"#1f77b4\",\"#2ca02c\",\"#1f77b4\",\"#1f77b4\",\"#2ca02c\",\"#1f77b4\",\"#1f77b4\",\"#2ca02c\",\"#2ca02c\",\"#ff7f0e\",\"#1f77b4\",\"#2ca02c\",\"#2ca02c\",\"#2ca02c\",\"#2ca02c\",\"#2ca02c\",\"#2ca02c\",\"#2ca02c\",\"#2ca02c\",\"#2ca02c\",\"#2ca02c\",\"#2ca02c\",\"#2ca02c\",\"#2ca02c\",\"#1f77b4\",\"#2ca02c\",\"#2ca02c\",\"#2ca02c\",\"#1f77b4\",\"#2ca02c\",\"#1f77b4\",\"#ff7f0e\",\"#1f77b4\",\"#1f77b4\",\"#2ca02c\",\"#1f77b4\",\"#1f77b4\",\"#1f77b4\",\"#1f77b4\",\"#2ca02c\",\"#1f77b4\",\"#2ca02c\",\"#1f77b4\",\"#1f77b4\",\"#1f77b4\",\"#2ca02c\",\"#1f77b4\",\"#1f77b4\",\"#1f77b4\",\"#1f77b4\",\"#1f77b4\",\"#9467bd\",\"#2ca02c\",\"#2ca02c\",\"#1f77b4\",\"#2ca02c\",\"#2ca02c\",\"#2ca02c\",\"#1f77b4\",\"#2ca02c\",\"#1f77b4\",\"#9467bd\",\"#9467bd\",\"#9467bd\",\"#1f77b4\",\"#ff7f0e\",\"#1f77b4\",\"#1f77b4\",\"#1f77b4\",\"#1f77b4\",\"#1f77b4\",\"#ff7f0e\",\"#ff7f0e\",\"#ff7f0e\",\"#ff7f0e\",\"#9467bd\",\"#ff7f0e\",\"#ff7f0e\",\"#ff7f0e\",\"#ff7f0e\",\"#ff7f0e\",\"#9467bd\",\"#ff7f0e\",\"#9467bd\",\"#1f77b4\",\"#ff7f0e\",\"#ff7f0e\",\"#9467bd\",\"#1f77b4\",\"#1f77b4\",\"#ff7f0e\",\"#ff7f0e\",\"#d62728\",\"#1f77b4\",\"#1f77b4\",\"#1f77b4\",\"#ff7f0e\",\"#ff7f0e\",\"#ff7f0e\",\"#1f77b4\",\"#ff7f0e\",\"#ff7f0e\",\"#ff7f0e\",\"#9467bd\",\"#1f77b4\",\"#ff7f0e\",\"#ff7f0e\",\"#9467bd\",\"#ff7f0e\",\"#9467bd\",\"#9467bd\",\"#1f77b4\",\"#ff7f0e\",\"#ff7f0e\",\"#9467bd\",\"#9467bd\",\"#9467bd\",\"#1f77b4\",\"#ff7f0e\",\"#9467bd\",\"#1f77b4\",\"#1f77b4\",\"#1f77b4\",\"#1f77b4\",\"#ff7f0e\",\"#ff7f0e\",\"#ff7f0e\",\"#ff7f0e\",\"#ff7f0e\",\"#ff7f0e\",\"#ff7f0e\",\"#ff7f0e\",\"#2ca02c\",\"#ff7f0e\",\"#ff7f0e\",\"#1f77b4\",\"#ff7f0e\",\"#ff7f0e\",\"#ff7f0e\",\"#ff7f0e\",\"#ff7f0e\",\"#ff7f0e\",\"#ff7f0e\",\"#ff7f0e\",\"#ff7f0e\",\"#ff7f0e\",\"#d62728\",\"#ff7f0e\",\"#ff7f0e\",\"#ff7f0e\",\"#ff7f0e\",\"#ff7f0e\",\"#ff7f0e\",\"#1f77b4\",\"#1f77b4\",\"#ff7f0e\",\"#ff7f0e\",\"#ff7f0e\",\"#ff7f0e\",\"#9467bd\",\"#1f77b4\",\"#1f77b4\",\"#1f77b4\",\"#1f77b4\",\"#ff7f0e\",\"#ff7f0e\",\"#ff7f0e\",\"#ff7f0e\",\"#ff7f0e\",\"#ff7f0e\",\"#ff7f0e\",\"#ff7f0e\",\"#d62728\",\"#2ca02c\",\"#1f77b4\",\"#1f77b4\",\"#1f77b4\",\"#1f77b4\",\"#2ca02c\",\"#1f77b4\",\"#1f77b4\",\"#1f77b4\",\"#1f77b4\",\"#1f77b4\",\"#ff7f0e\",\"#1f77b4\",\"#1f77b4\",\"#2ca02c\",\"#2ca02c\",\"#2ca02c\",\"#1f77b4\",\"#1f77b4\",\"#1f77b4\",\"#1f77b4\",\"#1f77b4\",\"#2ca02c\",\"#1f77b4\",\"#1f77b4\",\"#1f77b4\",\"#1f77b4\",\"#1f77b4\",\"#2ca02c\",\"#2ca02c\",\"#1f77b4\",\"#1f77b4\",\"#d62728\",\"#1f77b4\",\"#1f77b4\",\"#1f77b4\",\"#1f77b4\",\"#2ca02c\",\"#1f77b4\",\"#1f77b4\",\"#1f77b4\",\"#1f77b4\",\"#2ca02c\",\"#2ca02c\",\"#2ca02c\",\"#2ca02c\",\"#2ca02c\",\"#2ca02c\",\"#2ca02c\",\"#2ca02c\",\"#2ca02c\",\"#2ca02c\",\"#ff7f0e\",\"#1f77b4\",\"#2ca02c\",\"#1f77b4\",\"#ff7f0e\",\"#d62728\",\"#d62728\",\"#9467bd\",\"#1f77b4\",\"#9467bd\",\"#d62728\",\"#1f77b4\",\"#d62728\",\"#1f77b4\",\"#ff7f0e\",\"#ff7f0e\",\"#ff7f0e\",\"#ff7f0e\",\"#ff7f0e\",\"#ff7f0e\",\"#ff7f0e\",\"#ff7f0e\",\"#d62728\",\"#ff7f0e\",\"#ff7f0e\",\"#d62728\",\"#9467bd\",\"#ff7f0e\",\"#ff7f0e\",\"#ff7f0e\",\"#d62728\",\"#ff7f0e\",\"#d62728\",\"#d62728\",\"#ff7f0e\",\"#1f77b4\",\"#1f77b4\",\"#9467bd\",\"#2ca02c\",\"#ff7f0e\",\"#1f77b4\",\"#1f77b4\",\"#9467bd\",\"#2ca02c\",\"#2ca02c\",\"#d62728\",\"#2ca02c\",\"#2ca02c\",\"#2ca02c\",\"#1f77b4\",\"#2ca02c\",\"#2ca02c\",\"#d62728\",\"#9467bd\",\"#9467bd\",\"#9467bd\",\"#9467bd\",\"#9467bd\",\"#1f77b4\",\"#1f77b4\",\"#1f77b4\",\"#1f77b4\",\"#9467bd\",\"#1f77b4\",\"#1f77b4\",\"#1f77b4\",\"#1f77b4\",\"#1f77b4\",\"#9467bd\",\"#1f77b4\",\"#9467bd\",\"#9467bd\",\"#9467bd\",\"#9467bd\",\"#ff7f0e\",\"#2ca02c\",\"#2ca02c\",\"#2ca02c\",\"#9467bd\",\"#9467bd\",\"#9467bd\",\"#2ca02c\",\"#ff7f0e\",\"#2ca02c\",\"#9467bd\",\"#1f77b4\",\"#9467bd\",\"#9467bd\",\"#9467bd\",\"#d62728\",\"#9467bd\",\"#9467bd\",\"#9467bd\",\"#9467bd\",\"#9467bd\",\"#2ca02c\",\"#9467bd\",\"#9467bd\",\"#9467bd\",\"#1f77b4\",\"#1f77b4\",\"#9467bd\",\"#1f77b4\",\"#9467bd\",\"#9467bd\",\"#9467bd\",\"#ff7f0e\",\"#ff7f0e\",\"#2ca02c\",\"#9467bd\",\"#ff7f0e\",\"#9467bd\",\"#9467bd\",\"#9467bd\",\"#9467bd\",\"#2ca02c\",\"#2ca02c\",\"#2ca02c\",\"#9467bd\",\"#d62728\",\"#ff7f0e\",\"#2ca02c\",\"#d62728\",\"#d62728\",\"#9467bd\",\"#2ca02c\",\"#2ca02c\",\"#1f77b4\",\"#1f77b4\",\"#9467bd\",\"#1f77b4\",\"#9467bd\",\"#9467bd\",\"#9467bd\",\"#1f77b4\",\"#ff7f0e\",\"#ff7f0e\",\"#9467bd\",\"#9467bd\",\"#9467bd\",\"#9467bd\",\"#9467bd\",\"#9467bd\",\"#9467bd\",\"#2ca02c\",\"#ff7f0e\",\"#1f77b4\",\"#9467bd\",\"#9467bd\",\"#9467bd\",\"#1f77b4\",\"#2ca02c\",\"#ff7f0e\",\"#ff7f0e\",\"#d62728\",\"#1f77b4\",\"#1f77b4\",\"#1f77b4\",\"#1f77b4\",\"#1f77b4\",\"#1f77b4\",\"#1f77b4\",\"#1f77b4\",\"#9467bd\",\"#9467bd\",\"#9467bd\",\"#9467bd\",\"#9467bd\",\"#1f77b4\",\"#2ca02c\",\"#2ca02c\",\"#2ca02c\",\"#2ca02c\",\"#9467bd\",\"#2ca02c\",\"#2ca02c\",\"#2ca02c\",\"#1f77b4\",\"#2ca02c\",\"#ff7f0e\",\"#1f77b4\",\"#d62728\",\"#9467bd\",\"#2ca02c\",\"#9467bd\",\"#9467bd\",\"#ff7f0e\",\"#9467bd\",\"#d62728\",\"#9467bd\",\"#9467bd\",\"#1f77b4\",\"#d62728\",\"#d62728\",\"#d62728\",\"#d62728\",\"#d62728\",\"#d62728\",\"#d62728\",\"#ff7f0e\",\"#d62728\",\"#1f77b4\",\"#2ca02c\",\"#ff7f0e\",\"#2ca02c\",\"#ff7f0e\",\"#d62728\",\"#d62728\",\"#d62728\",\"#d62728\",\"#2ca02c\",\"#2ca02c\",\"#d62728\",\"#2ca02c\",\"#1f77b4\",\"#2ca02c\",\"#2ca02c\",\"#1f77b4\",\"#2ca02c\",\"#1f77b4\",\"#2ca02c\",\"#1f77b4\",\"#d62728\",\"#d62728\",\"#d62728\",\"#d62728\",\"#d62728\",\"#d62728\",\"#d62728\",\"#d62728\",\"#d62728\",\"#d62728\",\"#d62728\",\"#d62728\",\"#d62728\",\"#d62728\",\"#d62728\",\"#d62728\",\"#d62728\",\"#1f77b4\",\"#9467bd\",\"#ff7f0e\",\"#ff7f0e\",\"#ff7f0e\",\"#ff7f0e\",\"#ff7f0e\",\"#ff7f0e\",\"#ff7f0e\",\"#ff7f0e\",\"#d62728\",\"#ff7f0e\",\"#ff7f0e\",\"#ff7f0e\",\"#ff7f0e\",\"#1f77b4\",\"#1f77b4\",\"#2ca02c\",\"#ff7f0e\",\"#ff7f0e\",\"#ff7f0e\",\"#2ca02c\",\"#9467bd\",\"#1f77b4\",\"#ff7f0e\",\"#9467bd\",\"#ff7f0e\",\"#1f77b4\",\"#1f77b4\",\"#9467bd\",\"#d62728\",\"#1f77b4\",\"#1f77b4\",\"#9467bd\",\"#2ca02c\",\"#2ca02c\",\"#2ca02c\",\"#1f77b4\",\"#d62728\",\"#2ca02c\",\"#2ca02c\",\"#2ca02c\",\"#2ca02c\",\"#2ca02c\",\"#2ca02c\",\"#9467bd\",\"#9467bd\",\"#9467bd\",\"#1f77b4\",\"#1f77b4\",\"#1f77b4\",\"#1f77b4\",\"#1f77b4\",\"#1f77b4\",\"#1f77b4\",\"#d62728\",\"#9467bd\",\"#d62728\",\"#d62728\",\"#d62728\",\"#d62728\",\"#d62728\",\"#d62728\",\"#d62728\",\"#d62728\",\"#d62728\",\"#1f77b4\",\"#9467bd\",\"#ff7f0e\",\"#2ca02c\",\"#2ca02c\",\"#2ca02c\",\"#9467bd\",\"#1f77b4\",\"#1f77b4\",\"#1f77b4\",\"#ff7f0e\",\"#ff7f0e\",\"#ff7f0e\",\"#9467bd\",\"#ff7f0e\",\"#9467bd\",\"#9467bd\",\"#1f77b4\",\"#2ca02c\",\"#d62728\",\"#d62728\",\"#ff7f0e\",\"#9467bd\",\"#9467bd\",\"#9467bd\",\"#1f77b4\",\"#ff7f0e\",\"#9467bd\",\"#d62728\",\"#9467bd\",\"#1f77b4\",\"#1f77b4\",\"#1f77b4\",\"#d62728\",\"#d62728\",\"#d62728\",\"#1f77b4\",\"#1f77b4\",\"#d62728\",\"#9467bd\",\"#1f77b4\",\"#1f77b4\",\"#ff7f0e\",\"#ff7f0e\",\"#1f77b4\",\"#2ca02c\",\"#ff7f0e\",\"#9467bd\",\"#9467bd\",\"#9467bd\",\"#9467bd\",\"#ff7f0e\",\"#d62728\",\"#ff7f0e\",\"#ff7f0e\",\"#ff7f0e\",\"#ff7f0e\",\"#ff7f0e\",\"#ff7f0e\",\"#d62728\",\"#2ca02c\",\"#ff7f0e\",\"#ff7f0e\",\"#ff7f0e\",\"#2ca02c\",\"#ff7f0e\",\"#ff7f0e\",\"#ff7f0e\",\"#d62728\",\"#ff7f0e\",\"#2ca02c\",\"#ff7f0e\",\"#ff7f0e\",\"#ff7f0e\",\"#ff7f0e\",\"#9467bd\",\"#1f77b4\",\"#2ca02c\",\"#2ca02c\",\"#2ca02c\",\"#2ca02c\",\"#2ca02c\",\"#2ca02c\",\"#ff7f0e\",\"#ff7f0e\",\"#9467bd\",\"#ff7f0e\",\"#ff7f0e\",\"#ff7f0e\",\"#ff7f0e\",\"#ff7f0e\",\"#ff7f0e\",\"#9467bd\",\"#d62728\",\"#ff7f0e\",\"#1f77b4\",\"#9467bd\",\"#9467bd\",\"#9467bd\",\"#1f77b4\",\"#1f77b4\",\"#1f77b4\",\"#2ca02c\",\"#2ca02c\",\"#2ca02c\",\"#ff7f0e\",\"#ff7f0e\",\"#ff7f0e\",\"#d62728\",\"#2ca02c\",\"#ff7f0e\",\"#2ca02c\",\"#9467bd\",\"#1f77b4\",\"#1f77b4\",\"#1f77b4\",\"#ff7f0e\",\"#ff7f0e\",\"#9467bd\",\"#2ca02c\",\"#9467bd\",\"#ff7f0e\",\"#ff7f0e\",\"#ff7f0e\",\"#2ca02c\",\"#1f77b4\",\"#2ca02c\",\"#2ca02c\",\"#2ca02c\",\"#2ca02c\",\"#2ca02c\",\"#2ca02c\",\"#9467bd\",\"#9467bd\",\"#ff7f0e\",\"#ff7f0e\",\"#ff7f0e\",\"#2ca02c\",\"#ff7f0e\",\"#9467bd\",\"#9467bd\",\"#ff7f0e\",\"#9467bd\",\"#9467bd\",\"#1f77b4\",\"#1f77b4\",\"#9467bd\",\"#1f77b4\",\"#1f77b4\",\"#2ca02c\",\"#2ca02c\",\"#ff7f0e\",\"#2ca02c\",\"#2ca02c\",\"#2ca02c\",\"#ff7f0e\",\"#9467bd\",\"#1f77b4\",\"#1f77b4\",\"#1f77b4\",\"#ff7f0e\",\"#ff7f0e\",\"#ff7f0e\",\"#ff7f0e\",\"#ff7f0e\",\"#ff7f0e\",\"#ff7f0e\",\"#ff7f0e\",\"#ff7f0e\",\"#ff7f0e\",\"#d62728\",\"#ff7f0e\",\"#2ca02c\",\"#2ca02c\",\"#ff7f0e\",\"#9467bd\",\"#2ca02c\",\"#2ca02c\",\"#d62728\",\"#9467bd\",\"#ff7f0e\",\"#ff7f0e\",\"#ff7f0e\",\"#1f77b4\",\"#2ca02c\",\"#1f77b4\",\"#ff7f0e\",\"#d62728\",\"#d62728\",\"#d62728\",\"#d62728\",\"#1f77b4\",\"#1f77b4\",\"#ff7f0e\",\"#1f77b4\",\"#ff7f0e\",\"#1f77b4\",\"#1f77b4\",\"#1f77b4\",\"#ff7f0e\",\"#ff7f0e\",\"#ff7f0e\",\"#9467bd\",\"#2ca02c\",\"#9467bd\",\"#1f77b4\",\"#9467bd\",\"#2ca02c\",\"#ff7f0e\",\"#ff7f0e\",\"#2ca02c\",\"#9467bd\",\"#ff7f0e\",\"#2ca02c\",\"#9467bd\",\"#2ca02c\",\"#ff7f0e\",\"#ff7f0e\",\"#ff7f0e\",\"#ff7f0e\",\"#ff7f0e\",\"#1f77b4\",\"#2ca02c\",\"#2ca02c\",\"#2ca02c\",\"#1f77b4\",\"#ff7f0e\",\"#1f77b4\",\"#9467bd\",\"#9467bd\",\"#1f77b4\",\"#9467bd\",\"#2ca02c\",\"#2ca02c\",\"#ff7f0e\",\"#2ca02c\",\"#2ca02c\",\"#9467bd\",\"#9467bd\",\"#ff7f0e\",\"#d62728\",\"#1f77b4\",\"#1f77b4\",\"#2ca02c\",\"#2ca02c\",\"#1f77b4\",\"#1f77b4\",\"#1f77b4\",\"#1f77b4\",\"#1f77b4\",\"#1f77b4\",\"#1f77b4\",\"#9467bd\",\"#1f77b4\",\"#9467bd\",\"#ff7f0e\",\"#ff7f0e\",\"#1f77b4\",\"#1f77b4\",\"#1f77b4\",\"#ff7f0e\",\"#1f77b4\",\"#1f77b4\",\"#9467bd\",\"#ff7f0e\",\"#1f77b4\",\"#ff7f0e\",\"#1f77b4\",\"#1f77b4\",\"#1f77b4\",\"#1f77b4\",\"#ff7f0e\",\"#ff7f0e\",\"#ff7f0e\",\"#ff7f0e\",\"#ff7f0e\",\"#2ca02c\",\"#1f77b4\",\"#1f77b4\",\"#ff7f0e\",\"#ff7f0e\",\"#9467bd\",\"#9467bd\",\"#9467bd\",\"#9467bd\",\"#9467bd\",\"#9467bd\",\"#9467bd\",\"#9467bd\",\"#9467bd\",\"#9467bd\",\"#9467bd\",\"#ff7f0e\",\"#ff7f0e\",\"#d62728\",\"#ff7f0e\",\"#ff7f0e\",\"#ff7f0e\",\"#ff7f0e\",\"#ff7f0e\",\"#ff7f0e\",\"#ff7f0e\",\"#ff7f0e\",\"#ff7f0e\",\"#ff7f0e\",\"#ff7f0e\",\"#ff7f0e\",\"#ff7f0e\",\"#ff7f0e\",\"#ff7f0e\",\"#ff7f0e\",\"#ff7f0e\",\"#d62728\",\"#ff7f0e\",\"#2ca02c\",\"#2ca02c\",\"#ff7f0e\",\"#ff7f0e\",\"#ff7f0e\",\"#ff7f0e\",\"#d62728\",\"#2ca02c\",\"#2ca02c\",\"#ff7f0e\",\"#ff7f0e\",\"#ff7f0e\",\"#ff7f0e\",\"#ff7f0e\",\"#d62728\",\"#1f77b4\",\"#d62728\",\"#ff7f0e\",\"#ff7f0e\",\"#ff7f0e\",\"#ff7f0e\",\"#ff7f0e\",\"#ff7f0e\",\"#ff7f0e\",\"#ff7f0e\",\"#d62728\",\"#d62728\",\"#d62728\",\"#ff7f0e\",\"#d62728\",\"#2ca02c\",\"#ff7f0e\",\"#2ca02c\",\"#ff7f0e\",\"#ff7f0e\",\"#2ca02c\",\"#ff7f0e\",\"#ff7f0e\",\"#ff7f0e\",\"#ff7f0e\",\"#ff7f0e\",\"#ff7f0e\",\"#ff7f0e\",\"#ff7f0e\",\"#ff7f0e\",\"#ff7f0e\",\"#9467bd\",\"#1f77b4\",\"#ff7f0e\",\"#2ca02c\",\"#2ca02c\",\"#d62728\",\"#2ca02c\",\"#2ca02c\",\"#d62728\",\"#2ca02c\",\"#2ca02c\",\"#2ca02c\",\"#1f77b4\",\"#2ca02c\",\"#1f77b4\",\"#d62728\",\"#1f77b4\",\"#9467bd\",\"#1f77b4\",\"#d62728\",\"#1f77b4\",\"#2ca02c\",\"#2ca02c\",\"#ff7f0e\",\"#d62728\",\"#2ca02c\",\"#2ca02c\",\"#2ca02c\",\"#2ca02c\",\"#ff7f0e\",\"#ff7f0e\",\"#1f77b4\",\"#1f77b4\",\"#1f77b4\",\"#1f77b4\",\"#1f77b4\",\"#1f77b4\",\"#1f77b4\",\"#1f77b4\",\"#2ca02c\",\"#9467bd\",\"#2ca02c\",\"#2ca02c\",\"#2ca02c\",\"#ff7f0e\",\"#d62728\",\"#d62728\",\"#d62728\",\"#ff7f0e\",\"#d62728\",\"#2ca02c\",\"#2ca02c\",\"#2ca02c\",\"#ff7f0e\",\"#2ca02c\",\"#2ca02c\",\"#ff7f0e\",\"#ff7f0e\",\"#ff7f0e\",\"#2ca02c\",\"#ff7f0e\",\"#ff7f0e\",\"#1f77b4\",\"#1f77b4\",\"#2ca02c\",\"#ff7f0e\",\"#ff7f0e\",\"#1f77b4\",\"#1f77b4\",\"#1f77b4\",\"#2ca02c\",\"#1f77b4\",\"#1f77b4\",\"#ff7f0e\",\"#1f77b4\",\"#1f77b4\",\"#1f77b4\",\"#1f77b4\",\"#1f77b4\",\"#1f77b4\",\"#ff7f0e\",\"#2ca02c\",\"#2ca02c\",\"#2ca02c\",\"#2ca02c\",\"#ff7f0e\",\"#ff7f0e\",\"#2ca02c\",\"#ff7f0e\",\"#ff7f0e\",\"#9467bd\",\"#9467bd\",\"#d62728\",\"#ff7f0e\",\"#1f77b4\",\"#1f77b4\",\"#ff7f0e\",\"#ff7f0e\",\"#2ca02c\",\"#2ca02c\",\"#2ca02c\",\"#2ca02c\",\"#ff7f0e\",\"#2ca02c\",\"#d62728\",\"#2ca02c\",\"#ff7f0e\",\"#d62728\",\"#2ca02c\",\"#2ca02c\",\"#ff7f0e\",\"#2ca02c\",\"#2ca02c\",\"#2ca02c\",\"#ff7f0e\",\"#2ca02c\",\"#2ca02c\",\"#2ca02c\",\"#ff7f0e\",\"#9467bd\",\"#2ca02c\",\"#d62728\",\"#1f77b4\",\"#1f77b4\",\"#1f77b4\",\"#1f77b4\",\"#1f77b4\",\"#1f77b4\",\"#1f77b4\",\"#ff7f0e\",\"#9467bd\",\"#ff7f0e\",\"#ff7f0e\",\"#ff7f0e\",\"#ff7f0e\",\"#ff7f0e\",\"#ff7f0e\",\"#1f77b4\",\"#ff7f0e\",\"#1f77b4\",\"#ff7f0e\",\"#ff7f0e\",\"#2ca02c\",\"#d62728\",\"#d62728\",\"#d62728\",\"#2ca02c\",\"#d62728\",\"#2ca02c\",\"#9467bd\",\"#9467bd\",\"#ff7f0e\",\"#d62728\",\"#1f77b4\",\"#9467bd\",\"#9467bd\",\"#2ca02c\",\"#2ca02c\",\"#ff7f0e\",\"#d62728\",\"#2ca02c\",\"#d62728\",\"#d62728\",\"#1f77b4\",\"#9467bd\",\"#9467bd\",\"#ff7f0e\",\"#9467bd\",\"#1f77b4\",\"#1f77b4\",\"#1f77b4\",\"#1f77b4\",\"#1f77b4\",\"#1f77b4\",\"#1f77b4\",\"#2ca02c\",\"#2ca02c\",\"#1f77b4\",\"#d62728\",\"#1f77b4\",\"#1f77b4\",\"#ff7f0e\",\"#ff7f0e\",\"#ff7f0e\",\"#ff7f0e\",\"#ff7f0e\",\"#ff7f0e\",\"#ff7f0e\",\"#ff7f0e\",\"#ff7f0e\",\"#ff7f0e\",\"#ff7f0e\",\"#ff7f0e\",\"#9467bd\",\"#ff7f0e\",\"#1f77b4\",\"#1f77b4\",\"#d62728\",\"#ff7f0e\",\"#2ca02c\",\"#2ca02c\",\"#d62728\",\"#d62728\",\"#d62728\",\"#d62728\",\"#d62728\",\"#d62728\",\"#d62728\",\"#d62728\",\"#d62728\",\"#d62728\",\"#d62728\",\"#d62728\",\"#ff7f0e\",\"#2ca02c\",\"#1f77b4\",\"#ff7f0e\",\"#9467bd\",\"#ff7f0e\",\"#ff7f0e\",\"#2ca02c\",\"#2ca02c\",\"#2ca02c\",\"#2ca02c\",\"#1f77b4\",\"#2ca02c\",\"#2ca02c\",\"#1f77b4\",\"#2ca02c\",\"#2ca02c\",\"#d62728\",\"#d62728\",\"#9467bd\",\"#1f77b4\",\"#2ca02c\",\"#1f77b4\",\"#1f77b4\",\"#ff7f0e\",\"#1f77b4\",\"#1f77b4\",\"#1f77b4\",\"#1f77b4\",\"#1f77b4\",\"#1f77b4\",\"#ff7f0e\",\"#ff7f0e\",\"#d62728\",\"#d62728\",\"#9467bd\",\"#1f77b4\",\"#9467bd\",\"#d62728\",\"#1f77b4\",\"#1f77b4\",\"#d62728\",\"#9467bd\",\"#1f77b4\",\"#ff7f0e\",\"#ff7f0e\",\"#9467bd\",\"#9467bd\",\"#ff7f0e\",\"#ff7f0e\",\"#d62728\",\"#ff7f0e\",\"#d62728\",\"#ff7f0e\",\"#ff7f0e\",\"#d62728\",\"#9467bd\",\"#2ca02c\",\"#ff7f0e\",\"#ff7f0e\",\"#1f77b4\",\"#1f77b4\",\"#9467bd\",\"#2ca02c\",\"#2ca02c\",\"#2ca02c\",\"#2ca02c\",\"#2ca02c\",\"#2ca02c\",\"#d62728\",\"#2ca02c\",\"#1f77b4\",\"#2ca02c\",\"#1f77b4\",\"#1f77b4\",\"#1f77b4\",\"#1f77b4\",\"#1f77b4\",\"#1f77b4\",\"#2ca02c\",\"#2ca02c\",\"#2ca02c\",\"#d62728\",\"#9467bd\",\"#9467bd\",\"#9467bd\",\"#9467bd\",\"#9467bd\",\"#2ca02c\",\"#2ca02c\",\"#9467bd\",\"#9467bd\",\"#9467bd\",\"#2ca02c\",\"#ff7f0e\",\"#2ca02c\",\"#9467bd\",\"#1f77b4\",\"#9467bd\",\"#9467bd\",\"#9467bd\",\"#d62728\",\"#9467bd\",\"#9467bd\",\"#9467bd\",\"#9467bd\",\"#9467bd\",\"#2ca02c\",\"#9467bd\",\"#9467bd\",\"#9467bd\",\"#1f77b4\",\"#1f77b4\",\"#9467bd\",\"#1f77b4\",\"#9467bd\",\"#9467bd\",\"#9467bd\",\"#ff7f0e\",\"#ff7f0e\",\"#2ca02c\",\"#9467bd\",\"#9467bd\",\"#9467bd\",\"#9467bd\",\"#2ca02c\",\"#2ca02c\",\"#2ca02c\",\"#9467bd\",\"#d62728\",\"#ff7f0e\",\"#2ca02c\",\"#d62728\",\"#d62728\",\"#9467bd\",\"#2ca02c\",\"#2ca02c\",\"#1f77b4\",\"#1f77b4\",\"#9467bd\",\"#1f77b4\",\"#9467bd\",\"#9467bd\",\"#9467bd\",\"#1f77b4\",\"#ff7f0e\",\"#9467bd\",\"#9467bd\",\"#9467bd\",\"#9467bd\",\"#9467bd\",\"#9467bd\",\"#9467bd\",\"#2ca02c\",\"#ff7f0e\",\"#1f77b4\",\"#9467bd\",\"#9467bd\",\"#9467bd\",\"#1f77b4\",\"#2ca02c\",\"#ff7f0e\",\"#ff7f0e\",\"#d62728\",\"#1f77b4\",\"#1f77b4\",\"#1f77b4\",\"#1f77b4\",\"#1f77b4\",\"#1f77b4\",\"#1f77b4\",\"#1f77b4\",\"#9467bd\",\"#9467bd\",\"#9467bd\",\"#9467bd\",\"#9467bd\",\"#1f77b4\",\"#2ca02c\",\"#2ca02c\",\"#2ca02c\",\"#2ca02c\",\"#9467bd\",\"#2ca02c\",\"#2ca02c\",\"#2ca02c\",\"#d62728\",\"#2ca02c\",\"#d62728\",\"#d62728\",\"#ff7f0e\",\"#1f77b4\",\"#1f77b4\",\"#1f77b4\",\"#1f77b4\",\"#1f77b4\",\"#1f77b4\",\"#1f77b4\",\"#2ca02c\",\"#2ca02c\",\"#2ca02c\",\"#2ca02c\",\"#d62728\",\"#d62728\",\"#d62728\",\"#d62728\",\"#d62728\",\"#2ca02c\",\"#2ca02c\",\"#2ca02c\",\"#1f77b4\",\"#1f77b4\",\"#d62728\",\"#9467bd\",\"#1f77b4\",\"#d62728\",\"#ff7f0e\",\"#2ca02c\",\"#1f77b4\",\"#1f77b4\",\"#d62728\",\"#d62728\",\"#9467bd\",\"#1f77b4\",\"#d62728\",\"#d62728\",\"#9467bd\",\"#d62728\",\"#1f77b4\",\"#ff7f0e\",\"#ff7f0e\",\"#ff7f0e\",\"#d62728\",\"#9467bd\",\"#1f77b4\",\"#1f77b4\",\"#9467bd\",\"#d62728\",\"#d62728\",\"#d62728\",\"#2ca02c\",\"#d62728\",\"#2ca02c\",\"#2ca02c\",\"#1f77b4\",\"#1f77b4\",\"#1f77b4\",\"#9467bd\",\"#2ca02c\",\"#2ca02c\",\"#ff7f0e\",\"#1f77b4\",\"#ff7f0e\",\"#2ca02c\",\"#1f77b4\",\"#1f77b4\",\"#d62728\",\"#2ca02c\",\"#2ca02c\",\"#d62728\",\"#9467bd\",\"#d62728\",\"#d62728\",\"#d62728\",\"#9467bd\",\"#d62728\",\"#1f77b4\",\"#ff7f0e\",\"#d62728\",\"#2ca02c\",\"#1f77b4\",\"#1f77b4\",\"#1f77b4\",\"#9467bd\",\"#d62728\",\"#d62728\",\"#d62728\",\"#1f77b4\",\"#2ca02c\",\"#1f77b4\",\"#1f77b4\",\"#1f77b4\",\"#1f77b4\",\"#1f77b4\",\"#d62728\",\"#1f77b4\",\"#1f77b4\",\"#1f77b4\",\"#1f77b4\",\"#1f77b4\",\"#1f77b4\",\"#1f77b4\",\"#1f77b4\",\"#1f77b4\",\"#1f77b4\",\"#1f77b4\",\"#1f77b4\",\"#1f77b4\",\"#1f77b4\",\"#1f77b4\",\"#1f77b4\",\"#1f77b4\",\"#1f77b4\",\"#1f77b4\",\"#2ca02c\",\"#1f77b4\",\"#1f77b4\",\"#2ca02c\",\"#1f77b4\",\"#1f77b4\",\"#2ca02c\",\"#2ca02c\",\"#ff7f0e\",\"#1f77b4\",\"#2ca02c\",\"#2ca02c\",\"#2ca02c\",\"#2ca02c\",\"#2ca02c\",\"#2ca02c\",\"#2ca02c\",\"#2ca02c\",\"#2ca02c\",\"#2ca02c\",\"#2ca02c\",\"#2ca02c\",\"#2ca02c\",\"#1f77b4\",\"#2ca02c\",\"#2ca02c\",\"#2ca02c\",\"#1f77b4\",\"#2ca02c\",\"#1f77b4\",\"#ff7f0e\",\"#1f77b4\",\"#1f77b4\",\"#2ca02c\",\"#1f77b4\",\"#1f77b4\",\"#1f77b4\",\"#1f77b4\",\"#2ca02c\",\"#1f77b4\",\"#2ca02c\",\"#1f77b4\",\"#1f77b4\",\"#1f77b4\",\"#2ca02c\",\"#1f77b4\",\"#1f77b4\",\"#1f77b4\",\"#1f77b4\",\"#1f77b4\",\"#9467bd\",\"#2ca02c\",\"#2ca02c\",\"#1f77b4\",\"#2ca02c\",\"#2ca02c\",\"#2ca02c\",\"#1f77b4\",\"#2ca02c\",\"#1f77b4\",\"#9467bd\",\"#9467bd\",\"#9467bd\",\"#1f77b4\",\"#ff7f0e\",\"#1f77b4\",\"#1f77b4\",\"#1f77b4\",\"#1f77b4\",\"#1f77b4\",\"#ff7f0e\",\"#ff7f0e\",\"#ff7f0e\",\"#ff7f0e\",\"#9467bd\",\"#ff7f0e\",\"#ff7f0e\",\"#ff7f0e\",\"#ff7f0e\",\"#ff7f0e\",\"#9467bd\",\"#ff7f0e\",\"#9467bd\",\"#1f77b4\",\"#ff7f0e\",\"#ff7f0e\",\"#9467bd\",\"#1f77b4\",\"#1f77b4\",\"#ff7f0e\",\"#ff7f0e\",\"#d62728\",\"#1f77b4\",\"#1f77b4\",\"#1f77b4\",\"#ff7f0e\",\"#ff7f0e\",\"#ff7f0e\",\"#1f77b4\",\"#ff7f0e\",\"#ff7f0e\",\"#ff7f0e\",\"#9467bd\",\"#1f77b4\",\"#ff7f0e\",\"#ff7f0e\",\"#9467bd\",\"#ff7f0e\",\"#9467bd\",\"#9467bd\",\"#1f77b4\",\"#ff7f0e\",\"#ff7f0e\",\"#9467bd\",\"#9467bd\",\"#9467bd\",\"#1f77b4\",\"#ff7f0e\",\"#9467bd\",\"#1f77b4\",\"#1f77b4\",\"#1f77b4\",\"#1f77b4\",\"#ff7f0e\",\"#ff7f0e\",\"#ff7f0e\",\"#ff7f0e\",\"#ff7f0e\",\"#ff7f0e\",\"#ff7f0e\",\"#ff7f0e\",\"#2ca02c\",\"#ff7f0e\",\"#ff7f0e\",\"#1f77b4\",\"#ff7f0e\",\"#ff7f0e\",\"#ff7f0e\",\"#ff7f0e\",\"#ff7f0e\",\"#ff7f0e\",\"#ff7f0e\",\"#ff7f0e\",\"#ff7f0e\",\"#ff7f0e\",\"#d62728\",\"#ff7f0e\",\"#ff7f0e\",\"#ff7f0e\",\"#ff7f0e\",\"#ff7f0e\",\"#ff7f0e\",\"#1f77b4\",\"#1f77b4\",\"#ff7f0e\",\"#ff7f0e\",\"#ff7f0e\",\"#ff7f0e\",\"#9467bd\",\"#1f77b4\",\"#1f77b4\",\"#1f77b4\",\"#1f77b4\",\"#ff7f0e\",\"#ff7f0e\",\"#ff7f0e\",\"#ff7f0e\",\"#ff7f0e\",\"#ff7f0e\",\"#ff7f0e\",\"#ff7f0e\",\"#d62728\",\"#2ca02c\",\"#1f77b4\",\"#1f77b4\",\"#1f77b4\",\"#1f77b4\",\"#2ca02c\",\"#1f77b4\",\"#1f77b4\",\"#1f77b4\",\"#1f77b4\",\"#1f77b4\",\"#ff7f0e\",\"#1f77b4\",\"#1f77b4\",\"#2ca02c\",\"#2ca02c\",\"#2ca02c\",\"#1f77b4\",\"#1f77b4\",\"#1f77b4\",\"#1f77b4\",\"#1f77b4\",\"#2ca02c\",\"#1f77b4\",\"#1f77b4\",\"#1f77b4\",\"#1f77b4\",\"#1f77b4\",\"#2ca02c\",\"#2ca02c\",\"#1f77b4\",\"#1f77b4\",\"#d62728\",\"#1f77b4\",\"#1f77b4\",\"#1f77b4\",\"#1f77b4\",\"#2ca02c\",\"#1f77b4\",\"#1f77b4\",\"#1f77b4\",\"#1f77b4\",\"#2ca02c\",\"#2ca02c\",\"#2ca02c\",\"#2ca02c\",\"#2ca02c\",\"#2ca02c\",\"#2ca02c\",\"#2ca02c\",\"#2ca02c\",\"#2ca02c\",\"#ff7f0e\",\"#1f77b4\",\"#2ca02c\",\"#1f77b4\",\"#ff7f0e\",\"#d62728\",\"#d62728\",\"#9467bd\",\"#ff7f0e\",\"#1f77b4\",\"#9467bd\",\"#d62728\",\"#1f77b4\",\"#d62728\",\"#1f77b4\",\"#ff7f0e\",\"#ff7f0e\",\"#ff7f0e\",\"#ff7f0e\",\"#ff7f0e\",\"#ff7f0e\",\"#ff7f0e\",\"#ff7f0e\",\"#d62728\",\"#ff7f0e\",\"#ff7f0e\",\"#d62728\",\"#9467bd\",\"#ff7f0e\",\"#ff7f0e\",\"#ff7f0e\",\"#d62728\",\"#ff7f0e\",\"#d62728\",\"#d62728\",\"#ff7f0e\",\"#1f77b4\",\"#1f77b4\",\"#9467bd\",\"#2ca02c\",\"#ff7f0e\",\"#1f77b4\",\"#1f77b4\",\"#9467bd\",\"#2ca02c\",\"#2ca02c\",\"#d62728\",\"#2ca02c\",\"#2ca02c\",\"#2ca02c\",\"#1f77b4\",\"#1f77b4\",\"#2ca02c\",\"#2ca02c\",\"#d62728\",\"#9467bd\",\"#9467bd\",\"#9467bd\",\"#9467bd\",\"#9467bd\",\"#1f77b4\",\"#1f77b4\",\"#1f77b4\",\"#1f77b4\",\"#9467bd\",\"#1f77b4\",\"#1f77b4\",\"#1f77b4\",\"#1f77b4\",\"#1f77b4\",\"#9467bd\",\"#1f77b4\",\"#9467bd\",\"#9467bd\",\"#9467bd\",\"#9467bd\",\"#ff7f0e\",\"#2ca02c\",\"#2ca02c\",\"#2ca02c\",\"#9467bd\",\"#9467bd\",\"#9467bd\",\"#2ca02c\",\"#ff7f0e\",\"#2ca02c\",\"#9467bd\",\"#1f77b4\",\"#9467bd\",\"#9467bd\",\"#9467bd\",\"#d62728\",\"#9467bd\",\"#9467bd\",\"#9467bd\",\"#9467bd\",\"#9467bd\",\"#2ca02c\",\"#9467bd\",\"#9467bd\",\"#9467bd\",\"#1f77b4\",\"#1f77b4\",\"#9467bd\",\"#1f77b4\",\"#9467bd\",\"#9467bd\",\"#9467bd\",\"#ff7f0e\",\"#ff7f0e\",\"#2ca02c\",\"#9467bd\",\"#ff7f0e\",\"#ff7f0e\",\"#9467bd\",\"#9467bd\",\"#9467bd\",\"#9467bd\",\"#2ca02c\",\"#2ca02c\",\"#2ca02c\",\"#9467bd\",\"#d62728\",\"#ff7f0e\",\"#2ca02c\",\"#d62728\",\"#d62728\",\"#9467bd\",\"#2ca02c\",\"#2ca02c\",\"#1f77b4\",\"#1f77b4\",\"#9467bd\",\"#1f77b4\",\"#9467bd\",\"#9467bd\",\"#9467bd\",\"#1f77b4\",\"#ff7f0e\",\"#ff7f0e\",\"#9467bd\",\"#9467bd\",\"#9467bd\",\"#9467bd\",\"#9467bd\",\"#9467bd\",\"#9467bd\",\"#2ca02c\",\"#ff7f0e\",\"#1f77b4\",\"#9467bd\",\"#9467bd\",\"#9467bd\",\"#1f77b4\",\"#2ca02c\",\"#ff7f0e\",\"#ff7f0e\",\"#d62728\",\"#1f77b4\",\"#1f77b4\",\"#1f77b4\",\"#1f77b4\",\"#1f77b4\",\"#1f77b4\",\"#1f77b4\",\"#1f77b4\",\"#9467bd\",\"#9467bd\",\"#9467bd\",\"#9467bd\",\"#9467bd\",\"#1f77b4\",\"#2ca02c\",\"#2ca02c\",\"#2ca02c\",\"#2ca02c\",\"#9467bd\",\"#2ca02c\",\"#2ca02c\",\"#2ca02c\"],\"x\":{\"__ndarray__\":\"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\",\"dtype\":\"float32\",\"order\":\"little\",\"shape\":[2805]},\"y\":{\"__ndarray__\":\"fsOqQC9nh8Gvs9XB+G9AQHRWrUAYnadBrtDoQEGNl0Ikn6NBps8qwvaHL0KwG6BB9ocvQvaHL0IkkD1BR6ALwUegC8FHoAvBR6ALwXRWrUB0Vq1AdFatQN3Dt8Cb98pAM0IzQDXTtMEdg0DChxHgwV9M1sGb98pAm/fKQFwu+cDiLaBBbBodwmPqIMIqiXPBki+GwZ224cAL/EPCAhRcwomw2sGMA7a9r0u8wTKkKkAS8+FAEvPhQIMi5UAS8+FABKb9QASm/UBTOv9AgyLlQIMi5UAEpv1ApKQ7wYMi5UA/3gTBP94EwT/eBMHynXjBP94EwSEKCUFtFQhCcrJgvZM8yMCTPMjA3cO3wMYWWMHGFljBO6WJwU9pi8GWS3vAekSvP5qaJsHzZyJAkYoswiPjgUDLPMNBFSu4wa+z1cGvs9XBLUvIwYBjHMEYnadBBZKDQPhvQECRiizCGJ2nQRCEyMFQHuJAAn2GP+2MoUFHoAvBVwrGQMs8w0EYnadBiPgFwFnfbcK09wXAjAO2vTZD4EDYHvLBhGDsQIvF4sEhsx7CkcggwYAdQMIKcMdBCnDHQQpwx0GwM6ZBTCcNQSEKCUHLPMNBF/cvQcs8w0EhCglBm/fKQOcMqEEhP59AEnPCQGq4rUB+iw3BaritQCd5vEASArlApqalQEea9UCMA7a97YyhQQowz8H9DiTCWhA9wgHkyMEJQwJCVwrGQIwDtr2zau/A/jMtQHsMSUCtaYXBg0qlQgpdAkJ4exBCuvehQmer6UEB5MjBuI7lvxe9asEmxPvBTUtKQhtSSUIyuBhCwd6dQSRHMUGG7B5CPWiHQWQ/pUIBQdBAW8ugQYwDtr1Kmc4/BhODQd6yikH3A0ZCLw0sQJsDAcD2U6hC9YQxwTBdokG5W94//ND0QVcKxkAmSZ7CyDVEQWpQP0KsdylB380/QqBNHkIKMM/BPMyFQaNvJ8Kzr3hBYPt1QT1/C0Bx3BFC8aPzQQ2rTMAB5MjBhdGTQJeE+0HWTi7CMP0Jwr8eC8HNorhAvir8Qd40kMH14hTC/TMNwvcLOMINHC7Cj74BwvXiFMIfWwRCgrtaQYs2BcK80QPCH/khweGMJ8Fi9kHCJkmewu4eEMIzWRfCebcoQj46gkFsN0fBJCBKQL7lFMI/dRfC298HQugpVEKbPnTASjEZwv4mqkHIIZ5BQkCmQgttCEJXCsZAIQoJQYwDtr0lzzDCd1POwSEFRMKVcZnB2jv5wQI+tUAmSZ7CUo8gwt4oUMIg05pBZsSCQC8NLEDpzMdAfq1pQTaAX0GdszpCk4bRQCliyEGvs9XB/CY0wfe2nkAB5MjBlHcTQiZJnsIB5MjBAeTIwQHkyMEmSZ7CsiglQrIoJULNorhA7eQ2wr8bBcImSZ7CFkzBwWFyHUGmaVFCSbUhQQpQR0KKwztCPqEIQp5AFUJAzg9CMqQqQDKkKkDCk/vBv9ERwmD7BEImSZ7CtFwgwSZJnsKVcZnBtLgHQi8NLEAFkoNABZKDQO4eEMLvMK3BbZvAwDQD/cHDFWrBIv+DQVeLyT/GBBJClIPuQT50IsJVYabAj9crwiZJnsImSZ7CHNArwt5XvUGWel3C/fZUwhsx87/DQAFC7h4QwmD7BEJg+wRCBZKDQBq5xMGA6blBxtb7wETv7j/RV5E/PPpBwWqqD8GMA7a9VwrGQIOKNEAHKFdBurIpQc9HPkG2j7BBjC2SQWLaicG9pntBvjRNQW7dOUKyFdpAbfHDQbGdz0EqCv1BMv/3wbdkiMD50AVCVVtCwpMQPEJE+QdC21/oQKOFnUIB5MjBhnuOwUk6YsFpWco/fyTyQWLaDkL2NrdBJkmewiZJnsJr+bbBjAO2vVTWksFXCsZAJkIGQn3Jn0JHy5ZBJkIGQuvaL8K+593B10lCwr7n3cEmSZ7Cq5sUQglDAkLjepDAstabQbNq78Bnq+lBtrsewXu+q8FUWFjARkSSQcQT5kAYGA9COXOWQV+gwkDPcrtBys4cQpXYvUE7KB9AayL8QZR3E0LRV1jAfsOqQK+z1cGMA7a9jAO2vR1mykH+My1ABZKDQK+z1cEOYhxBuxkrwfWEMcEwXaJBT72IQLu9GkBEL07BxGhUwfzQ9EF8tR/CK5U9QXZtnkGXNURBUJB7QTDXLEIw1yxCalA/QuYHyEGRPy9BrHcpQTaSPELZ9ahC380/QqBNHkLYdyNCCjDPweYrw8E5DrjAo28nwrOveEG08S1BIqeIQGD7dUGDbx7CkOyYwFdsT8GpNx7C4HX1P3OtjD9qYFXB5nZgwZ2dasFx3BFCN4vsQfGj80ForZzACR4qwiv458Hk7b7B+0Y1woXRk0CXhPtB1k4uwn4EQ8A+/QnCMP0JwoK7L8KVhfTBRsQvwpBTFMKVdppACGyXwf6uM0HrdxjBkFMUwr8eC8HNorhAbVYLwawWC8Gy4vxBkFMUwpBTFMJ3fZHB3jSQwQZsl8EDLC3CwzmUwRA0DcIyJzjCDq8wwpBTFML14hTC/TMNwg8pOMINHC7C9eIUwo++AcL14hTCkFMUwk4HLcKQUxTCdQYsvR9bBEKCu1pB9eIUwn2IYcLW6CPC00x4wYs2BcKLNgXCVWApwbzRA8If+SHBYvZBwjNCM0CLNgXCM0IzQH/jRMB1HMNAq5sUQi8NLEAcVPLABZKDQCXPMMIhBUTCwzmUwSZJnsLeKFDC/FkiwgqoLsL7XBvC+1wbwgWSg0AFkoNA+G9AQPhvQED4b0BA+G9AQISjj0CEo49A50w/wsQvE0J8tR/CJkmewqk3HsKxs3LBajnEQOKghMHXzDLCzP99wbu+NsGrt2DCEp9awjjc8sGdoIjB7eQ2wr8bBcImSZ7ChnuOwa+z1cGMA7a9jAO2vSZJnsItS8jBVC0Twhf4DUGMA7a9IQoJQRUruMEypCpA/L84QQnnPj6LyGFBLw0sQC8NLEAvDSxALw0sQC8NLECGe47BONzywcFGWcJHQV7C/fZUwmpkRsLuHhDCEp9awhCEyMEGsyrCq5sUQrD0A0IEDJTB9fDdwQWSg0AFkoNAt2SIwPnQBUJ5lkTB/A9BwrkuBMK1uR7CuS4Ewi3FHsG5LgTChnuOwWo5xEASn1rCONzywRmkKsISn1rCWez1weTtvsH18N3BJkmewhKfWsLr2i/C10lCwqubFEKYUq3BzP99wTrwtUE68LVBuUk6QTrwtUHKzhxCe8meQVS9l0GQUxTCJ/6fQQtAiUDaNTTBOygfQIhGNMGEMzTBayL8QdCQu0GGe47BjAO2vRCEyMEQhMjBlf4ewl3FicEbMfO/R6ALwWvyHsJpqGrBki+GwZAfv0ECVsxBvuUUwp2GJ8FXCsZAgXnOQdtkxEH9DiTClf4ewpBPNMJdxYnBWhA9whsx878bMfO/VwrGQLr3oUIrtUlC1mgNQjK4GEKjT5pB9wNGQowDtr2FOnhAprAxQIU6eECmsDFAuloawmvyHsLZK+nAoweDQaMHg0F+k9xAIQoJQRvZjMG+5RTC27JDwUBYSsF+1yRAJCBKQD91F8Lw/ELBnbZIwdvfB0LUIHBB6ClUQgInqkFShz9BnYYnwZOYi0DCk/vBbhtFwhLz4UAS8+FABGDzP+Deyz/0yvrA9Mr6wODeyz/0yvrA9Mr6wARg8z9L/hHBS/4RwVpfMsImSZ7CTxIgQp2giMGrmxRCCjDPwQc/mcAwbx3CwHf+wW4bRcLA0RHCcMJCwTBvHcImSZ7CjAO2veOr/8GWel3CGzHzvxsx87+Bec5BHwASwcB3/sEzQjNAZ6vpQZ2giMF2yrxBHH7BQXbKvEFGRJJBGBgPQsrOHEItS8jBmUmFweddy78XvWrBG1JJQlFCnUGG7B5Cc82KQQWSg0AFkoNADweDwTXJDEKdtuHArvTAPw8iFsJ5tyhCebcoQj46gkG+5RTCmz50wEoxGcIK69dA7zCtweREjsG5Ti9ClfO4wVTWksGOU4jBxBPmQF+gwkDPcrtBkvbxwZL28cGS9vHBYf3MQGwaHcJj6iDCKolzwQv8Q8KMA7a9kvbxwYwDtr2MA7a9jAO2vYwDtr2MA7a9VwrGQIAdQMK4GufBuBrnwX6LDcEmQgZC9lOoQvDBn0Ld2kdCyvgWQphSrcFqjeDB8MGfQvDBn0ILbQhCd1POwZVxmcGZUEXCINOaQTKkKkApYshBMFZDQtFyDkJ/40TAKHFPQtixpkHLSj5CsiglQrIoJUKrt2DCtLgHQmoiQELrQARCPqEIQp5AFUJYHDlCMu0zwUDOD0KQH79B8MGfQq+z1cGVcZnBc7emwfDBn0Jpn5hCKwQ/QnghB0Jzt6bBJFFbwsq7LMLXaQJC0VeRP9BpbcAVrxjCZEy9Pw0gp0Hx5shBudErwm4yJMLPRz5BjC2SQb/fKkH2uplBKmvIQWFoRkLf1RNCIQoJQUT5B0KjhZ1CZihAQujBBkLYTDpCsh0dQTqsKUJx00dCa/m2wVTWksFmxIJAJkIGQrS4B0IZ/Z5CR8uWQZhSrcGvs9XBwAJ2wLLWm0Gzau/APGvnQcQT5kAYGA9C/8qRQblJOkFfoMJAys4cQpXYvUGBTDlCOa8CQlJPmEIVgARCZ6vpQRUruMEVK7jBiRwfwV9mYcLNCSpBc7emwXO3psFzt6bB4LOKwYkzLcIP1ndBynGfQfcfAkLEoCtBz2RFQmOSsEFZqERCI+OBQM30R0LTkLBBFnNCQpIvhsHA+IrBki+GwWvyHsLTNoPBaahqwU+qdcHTNoPBHXh9weVjJcJexgvCjv6KwV+4MsCdtuHASR/wP7+uw0GMA7a9xfrjQF9M1sE1bd/Bdsq8QfJWRcHFP4vBHuZ3QQJWzEGMA7a9ypUQQPgoUMBNxu5AnYYnwVcKxkB8TPTBcrJgvVppi8G1wJpBikgvQVcKxkBPEiBCug+YQrM1dsFr0BXBlkd6wQSOVsKv0iDBMG8dwkg3NMFmxIJAzfRHQhZzQkK/rsNBbqO/wVYWPcJR3kDCLw0sQNjskcFHQV7CzfRHQosdQ0Ks+kHBgK4YwrhiL8IdeH3BgXnOQfE8Z0HckYtBV1C2PySfo0Hw6YZBHwASwV7FLsK0o55ADoeFwaV5K8H9S2XA7EtlwAlHyEFYiHPBEnPCQEonI8Hx6wNCIBVIwkRPAEIQ/f5BpuSgQabkoEGm5KBBM32dQXSL+0HCgvhBhTp4QKawMUCyPvtBsj77QSVnAUIcwphBG8KYQUFVdEBBVXRAJWcBQkFVdEBBVXRAsj77QbI++0ElZwFCnFLCQCtmtEBZu9tAjAO2vWUG0EEgFUjCPGvnQXbKvEHBEk3CXbNGwhCEyMGMA7a9Y5FKwvk158H5NefB+TXnwedMP8L5NefB+TXnwSg97cEoPe3Bul1Owig97cFMIPfBfLUfwkFVdEDBEk3CY5FKwrpdTsLCvhLB8LtKwnJ9l0Gvs9XBnFLCQCtmtEAgFUjCjAO2vWer6UF2yrxBK2a0QGORSsKMA7a9ZGNLwowDtr2MA7a9jAO2vT0Y7cGMA7a9wr4SwWyRsEE8a+dBdsq8QephzkFmc07C+TXnwYwDtr0gFUjCIBVIwiAVSMKMA7a9IBVIwrNq78BNS0pCMrgYQnaXC0I1wJhBJEcxQQFB0EBby6BByLfHQfcDRkIAYsZAs694QXOtjD/xo/NB7h4QwvWSEkKVcZnBVeT4wZ2giMF+rWlBNoBfQZ2zOkKdoIjBpmlRQnaYKkFJtSFBVLkhQYrDO0I+oQhCnUAVQpkBj8HG1vvA0VeRP7pcxED8GZlBByhXQapV4D/IcARAurIpQc9HPkG9pntBvjRNQZgCgEFu3TlCKv+UQbZkiMD50AVCbPY6QkT5B0ImQgZCtLgHQrNq78CLQyTCewxJQCu1SUIyuBhCdpcLQjXAmEGxSDFBZD+lQoaG1kBby6BByLfHQfcDRkKXNURBs694QUMDBEDxo/NBlXGZwVXk+MEMpB/C7h4QwuAKXMImJjTB97aeQIwDtr23GgXCEITIwW2bwMA6A/3Bsd7lwL/tIcLAvP/A5o4CwVeLyT8JWe5BmV6LwNjskcG9ZSHCJ4opwlxHVUDY7JHBjdErwlcKxkBXCsZAbqRfwWlZyj+NYl/BfyTyQddpAkJ/E+5ABTc5QdQT7kCTNzlBjf8qwmCVisGAxjLCgMYywoDGMsJglYrBYJWKwWCVisHKlRBA4dMUwmer6UE8a+dBdsq8QVcKxkD+aRHCPGvnQe/CRUDvwkVALw0sQITE20Eb2YzBZ6vpQYSjj0BxX8HBvAECwuHTFMLZeiFBI+OBQCPjgUAj44FAMwSeQe1f1EBXCsZAZ6vpQRx+wUErZrRAjAO2veHTFMLh0xTCjAO2vbJkvkEcROtA3CujQDuOzEDoUJFAzMSWQM7FGcFF0RZB/Ni+QfzYvkGyZL5ByxsRwo3rH8L82hTCoy8qwfzaFMK8AQLC/NoUwssbEcLLGxHC/NoUwq+z1cGEo49A4dMUwmer6UFtBYrBXHePvxe9asEbUklCUUKdQYbsHkJzzYpBjAO2vdPTfMGMA7a9o28nwmD7dUFXbE/BtJACweB19T+DlpA/5nZgwXHcEUJorZzACR4qwjmnLMICPrVAqnpGQrjcZ8EibH5BxgQSQlMlk8BscivCRO/uPzz6QcH/2QNAfoeZQWfKLkG5Ti9ClfO4wVTWksFx0eJAX6DCQM9yu0Gf2h3CY+ogwhicdcH9C43BC/xDwkdBXsIzQjNAgB1Awrga58F+iw3BiDDzQMghnkHIIZ5BuFEIQg6ypEFGRJJBys4cQnvJnkHup5VBldi9QS8NLEAvDSxALw0sQAWSg0Dz471AmLgBQgWSg0D2U6hC8MGfQt3aR0LK+BZCrxWSwZhSrcF9iGHCao3gwfDBn0LwwZ9CZewIQnZTzsGVcZnBmVBFwiDTmkGMA7a9KWLIQTBWQ0LRcg5Cf+NEwChxT0LYsaZBy0o+QrIoJUKyKCVCq7dgwpi4AUJqIkBC60AEQj6hCEKdQBVCWBw5QjLtM8FAzg9CkB+/QfDBn0Kvs9XBlXGZwXO3psHwwZ9CCyIOQjv9BUJpn5hC080/QnghB0Jzt6bBJFFbwsq7LMImQgZC0VeRP9BpbcAVrxjCZEy9Pw0gp0Hx5shBudErwm4yJMLPRz5BjC2SQb/fKkHujpdBKmvIQZT/RULf1RNCZsSCQNBpbcBE+QdCo4WdQmYoQELowQZC2KA5Qhz+HEE6rClCcdNHQmettsFU1pLBGRe1QLS4B0K0uAdCfcmfQkfLlkGYUq3Br7PVwcACdsCy1ptBsrngwGer6UFx0eJAGBgPQjlzlkG5STpBX6DCQMrOHEKV2L1BgUw5QjmvAkJST5hCFYAEQmer6UEVK7jBFSu4wYkcH8FfZmHCzQkqQXO3psFzt6bBc7emwenMx0D9C43BEITIwYSjj0BJlcdA7YyhQa7Q6EBBjZdCJJ+jQabPKsI3gzBCsBugQTeDMEI3gzBCJJA9QUegC8FHoAvBR6ALwUegC8FJlcdASZXHQEmVx0BefsnAm/fKQIwDtr0107TBHYNAwpsO4MGvs9XBm/fKQJv3ykBcLvnA4i2gQZ/aHcJj6iDCGJx1wcL4isGdtuHAC/xDwgIUXMKMA7a9cLDawYwDtr2qS7zBjAO2vQxm4kAMZuJAUzr/QAxm4kAEpv1AUzr/QIMi5UCDIuVAgyLlQFM6/0CkpDvBgyLlQEv+EcERTPzAS/4RwfKdeMFL/hHBjAO2vW0VCEJ6smC9tn7AwLZ+wMDdw7fAxhZYwcYWWME7pYnBWmmLwZZLe8B6RK8/mpomwfNnIkCgWizCVwrGQMs8w0EVK7jBr7PVwa+z1cGvs9XBgGMcwRidp0GMA7a9VFcswhidp0Gvs9XBTCcNQSEKCUEYnadBR6ALwUwnDUHLPMNB7YyhQYj4BcBZ323CtPcFwH7DqkA2Q+BA2B7ywYRg7ECLxeLBIbMewovKGcGAHUDCCnDHQQpwx0EKcMdBsDOmQTKkKkB+w6pAyzzDQeyIMEHLPMNBZsSCQJv3ykDnDKhBEgK5QEtso0AyLLxAfosNwRICuUASArlADj+fQKmmpUDGmfVAM0IzQBidp0EtS8jB/Q4kwloQPcIB5MjBtLgHQhkXtUAZF7VAsrngwP4zLUA6hylAbQWKwYNKpUIKXQJCeHsQQrr3oUJnq+lBAeTIweddy78XvWrBJsT7wSu1SUIbUklCMrgYQlFCnUElRzFBhuweQnPNikFkP6VChobWQFvLoEEFkoNARZnOPwYTg0HesopB9wNGQgWSg0CbAwHA9lOoQvWEMcEwXaJBT7MaQPzQ9EH4b0BAJkmewsg1REFqUD9CrHcpQd/NP0KgTR5C9fDdwaMHg0GjbyfCs694QcHNgUE9fwtAcdwRQvGj80ForZzAAeTIwYPRk0CXhPtB1k4uwjD9CcK/HgvBzaK4QL4q/EHbNJDBkFMUwv0zDcL3CzjCDRwuwo++AcKQUxTC658CQoK7WkGLNgXCvNEDwh/5IcHhjCfBYvZBwiZJnsJYwg/CM1kXwnm3KEI+OoJBn65KwcYoTEC+5RTCP3UXwtvfB0LpKVRCmz50wEoxGcL+JqpBjtOgQUJApkILbQhCjAO2vYwDtr2MA7a9Jc8wwkT/OMIJVM7BIQVEwpVxmcFV5PjBAz61QCZJnsJSjyDC3ihQwp9Vo0GMA7a9jAO2vYwDtr19rWlBNoBfQZ2zOkKThtFAJl/EQRCEyMEnJjTB97aeQAHkyMGUdxNCJkmewgHkyMEB5MjBAeTIwSZJnsImSZ7CsiglQrIoJUKk+7pA7eQ2wr8bBcImSZ7CEITIwWFyHUGnaVFCSbUhQap6RkJUYjtCPqEIQuGTFEJAzg9CjAO2vYwDtr3Ck/vBwNERwmD7BEImSZ7CtFwgwSZJnsKVcZnBCUMCQowDtr2MA7a9VwrGQFjCD8LvMK3BbZvAwDoD/cG43GfB7aV+QVeLyT/GBBJCCVnuQb1lIcJTJZPAj9crwiZJnsImSZ7CjdErwt5XvUGWel3C/fZUwhsx878mQgZCWMIPwmD7BEJg+wRCVwrGQBq5xMGA6blBxtb7wETv7j/RV5E/PPpBwWuqD8FXCsZAVwrGQP/ZA0AHKFdBurIpQc9HPkG3j7BBjC2SQeREjsG9pntBvjRNQW7dOUKyFdpAIOnDQbGdz0G0uAdCwpP7wbZkiMD50AVCVVtCwpMQPEJE+QdC21/oQKOFnUIB5MjBhnuOwW6kX8FpWco/fyTyQWLaDkI68LVBJkmewiZJnsKV87jBI+OBQFTWksEj44FA0uwBQn3Jn0JHy5ZBCUMCQuvaL8JqjeDB10lCwmqN4MEmSZ7CeS4TQrS4B0LAAnbAgLOjQbK54MA8a+dBtrsewXu+q8FTWFjAY4eQQXHR4kAYGA9COXOWQblJOkFfoMJAWIC4QcrOHEKV2L1Bjm4nQGsi/EGTdxNC0VdYwFcKxkCvs9XBfsOqQC8NLEAdZspB/jMtQFcKxkAWTMHBDmIcQboZK8H1hDHBEPCbQU+9iEAmMN4/HC1OwcRoVMGOLfZBfLUfwi2VPUF2bZ5BlzVEQVCQe0HSHi1C0h4tQuBsPELmB8hBkT8vQax3KUE2kjxC2fWoQhIYP0KgTR5C2HcjQq+z1cGvs9XBOQ64wKNvJ8L3CnBBtPEtQSKniEC+zYFBqTcewpDsmMDp6FXBg28ewhJ8tT9zrYw/amBVwaA5Z8GdnWrBcdwRQjeL7EHxo/NBaK2cwAkeKsIr+OfB5O2+wftGNcKD0ZNAl4T7QdZOLsITCEPAPv0JwjD9CcKCuy/CuIb0wUXEL8KQUxTClXaaQLoSlMH+rjNB63cYwZBTFMK/HgvBpPu6QG1WC8GtFgvBvir8QZBTFMKQUxTCeH2Rwds0kMGqFJTBAywtwsQ5lMEQNA3CMic4whKvMMKQUxTCkFMUwv0zDcL3CzjCDRwuwpBTFMKQvgHC9eIUwpBTFMKQUxTCOacswpBTFMJ1Biy9658CQoK7WkH14hTCfYhhwtboI8LMTHjBizYFwos2BcJVYCnBvNEDwlAfHMFi9kHCI+OBQIs2BcIj44FAf+NEwAJOyED1khJCjAO2vRxU8sCMA7a9Jc8wwkT/OMIhBUTCxDmUwSZJnsLeKFDC7V0iwgqoLsL7XBvC+1wbwowDtr2MA7a9jAO2vYwDtr2MA7a9jAO2vYwDtr2MA7a950w/wvWSEkJ8tR/CJkmewiZJnsKpNx7CsbNywWo5xEDioITB18wywsz/fcG7vjbBq7dgwqu3YMKk+7pA4Apcwjjc8sGdoIjB7eQ2wr8bBcImSZ7ChnuOwa+z1cEhCglBIQoJQSZJnsKvs9XBVC0Twhn4DUEypCpAMqQqQBUruMFmxIJA9r84QZrmPj6MyGFBZsSCQDNCM0AzQjNAM0IzQF0/ikCGe47Bd7j3weAKXMJHQV7C/fZUwuQMQMJYwg/C4Apcwq+z1cEGsyrC9ZISQrD0A0IJbJfBr7PVwQJ9hj/ZeiFBx2SIwPnQBUJ5lkTB+g9BwlVbQsIIDALCtbkewggMAsItxR7BCAwCwoZ7jsFqOcRA4Apcwne498EZpCrCT0ZZwlns9cHk7b7Br7PVwSZJnsLgClzC69ovwtdJQsJ5LhNCmFKtwcz/fcH2NrdB9ja3QblJOkH2NrdBys4cQtbUmkHup5VB9eIUwif+n0ELQIlA2jU0weTUCkCIRjTBhDM0wWsi/EHQkLtBhnuOwYwDtr0WTMHBFkzBwZX+HsLgs4rBGzHzv0egC8HaXyDCaahqwXAbisGQH79BXr7NQT91F8IpHiDBVwrGQIF5zkG/rsNB/Q4kwpX+HsKQTzTC4LOKwVoQPcIbMfO/t3mbv1cKxkC696FCTUtKQtZoDUIyuBhCo0+aQfcDRkIhCglBhTp4QO/CRUCFOnhA78JFQLpaGsLaXyDC2SvpwKMHg0F+w6pAMqQqQBvZjMG+5RTCCz+ZwNuyQ8HfNkrBftckQMYoTEA/dRfC8PxCwZ22SMHb3wdCsLV7QegpVEJPeyfC2SaqQVKHP0EpHiDBk5iLQDL/98EeV0bCDGbiQAxm4kBPFwJA4P22P/TK+sD0yvrA4P22P/TK+sD0yvrATxcCQEv+EcERTPzAWl8ywiZJnsJCDh5Cjz+DwcUvE0IfFtfBCz+ZwC9vHcLAd/7BHldGwr/REcJwwkLBL28dwiZJnsJQHuJA46v/wZZ6XcIbMfO/GzHzv4F5zkEfABLBwHf+wSPjgUBnq+lBnaCIwXbKvEEcfsFBdsq8QWOHkEEYGA9Cys4cQq+z1cFtBYrBBXePvxe9asEbUklCUUKdQYbsHkI9aIdBjAO2vYwDtr0RB4PBNckMQniN4cCu9MA/M1kXwnC3KEJwtyhCbjqCQT91F8KbPnTASjEZwgnr10DvMK3BYtqJwW6UkcC5Ti9ClfO4wVTWksGYU4jBcdHiQF+gwkBYgLhBkvbxwZL28cGS9vHBX/3MQJ/aHcJj6iDCGJx1wQv8Q8KMA7a9kvbxwVcKxkCMA7a9VwrGQFcKxkCMA7a9VwrGQGtfQcK4GufBuBrnwX6LDcHS7AFC9lOoQvDBn0Ld2kdCyvgWQphSrcFqjeDB8MGfQvDBn0Jg7AhCdlPOwZVxmcGZUEXCn1WjQYwDtr0mX8RBMFZDQtFyDkJ/40TAKHFPQtixpkGHHzxCsiglQrIoJUKrt2DCJkIGQmoiQELrQARCPqEIQuGTFEJYHDlCakQwwQnND0KQH79B8MGfQq+z1cGVcZnBc7emwfDBn0Jpn5hC080/QnghB0Jzt6bBJFFbwsu7LMK0uAdCn0CoP9BpbcAVrxjCZEy9Pw0gp0Hy5shBudErwm4yJMLPRz5BjC2SQb/fKkHujpdBKmvIQWFoRkLf1RNCLw0sQET5B0KjhZ1CZihAQujBBkLYoDlCHP4cQTqsKUJx00dCa/m2wVTWksEFkoNAw0ABQrS4B0IZ/Z5CR8uWQZhSrcEtS8jBwAJ2wICzo0GyueDAZ6vpQXHR4kAYGA9COXOWQZM3OUFfoMJAys4cQpXYvUE1qD1COa8CQlJPmEIVgARCPGvnQRUruMEVK7jBiRwfwV9mYcLNCSpBc7emwXO3psFzt6bB4LOKwYkzLcIP1ndBzHGfQcagK0HPZEVCYpKwQVmoRELZeiFBzfRHQtOQsEGLHUNCjv6KwXAbisH9C43B2l8gwh14fcFpqGrBT6p1wdM2g8HTNoPB5WMlwl7GC8JwG4rBX7gywHiN4cBMH/A/22TEQSPjgUDF+uNAr7PVwTVt38EcfsFB8lZFwV9Ai8Ee5ndBXr7NQVcKxkDKlRBA+ChQwE3G7kApHiDBjAO2vZRM9MFysmC9WmmLwbXAmkGKSC9BjAO2vUIOHkK6D5hCszV2wWvQFcGWR3rBA45WwrbSIMEvbx3CiwY0wYwDtr3N9EdCix1DQpAfv0Fuo7/BVhY9wlDeQMKMA7a9PICVwUdBXsLN9EdCix1DQqz6QcGArhjCuGIvwh14fcGAec5B7zxnQcqRi0FTULY/JJ+jQfDphkEfABLBXsUuwvDJrEAOh4XBpnkrwf1LZcDrS2XACUfIQVWIc8G6jrlASicjwfHrA0LBEk3CRE8AQhD9/kGm5KBBpuSgQabkoEEzfZ1BdIv7QcKC+EGFOnhA78JFQLI++0GyPvtBJWcBQh3CmEEbwphBQVV0QEFVdEAlZwFCQVV0QEFVdECyPvtBsj77QSVnAUKcUsJAK2a0QFm720BXCsZAZQbQQcJ7ScI8a+dBdsq8QWRjS8IgFUjCr7PVwYwDtr1jkUrCvSHnwSg97cG9IefB50w/wvk158EoPe3BKD3twSg97cG6XU7C+TXnwUwg98F8tR/CQVV0QGZzTsLBEk3Cul1OwsK+EsFkY0vCcn2XQa+z1cGcUsJAK2a0QMESTcKMA7a9Z6vpQXbKvEErZrRAY5FKwlcKxkBjkUrCVwrGQH7DqkAZF7VAPRjtwRkXtUDCvhLBbJGwQWer6UF2yrxB6mHOQV2zRsIoPe3BIQoJQcESTcJds0bC9LtKwn6T3EBds0bCsrngwCu1SUIyuBhCdpcLQjXAmEElRzFBhobWQFvLoEHIt8dB9wNGQgBixkD3CnBBPX8LQPGj80FYwg/C9ZISQpVxmcFV5PjBjz+DwX2taUE2gF9BnbM6QikpjcGnaVFCdpgqQUm1IUFUuSFBVGI7Qj6hCELhkxRCoAGPwcbW+8CfQKg/zFzEQPwZmUEHKFdBqlXgP8hwBEC6silBz0c+Qb2me0G+NE1BkgKAQW7dOUIq/5RBx2SIwPnQBUKTEDxCRPkHQsNAAUK0uAdCsrngwItDJMI6hylATUtKQjK4GEJ2lwtCNcCYQSRHMUFkP6VChobWQFvLoEHIt8dB9wNGQsg1REH3CnBBLJwFQPGj80GVcZnBVeT4wQykH8JYwg/C4ApcwicmNMH3tp5ABZKDQLcaBcIKMM/BbZvAwDoD/cGw3uXAv+0hwsC8/8DmjgLBV4vJP4Zp7kGZXovAPICVwb1lIcIniinCXEdVQDyAlcEc0CvC+G9AQPhvQEBupF/BaVnKP41iX8F/JPJBKgr9QX8T7kAFNzlB0xPuQJM3OUGN/yrCYJWKwf0kM8L9JDPCgMYywmCVisFglYrBYJWKwcqVEED82hTCPGvnQWer6UF2yrxBI+OBQMsbEcJnq+lB78JFQO/CRUAj44FAt8TbQRvZjMFnq+lBI+OBQHFfwcG8AQLC4dMUwiPjgUB+w6pAGRe1QBkXtUAzBJ5B7V/UQIwDtr1nq+lBdsq8QStmtECMA7a9yxsRwvzaFMJXCsZA6EC7QTtE60DcK6NAOY7MQOhQkUDMxJZAzsUZwUXRFkHoQLtB6EC7QehAu0H82hTCjesfwssbEcKjLyrB4dMUwrwBAsLLGxHCyxsRwssbEcLh0xTCEITIwYwDtr3h0xTCZ6vpQZlJhcHjYMu/F71qwRtSSUImxPvBUUKdQYbsHkI9aIdBjAO2vdPTfMGMA7a9wfQnwlD9dUHp6FXBtZACwRJ8tT+HsQlAoDlnwXHcEUJorZzACR4qwk4HLcK2OrVAqnpGQrjcZ8Ei/4NBxgQSQlMlk8CP1yvCRO/uPzz6QcH/2QNAAPOaQWfKLkG5Ti9Ca/m2wZyEjcFx0eJAX6DCQFiAuEGf2h3CY+ogwhicdcH9C43BC/xDwkdBXsKMA7a9jAO2vWtfQcK4GufBfosNwYgw80CO06BBjtOgQQttCEIOsqRBY4eQQcrOHELW1JpB7qeVQZXYvUGMA7a9jAO2vYwDtr2MA7a9jAO2vQlDAkKMA7a99lOoQvDBn0Ld2kdCyvgWQi31lcGYUq3BfYhhwmqN4MHwwZ9C8MGfQgttCEIJVM7BlXGZwZlQRcKfVaNBjAO2vSZfxEFxV0NC0XIOQn/jRMAocU9C2LGmQYcfPEKyKCVCsiglQqu3YMImQgZCaiJAQutABEI+oQhC4ZMUQlgcOUJqRDDBCc0PQr+uw0HwwZ9CEITIwZVxmcFzt6bB8MGfQr1lIcILIg5CO/0FQmmfmEJd6D5CeCEHQnO3psEkUVvCy7sswglDAkKfQKg/0GltwBWvGMJkTL0/DSCnQfLmyEG50SvCbjIkws9HPkGoFphBv98qQdfBmUEqa8hB8gBGQt/VE0JXCsZA0GltwET5B0KjhZ1CZihAQujBBkLYoDlCHP4cQTqsKUJx00dCZ622wZyEjcFMJw1BCUMCQrS4B0IZ/Z5CRCCSQZhSrcEQhMjB43qQwICzo0Gzau/APGvnQXHR4kAYGA9COXOWQZM3OUFfoMJAys4cQpXYvUE1qD1COa8CQq8UmUIVgARCZ6vpQRUruMEVK7jBiRwfwV9mYcLNCSpBc7emwXO3psFzt6bB\",\"dtype\":\"float32\",\"order\":\"little\",\"shape\":[2805]}},\"selected\":{\"id\":\"1045\"},\"selection_policy\":{\"id\":\"1046\"}},\"id\":\"1035\",\"type\":\"ColumnDataSource\"},{\"attributes\":{\"fill_color\":{\"field\":\"fill_color\"},\"line_color\":{\"field\":\"line_color\"},\"x\":{\"field\":\"x\"},\"y\":{\"field\":\"y\"}},\"id\":\"1036\",\"type\":\"Scatter\"},{\"attributes\":{},\"id\":\"1021\",\"type\":\"PanTool\"},{\"attributes\":{},\"id\":\"1045\",\"type\":\"Selection\"},{\"attributes\":{},\"id\":\"1022\",\"type\":\"WheelZoomTool\"},{\"attributes\":{},\"id\":\"1024\",\"type\":\"SaveTool\"}],\"root_ids\":[\"1002\"]},\"title\":\"Bokeh Application\",\"version\":\"2.1.1\"}};\n",
       "  var render_items = [{\"docid\":\"5a6320d0-3f70-4cf4-9443-c6570c4a169f\",\"root_ids\":[\"1002\"],\"roots\":{\"1002\":\"ac8e5c80-e69d-4fb4-9570-45eae4e82392\"}}];\n",
       "  root.Bokeh.embed.embed_items_notebook(docs_json, render_items);\n",
       "\n",
       "  }\n",
       "  if (root.Bokeh !== undefined) {\n",
       "    embed_document(root);\n",
       "  } else {\n",
       "    var attempts = 0;\n",
       "    var timer = setInterval(function(root) {\n",
       "      if (root.Bokeh !== undefined) {\n",
       "        clearInterval(timer);\n",
       "        embed_document(root);\n",
       "      } else {\n",
       "        attempts++;\n",
       "        if (attempts > 100) {\n",
       "          clearInterval(timer);\n",
       "          console.log(\"Bokeh: ERROR: Unable to run BokehJS code because BokehJS library is missing\");\n",
       "        }\n",
       "      }\n",
       "    }, 10, root)\n",
       "  }\n",
       "})(window);"
      ],
      "application/vnd.bokehjs_exec.v0+json": ""
     },
     "metadata": {
      "application/vnd.bokehjs_exec.v0+json": {
       "id": "1002"
      }
     },
     "output_type": "display_data"
    }
   ],
   "source": [
    "from sklearn.cluster import KMeans\n",
    "from bokeh.plotting import figure, output_file, show\n",
    "from bokeh.models import Label\n",
    "from bokeh.io import output_notebook \n",
    "\n",
    "clusters = KMeans(n_clusters = number_topics, random_state=100).fit_predict(lda_output)\n",
    "\n",
    "topic_num = np.argmax(lda_output, axis=1)\n",
    "\n",
    "## tsne\n",
    "tsne = TSNE(n_components=2, verbose=1, random_state=0, angle=.99, init='pca')\n",
    "tsne_lda = tsne.fit_transform(lda_output)\n",
    " \n",
    "output_notebook()\n",
    "plot = figure(title='t-SNE clustering for {} LDA topics'.format(number_topics), plot_width = 900, plot_height = 700)\n",
    "plot.scatter(x = tsne_lda[:,0], y = tsne_lda[:,1], color = mycolors[topic_num])\n",
    "show(plot)"
   ]
  },
  {
   "cell_type": "code",
   "execution_count": null,
   "metadata": {},
   "outputs": [],
   "source": []
  },
  {
   "cell_type": "code",
   "execution_count": null,
   "metadata": {},
   "outputs": [],
   "source": []
  }
 ],
 "metadata": {
  "kernelspec": {
   "display_name": "Python 3",
   "language": "python",
   "name": "python3"
  },
  "language_info": {
   "codemirror_mode": {
    "name": "ipython",
    "version": 3
   },
   "file_extension": ".py",
   "mimetype": "text/x-python",
   "name": "python",
   "nbconvert_exporter": "python",
   "pygments_lexer": "ipython3",
   "version": "3.8.2"
  }
 },
 "nbformat": 4,
 "nbformat_minor": 4
}
